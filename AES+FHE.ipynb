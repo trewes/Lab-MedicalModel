{
 "cells": [
  {
   "cell_type": "markdown",
   "source": [
    "what we want:\n",
    "1.Encrypt the AES key with FHE.\n",
    "2.Encrypt the inputs with AES.\n",
    "3.Send encrypted inputs and encrypted key to cloud.\n",
    "4.Cloud uses encrypted AES key and AES encrypted inputs and runs the AES decryption circuit homomorphically. The outputs are FHE encrypted inputs.\n",
    "5.Run computations on the FHE encrypted inputs.\n",
    "6.Return FHE encrypted result to client."
   ],
   "metadata": {
    "collapsed": false,
    "pycharm": {
     "name": "#%% md\n"
    }
   }
  },
  {
   "cell_type": "markdown",
   "source": [
    "AES first simple experiments"
   ],
   "metadata": {
    "collapsed": false,
    "pycharm": {
     "name": "#%% md\n"
    }
   }
  },
  {
   "cell_type": "code",
   "execution_count": 2,
   "outputs": [
    {
     "name": "stdout",
     "output_type": "stream",
     "text": [
      "b'secret data'\n",
      "b'\\x9f\\x87\\x1d\\xd2\\x11.\\x9cU\\xa1\\x9d\\x81\\\\Q\\xfe\\xb5B'\n",
      "b'secret data'\n"
     ]
    }
   ],
   "source": [
    "from Crypto.Cipher import AES\n",
    "from Crypto.Random import get_random_bytes\n",
    "from Crypto.Util.Padding import pad\n",
    "from Crypto.Util.Padding import unpad\n",
    "\n",
    "data = b'secret data'\n",
    "print(data)\n",
    "\n",
    "key = get_random_bytes(16)\n",
    "cipher = AES.new(key, AES.MODE_ECB)\n",
    "padded_data = pad(data, AES.block_size)\n",
    "ciphertext = cipher.encrypt(padded_data)\n",
    "print(ciphertext)\n",
    "\n",
    "\n",
    "# let's assume that the key is somehow available again\n",
    "cipher = AES.new(key, AES.MODE_ECB)\n",
    "padded_data = cipher.decrypt(ciphertext)\n",
    "unpadded_data = unpad(padded_data, AES.block_size)\n",
    "\n",
    "print(unpadded_data)"
   ],
   "metadata": {
    "collapsed": false,
    "pycharm": {
     "name": "#%%\n"
    }
   }
  },
  {
   "cell_type": "markdown",
   "source": [
    "FHE first simple experiments"
   ],
   "metadata": {
    "collapsed": false,
    "pycharm": {
     "name": "#%% md\n"
    }
   }
  },
  {
   "cell_type": "code",
   "execution_count": 13,
   "outputs": [
    {
     "ename": "TypeError",
     "evalue": "object of type 'NPTracer' has no len()",
     "output_type": "error",
     "traceback": [
      "\u001B[0;31m---------------------------------------------------------------------------\u001B[0m",
      "\u001B[0;31mTypeError\u001B[0m                                 Traceback (most recent call last)",
      "Input \u001B[0;32mIn [13]\u001B[0m, in \u001B[0;36m<cell line: 9>\u001B[0;34m()\u001B[0m\n\u001B[1;32m      6\u001B[0m     \u001B[38;5;28;01mreturn\u001B[39;00m cipher\u001B[38;5;241m.\u001B[39mdecrypt(c)\n\u001B[1;32m      8\u001B[0m compiler \u001B[38;5;241m=\u001B[39m cnp\u001B[38;5;241m.\u001B[39mNPFHECompiler(foo, {\u001B[38;5;124m\"\u001B[39m\u001B[38;5;124mc\u001B[39m\u001B[38;5;124m\"\u001B[39m: \u001B[38;5;124m\"\u001B[39m\u001B[38;5;124mencrypted\u001B[39m\u001B[38;5;124m\"\u001B[39m})\n\u001B[0;32m----> 9\u001B[0m circuit \u001B[38;5;241m=\u001B[39m \u001B[43mcompiler\u001B[49m\u001B[38;5;241;43m.\u001B[39;49m\u001B[43mcompile_on_inputset\u001B[49m\u001B[43m(\u001B[49m\u001B[43mnp\u001B[49m\u001B[38;5;241;43m.\u001B[39;49m\u001B[43marray\u001B[49m\u001B[43m(\u001B[49m\u001B[43m[\u001B[49m\u001B[38;5;241;43m1\u001B[39;49m\u001B[43m,\u001B[49m\u001B[43m \u001B[49m\u001B[38;5;241;43m2\u001B[39;49m\u001B[43m]\u001B[49m\u001B[43m)\u001B[49m\u001B[43m)\u001B[49m\n",
      "File \u001B[0;32m~/.local/lib/python3.8/site-packages/concrete/numpy/np_fhe_compiler.py:279\u001B[0m, in \u001B[0;36mNPFHECompiler.compile_on_inputset\u001B[0;34m(self, inputset, show_mlir)\u001B[0m\n\u001B[1;32m    262\u001B[0m \u001B[38;5;28;01mdef\u001B[39;00m \u001B[38;5;21mcompile_on_inputset\u001B[39m(\n\u001B[1;32m    263\u001B[0m     \u001B[38;5;28mself\u001B[39m,\n\u001B[1;32m    264\u001B[0m     inputset: Union[Iterable[Any], Iterable[Tuple[Any, \u001B[38;5;241m.\u001B[39m\u001B[38;5;241m.\u001B[39m\u001B[38;5;241m.\u001B[39m]]],\n\u001B[1;32m    265\u001B[0m     show_mlir: \u001B[38;5;28mbool\u001B[39m \u001B[38;5;241m=\u001B[39m \u001B[38;5;28;01mFalse\u001B[39;00m,\n\u001B[1;32m    266\u001B[0m ) \u001B[38;5;241m-\u001B[39m\u001B[38;5;241m>\u001B[39m FHECircuit:\n\u001B[1;32m    267\u001B[0m     \u001B[38;5;124;03m\"\"\"Compile the function on an inputset and get resulting FHECircuit.\u001B[39;00m\n\u001B[1;32m    268\u001B[0m \n\u001B[1;32m    269\u001B[0m \u001B[38;5;124;03m    Args:\u001B[39;00m\n\u001B[0;32m   (...)\u001B[0m\n\u001B[1;32m    276\u001B[0m \u001B[38;5;124;03m        FHECircuit: the compiled FHECircuit\u001B[39;00m\n\u001B[1;32m    277\u001B[0m \u001B[38;5;124;03m    \"\"\"\u001B[39;00m\n\u001B[0;32m--> 279\u001B[0m     \u001B[38;5;28;43mself\u001B[39;49m\u001B[38;5;241;43m.\u001B[39;49m\u001B[43meval_on_inputset\u001B[49m\u001B[43m(\u001B[49m\u001B[43minputset\u001B[49m\u001B[43m)\u001B[49m\n\u001B[1;32m    280\u001B[0m     \u001B[38;5;28;01mreturn\u001B[39;00m \u001B[38;5;28mself\u001B[39m\u001B[38;5;241m.\u001B[39mget_compiled_fhe_circuit(show_mlir)\n",
      "File \u001B[0;32m~/.local/lib/python3.8/site-packages/concrete/numpy/np_fhe_compiler.py:206\u001B[0m, in \u001B[0;36mNPFHECompiler.eval_on_inputset\u001B[0;34m(self, inputset, warn_on_inputset_length)\u001B[0m\n\u001B[1;32m    192\u001B[0m     \u001B[38;5;28;01mreturn\u001B[39;00m\n\u001B[1;32m    194\u001B[0m inferred_args \u001B[38;5;241m=\u001B[39m {\n\u001B[1;32m    195\u001B[0m     param_name: get_base_value_for_numpy_or_python_constant_data(val)(\n\u001B[1;32m    196\u001B[0m         is_encrypted\u001B[38;5;241m=\u001B[39mis_encrypted\n\u001B[0;32m   (...)\u001B[0m\n\u001B[1;32m    203\u001B[0m     )\n\u001B[1;32m    204\u001B[0m }\n\u001B[0;32m--> 206\u001B[0m \u001B[38;5;28;43mself\u001B[39;49m\u001B[38;5;241;43m.\u001B[39;49m\u001B[43m_trace_op_graph_if_needed\u001B[49m\u001B[43m(\u001B[49m\u001B[43minferred_args\u001B[49m\u001B[43m)\u001B[49m\n\u001B[1;32m    208\u001B[0m \u001B[38;5;66;03m# For mypy\u001B[39;00m\n\u001B[1;32m    209\u001B[0m \u001B[38;5;28;01massert\u001B[39;00m \u001B[38;5;28mself\u001B[39m\u001B[38;5;241m.\u001B[39m_op_graph \u001B[38;5;129;01mis\u001B[39;00m \u001B[38;5;129;01mnot\u001B[39;00m \u001B[38;5;28;01mNone\u001B[39;00m\n",
      "File \u001B[0;32m~/.local/lib/python3.8/site-packages/concrete/numpy/np_fhe_compiler.py:237\u001B[0m, in \u001B[0;36mNPFHECompiler._trace_op_graph_if_needed\u001B[0;34m(self, inferred_args)\u001B[0m\n\u001B[1;32m    234\u001B[0m \u001B[38;5;28;01mif\u001B[39;00m \u001B[38;5;129;01mnot\u001B[39;00m \u001B[38;5;28mself\u001B[39m\u001B[38;5;241m.\u001B[39m_needs_tracing():\n\u001B[1;32m    235\u001B[0m     \u001B[38;5;28;01mreturn\u001B[39;00m\n\u001B[0;32m--> 237\u001B[0m \u001B[38;5;28mself\u001B[39m\u001B[38;5;241m.\u001B[39m_op_graph \u001B[38;5;241m=\u001B[39m \u001B[43mcompile_numpy_function_into_op_graph\u001B[49m\u001B[43m(\u001B[49m\n\u001B[1;32m    238\u001B[0m \u001B[43m    \u001B[49m\u001B[38;5;28;43mself\u001B[39;49m\u001B[38;5;241;43m.\u001B[39;49m\u001B[43mfunction_to_compile\u001B[49m\u001B[43m,\u001B[49m\n\u001B[1;32m    239\u001B[0m \u001B[43m    \u001B[49m\u001B[43minferred_args\u001B[49m\u001B[43m,\u001B[49m\n\u001B[1;32m    240\u001B[0m \u001B[43m    \u001B[49m\u001B[38;5;28;43mself\u001B[39;49m\u001B[38;5;241;43m.\u001B[39;49m\u001B[43m_compilation_configuration\u001B[49m\u001B[43m,\u001B[49m\n\u001B[1;32m    241\u001B[0m \u001B[43m    \u001B[49m\u001B[38;5;28;43mself\u001B[39;49m\u001B[38;5;241;43m.\u001B[39;49m\u001B[43mcompilation_artifacts\u001B[49m\u001B[43m,\u001B[49m\n\u001B[1;32m    242\u001B[0m \u001B[43m\u001B[49m\u001B[43m)\u001B[49m\n",
      "File \u001B[0;32m~/.local/lib/python3.8/site-packages/concrete/numpy/compile.py:258\u001B[0m, in \u001B[0;36mcompile_numpy_function_into_op_graph\u001B[0;34m(function_to_compile, function_parameters, compilation_configuration, compilation_artifacts)\u001B[0m\n\u001B[1;32m    250\u001B[0m \u001B[38;5;28;01mdef\u001B[39;00m \u001B[38;5;21mcompilation_function\u001B[39m():\n\u001B[1;32m    251\u001B[0m     \u001B[38;5;28;01mreturn\u001B[39;00m _compile_numpy_function_into_op_graph_internal(\n\u001B[1;32m    252\u001B[0m         function_to_compile,\n\u001B[1;32m    253\u001B[0m         function_parameters,\n\u001B[1;32m    254\u001B[0m         compilation_configuration,\n\u001B[1;32m    255\u001B[0m         compilation_artifacts,\n\u001B[1;32m    256\u001B[0m     )\n\u001B[0;32m--> 258\u001B[0m result \u001B[38;5;241m=\u001B[39m \u001B[43mrun_compilation_function_with_error_management\u001B[49m\u001B[43m(\u001B[49m\n\u001B[1;32m    259\u001B[0m \u001B[43m    \u001B[49m\u001B[43mcompilation_function\u001B[49m\u001B[43m,\u001B[49m\u001B[43m \u001B[49m\u001B[43mcompilation_configuration\u001B[49m\u001B[43m,\u001B[49m\u001B[43m \u001B[49m\u001B[43mcompilation_artifacts\u001B[49m\n\u001B[1;32m    260\u001B[0m \u001B[43m\u001B[49m\u001B[43m)\u001B[49m\n\u001B[1;32m    262\u001B[0m \u001B[38;5;66;03m# for mypy\u001B[39;00m\n\u001B[1;32m    263\u001B[0m \u001B[38;5;28;01massert\u001B[39;00m \u001B[38;5;28misinstance\u001B[39m(result, OPGraph)\n",
      "File \u001B[0;32m~/.local/lib/python3.8/site-packages/concrete/numpy/compile.py:142\u001B[0m, in \u001B[0;36mrun_compilation_function_with_error_management\u001B[0;34m(compilation_function, compilation_configuration, compilation_artifacts)\u001B[0m\n\u001B[1;32m    139\u001B[0m \u001B[38;5;28;01mtry\u001B[39;00m:\n\u001B[1;32m    140\u001B[0m     \u001B[38;5;66;03m# Use context manager to restore numpy error handling\u001B[39;00m\n\u001B[1;32m    141\u001B[0m     \u001B[38;5;28;01mwith\u001B[39;00m numpy\u001B[38;5;241m.\u001B[39merrstate(\u001B[38;5;241m*\u001B[39m\u001B[38;5;241m*\u001B[39mnumpy\u001B[38;5;241m.\u001B[39mgeterr()):\n\u001B[0;32m--> 142\u001B[0m         \u001B[38;5;28;01mreturn\u001B[39;00m \u001B[43mcompilation_function\u001B[49m\u001B[43m(\u001B[49m\u001B[43m)\u001B[49m\n\u001B[1;32m    143\u001B[0m \u001B[38;5;28;01mexcept\u001B[39;00m \u001B[38;5;167;01mException\u001B[39;00m:  \u001B[38;5;66;03m# pragma: no cover\u001B[39;00m\n\u001B[1;32m    144\u001B[0m     \u001B[38;5;66;03m# This branch is reserved for unexpected issues and hence it shouldn't be tested.\u001B[39;00m\n\u001B[1;32m    145\u001B[0m     \u001B[38;5;66;03m# If it could be tested, we would have fixed the underlying issue.\u001B[39;00m\n\u001B[1;32m    146\u001B[0m \n\u001B[1;32m    147\u001B[0m     \u001B[38;5;66;03m# We need to export all the information we have about the compilation\u001B[39;00m\n\u001B[1;32m    148\u001B[0m     \u001B[38;5;66;03m# If the user wants them to be exported\u001B[39;00m\n\u001B[1;32m    150\u001B[0m     \u001B[38;5;28;01mif\u001B[39;00m compilation_configuration\u001B[38;5;241m.\u001B[39mdump_artifacts_on_unexpected_failures:\n",
      "File \u001B[0;32m~/.local/lib/python3.8/site-packages/concrete/numpy/compile.py:251\u001B[0m, in \u001B[0;36mcompile_numpy_function_into_op_graph.<locals>.compilation_function\u001B[0;34m()\u001B[0m\n\u001B[1;32m    250\u001B[0m \u001B[38;5;28;01mdef\u001B[39;00m \u001B[38;5;21mcompilation_function\u001B[39m():\n\u001B[0;32m--> 251\u001B[0m     \u001B[38;5;28;01mreturn\u001B[39;00m \u001B[43m_compile_numpy_function_into_op_graph_internal\u001B[49m\u001B[43m(\u001B[49m\n\u001B[1;32m    252\u001B[0m \u001B[43m        \u001B[49m\u001B[43mfunction_to_compile\u001B[49m\u001B[43m,\u001B[49m\n\u001B[1;32m    253\u001B[0m \u001B[43m        \u001B[49m\u001B[43mfunction_parameters\u001B[49m\u001B[43m,\u001B[49m\n\u001B[1;32m    254\u001B[0m \u001B[43m        \u001B[49m\u001B[43mcompilation_configuration\u001B[49m\u001B[43m,\u001B[49m\n\u001B[1;32m    255\u001B[0m \u001B[43m        \u001B[49m\u001B[43mcompilation_artifacts\u001B[49m\u001B[43m,\u001B[49m\n\u001B[1;32m    256\u001B[0m \u001B[43m    \u001B[49m\u001B[43m)\u001B[49m\n",
      "File \u001B[0;32m~/.local/lib/python3.8/site-packages/concrete/numpy/compile.py:208\u001B[0m, in \u001B[0;36m_compile_numpy_function_into_op_graph_internal\u001B[0;34m(function_to_compile, function_parameters, compilation_configuration, compilation_artifacts)\u001B[0m\n\u001B[1;32m    205\u001B[0m     compilation_artifacts\u001B[38;5;241m.\u001B[39madd_parameter_of_function_to_compile(name, \u001B[38;5;28mstr\u001B[39m(value))\n\u001B[1;32m    207\u001B[0m \u001B[38;5;66;03m# Trace the function\u001B[39;00m\n\u001B[0;32m--> 208\u001B[0m op_graph \u001B[38;5;241m=\u001B[39m \u001B[43mtrace_numpy_function\u001B[49m\u001B[43m(\u001B[49m\u001B[43mfunction_to_compile\u001B[49m\u001B[43m,\u001B[49m\u001B[43m \u001B[49m\u001B[43mfunction_parameters\u001B[49m\u001B[43m)\u001B[49m\n\u001B[1;32m    210\u001B[0m \u001B[38;5;66;03m# Add the initial graph as an artifact\u001B[39;00m\n\u001B[1;32m    211\u001B[0m compilation_artifacts\u001B[38;5;241m.\u001B[39madd_operation_graph(\u001B[38;5;124m\"\u001B[39m\u001B[38;5;124minitial\u001B[39m\u001B[38;5;124m\"\u001B[39m, op_graph)\n",
      "File \u001B[0;32m~/.local/lib/python3.8/site-packages/concrete/numpy/tracing.py:811\u001B[0m, in \u001B[0;36mtrace_numpy_function\u001B[0;34m(function_to_trace, function_parameters)\u001B[0m\n\u001B[1;32m    808\u001B[0m \u001B[38;5;66;03m# We could easily create a graph of NPTracer, but we may end up with dead nodes starting from\u001B[39;00m\n\u001B[1;32m    809\u001B[0m \u001B[38;5;66;03m# the inputs that's why we create the graph starting from the outputs\u001B[39;00m\n\u001B[1;32m    810\u001B[0m \u001B[38;5;28;01mwith\u001B[39;00m tracing_context([NPTracer]):\n\u001B[0;32m--> 811\u001B[0m     output_tracers \u001B[38;5;241m=\u001B[39m \u001B[43mfunction_to_trace\u001B[49m\u001B[43m(\u001B[49m\u001B[38;5;241;43m*\u001B[39;49m\u001B[38;5;241;43m*\u001B[39;49m\u001B[43minput_tracers\u001B[49m\u001B[43m)\u001B[49m\n\u001B[1;32m    813\u001B[0m \u001B[38;5;28;01mif\u001B[39;00m \u001B[38;5;28misinstance\u001B[39m(output_tracers, NPTracer):\n\u001B[1;32m    814\u001B[0m     output_tracers \u001B[38;5;241m=\u001B[39m (output_tracers,)\n",
      "Input \u001B[0;32mIn [13]\u001B[0m, in \u001B[0;36mfoo\u001B[0;34m(c)\u001B[0m\n\u001B[1;32m      5\u001B[0m \u001B[38;5;28;01mdef\u001B[39;00m \u001B[38;5;21mfoo\u001B[39m(c):\n\u001B[0;32m----> 6\u001B[0m     \u001B[38;5;28;01mreturn\u001B[39;00m \u001B[43mcipher\u001B[49m\u001B[38;5;241;43m.\u001B[39;49m\u001B[43mdecrypt\u001B[49m\u001B[43m(\u001B[49m\u001B[43mc\u001B[49m\u001B[43m)\u001B[49m\n",
      "File \u001B[0;32m/usr/local/lib/python3.8/dist-packages/Crypto/Cipher/_mode_ecb.py:179\u001B[0m, in \u001B[0;36mEcbMode.decrypt\u001B[0;34m(self, ciphertext, output)\u001B[0m\n\u001B[1;32m    150\u001B[0m \u001B[38;5;124;03m\"\"\"Decrypt data with the key set at initialization.\u001B[39;00m\n\u001B[1;32m    151\u001B[0m \n\u001B[1;32m    152\u001B[0m \u001B[38;5;124;03mThe data to decrypt can be broken up in two or\u001B[39;00m\n\u001B[0;32m   (...)\u001B[0m\n\u001B[1;32m    175\u001B[0m \u001B[38;5;124;03m  Otherwise, ``None``.\u001B[39;00m\n\u001B[1;32m    176\u001B[0m \u001B[38;5;124;03m\"\"\"\u001B[39;00m\n\u001B[1;32m    178\u001B[0m \u001B[38;5;28;01mif\u001B[39;00m output \u001B[38;5;129;01mis\u001B[39;00m \u001B[38;5;28;01mNone\u001B[39;00m:\n\u001B[0;32m--> 179\u001B[0m     plaintext \u001B[38;5;241m=\u001B[39m create_string_buffer(\u001B[38;5;28;43mlen\u001B[39;49m\u001B[43m(\u001B[49m\u001B[43mciphertext\u001B[49m\u001B[43m)\u001B[49m)\n\u001B[1;32m    180\u001B[0m \u001B[38;5;28;01melse\u001B[39;00m:\n\u001B[1;32m    181\u001B[0m     plaintext \u001B[38;5;241m=\u001B[39m output\n",
      "\u001B[0;31mTypeError\u001B[0m: object of type 'NPTracer' has no len()"
     ]
    }
   ],
   "source": [
    "import numpy as np\n",
    "import concrete.numpy as cnp\n",
    "\n",
    "\n",
    "def foo(c):\n",
    "    return cipher.decrypt(c)\n",
    "\n",
    "compiler = cnp.NPFHECompiler(foo, {\"c\": \"encrypted\"})\n",
    "circuit = compiler.compile_on_inputset(np.array([1, 2]))\n"
   ],
   "metadata": {
    "collapsed": false,
    "pycharm": {
     "name": "#%%\n"
    }
   }
  },
  {
   "cell_type": "code",
   "execution_count": 2,
   "outputs": [],
   "source": [],
   "metadata": {
    "collapsed": false,
    "pycharm": {
     "name": "#%%\n"
    }
   }
  },
  {
   "cell_type": "code",
   "execution_count": 2,
   "outputs": [],
   "source": [],
   "metadata": {
    "collapsed": false,
    "pycharm": {
     "name": "#%%\n"
    }
   }
  },
  {
   "cell_type": "code",
   "execution_count": 2,
   "outputs": [],
   "source": [],
   "metadata": {
    "collapsed": false,
    "pycharm": {
     "name": "#%%\n"
    }
   }
  }
 ],
 "metadata": {
  "kernelspec": {
   "display_name": "Python 3",
   "language": "python",
   "name": "python3"
  },
  "language_info": {
   "codemirror_mode": {
    "name": "ipython",
    "version": 2
   },
   "file_extension": ".py",
   "mimetype": "text/x-python",
   "name": "python",
   "nbconvert_exporter": "python",
   "pygments_lexer": "ipython2",
   "version": "2.7.6"
  }
 },
 "nbformat": 4,
 "nbformat_minor": 0
}
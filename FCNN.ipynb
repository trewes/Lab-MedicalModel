{
 "cells": [
  {
   "cell_type": "markdown",
   "source": [
    "See https://docs.zama.ai/concrete-ml/stable/user/advanced_examples/FullyConnectedNeuralNetwork.html"
   ],
   "metadata": {
    "collapsed": false,
    "pycharm": {
     "name": "#%% md\n"
    }
   }
  },
  {
   "cell_type": "markdown",
   "source": [
    "Fully Connected Neural Network\n",
    "In this example, we show how one can train a neural network on a specific task (here, Iris Classification) and use Concrete-Numpy to make the model work in FHE settings."
   ],
   "metadata": {
    "collapsed": false,
    "pycharm": {
     "name": "#%% md\n"
    }
   }
  },
  {
   "cell_type": "code",
   "execution_count": 1,
   "outputs": [],
   "source": [
    "import numpy as np\n",
    "import torch\n",
    "from torch import nn"
   ],
   "metadata": {
    "collapsed": false,
    "pycharm": {
     "name": "#%%\n"
    }
   }
  },
  {
   "cell_type": "markdown",
   "source": [
    "Define our neural network"
   ],
   "metadata": {
    "collapsed": false,
    "pycharm": {
     "name": "#%% md\n"
    }
   }
  },
  {
   "cell_type": "code",
   "execution_count": 2,
   "outputs": [],
   "source": [
    "class FCIris(torch.nn.Module):\n",
    "    \"\"\"Neural network for Iris classification\n",
    "\n",
    "    We define a fully connected network with three (3) fully connected (fc) layers that\n",
    "    perform feature extraction and one (fc) layer to produce the final classification.\n",
    "    We will use 3 neurons on all layers to ensure that the FHE accumulators\n",
    "    do not overflow (we are currently only allowed a maximum of 7 bits-width).\n",
    "    More information on this is available at\n",
    "    https://docs.zama.ai/concrete-numpy/main/user/howto/reduce_needed_precision.html#limitations-for-fhe-friendly-neural-network.\n",
    "\n",
    "    Due to accumulator limits, we have to design a network with only a few neurons on each layer.\n",
    "    This is in contrast to a traditional approach where the number of neurons increases after\n",
    "    each layer or block.\n",
    "    \"\"\"\n",
    "\n",
    "    def __init__(self, input_size):\n",
    "        super().__init__()\n",
    "\n",
    "        # The first layer processes the input data, in our case 4 dimensional vectors\n",
    "        self.linear1 = nn.Linear(input_size, 3)\n",
    "        self.sigmoid1 = nn.Sigmoid()\n",
    "        # Next, we add a one intermediate layer\n",
    "        self.linear2 = nn.Linear(3, 3)\n",
    "        self.sigmoid2 = nn.Sigmoid()\n",
    "        # Finally, we add the decision layer for 3 output classes encoded as one-hot vectors\n",
    "        self.decision = nn.Linear(3, 3)\n",
    "\n",
    "    def forward(self, x):\n",
    "\n",
    "        x = self.linear1(x)\n",
    "        x = self.sigmoid1(x)\n",
    "        x = self.linear2(x)\n",
    "        x = self.sigmoid2(x)\n",
    "        x = self.decision(x)\n",
    "\n",
    "        return x"
   ],
   "metadata": {
    "collapsed": false,
    "pycharm": {
     "name": "#%%\n"
    }
   }
  },
  {
   "cell_type": "markdown",
   "source": [
    "Define all required variables to train the model"
   ],
   "metadata": {
    "collapsed": false,
    "pycharm": {
     "name": "#%% md\n"
    }
   }
  },
  {
   "cell_type": "code",
   "execution_count": 3,
   "outputs": [],
   "source": [
    "# Get iris dataset\n",
    "from sklearn.datasets import load_iris\n",
    "\n",
    "npX, npy = load_iris(return_X_y=True)\n",
    "\n",
    "# Split into train and test\n",
    "from sklearn.model_selection import train_test_split\n",
    "\n",
    "X_train, X_test, y_train, y_test = train_test_split(npX, npy, test_size=0.25, random_state=42)\n",
    "\n",
    "# Convert to tensors\n",
    "X_train = torch.tensor(X_train).float()\n",
    "X_test = torch.tensor(X_test).float()\n",
    "y_train = torch.tensor(y_train)\n",
    "y_test = torch.tensor(y_test)\n",
    "\n",
    "# Initialize our model\n",
    "model = FCIris(npX.shape[1])\n",
    "\n",
    "# Define our loss function\n",
    "criterion = nn.CrossEntropyLoss()\n",
    "\n",
    "# Define our optimizer\n",
    "optimizer = torch.optim.SGD(model.parameters(), lr=0.1)\n",
    "\n",
    "# Define the number of iterations\n",
    "n_iters = 50001\n",
    "\n",
    "# Define the batch size\n",
    "batch_size = 16"
   ],
   "metadata": {
    "collapsed": false,
    "pycharm": {
     "name": "#%%\n"
    }
   }
  },
  {
   "cell_type": "markdown",
   "source": [
    "Train the model"
   ],
   "metadata": {
    "collapsed": false,
    "pycharm": {
     "name": "#%% md\n"
    }
   }
  },
  {
   "cell_type": "code",
   "execution_count": 4,
   "outputs": [],
   "source": [
    "def train():\n",
    "    for i in range(n_iters):\n",
    "        # Get a random batch of training data\n",
    "        idx = torch.randperm(X_train.size()[0])\n",
    "        X_batch = X_train[idx][:batch_size]\n",
    "        y_batch = y_train[idx][:batch_size]\n",
    "\n",
    "        # Forward pass\n",
    "        y_pred = model(X_batch)\n",
    "\n",
    "        # Compute loss\n",
    "        loss = criterion(y_pred, y_batch)\n",
    "\n",
    "        # Backward pass\n",
    "        optimizer.zero_grad()\n",
    "        loss.backward()\n",
    "\n",
    "        # Update weights\n",
    "        optimizer.step()\n",
    "\n",
    "        if i % 1000 == 0:\n",
    "            # Print epoch number, loss and accuracy\n",
    "            accuracy = torch.sum(torch.argmax(y_pred, dim=1) == y_batch).item() / y_batch.size()[0]\n",
    "            print(f\"Iterations: {i:02} | Loss: {loss.item():.4f} | Accuracy: {100*accuracy:.2f}%\")\n",
    "            if accuracy == 1:\n",
    "                break"
   ],
   "metadata": {
    "collapsed": false,
    "pycharm": {
     "name": "#%%\n"
    }
   }
  },
  {
   "cell_type": "markdown",
   "source": [
    "Compile the model\n",
    "The compile_torch_model first applies a quantization to model with n_bits of precision using X_train as the calibration dataset and compile the model to its FHE counterparts. Here we use 3 bits of precision. In some edge cases, the network accumulators can overflow (i.e. extreme quantized values in both input and weights, which is unlikely). In such a case, we need to retrain the model."
   ],
   "metadata": {
    "collapsed": false,
    "pycharm": {
     "name": "#%% md\n"
    }
   }
  },
  {
   "cell_type": "code",
   "execution_count": 5,
   "outputs": [
    {
     "name": "stdout",
     "output_type": "stream",
     "text": [
      "Training a FHE friendly quantized network.\n",
      "Iterations: 00 | Loss: 1.1243 | Accuracy: 37.50%\n",
      "Iterations: 1000 | Loss: 0.4124 | Accuracy: 81.25%\n",
      "Iterations: 2000 | Loss: 0.1989 | Accuracy: 100.00%\n",
      "Compiling the model to FHE.\n",
      "The network is trained and FHE friendly.\n"
     ]
    }
   ],
   "source": [
    "from concrete.ml.torch.compile import compile_torch_model\n",
    "\n",
    "print(\"Training a FHE friendly quantized network.\")\n",
    "for _ in range(10):\n",
    "    try:\n",
    "        train()\n",
    "        print(\"Compiling the model to FHE.\")\n",
    "        quantized_compiled_module = compile_torch_model(\n",
    "            model,\n",
    "            X_train,\n",
    "            n_bits=3,\n",
    "        )\n",
    "        print(\"The network is trained and FHE friendly.\")\n",
    "        break\n",
    "    except RuntimeError as e:\n",
    "        if str(e).startswith(\"max_bit_width of some nodes is too high\"):\n",
    "            print(\"The network is not fully FHE friendly, retraining.\")\n",
    "            continue\n",
    "        raise e\n",
    "else:\n",
    "    raise RuntimeError(\n",
    "        \"Could not compile the model to FHE.\"\n",
    "        \"You may need to decrease the n_bits parameter to avoid potential overflows.\"\n",
    "    )"
   ],
   "metadata": {
    "collapsed": false,
    "pycharm": {
     "name": "#%%\n"
    }
   }
  },
  {
   "cell_type": "markdown",
   "source": [
    "Predict with the torch model in clear"
   ],
   "metadata": {
    "collapsed": false,
    "pycharm": {
     "name": "#%% md\n"
    }
   }
  },
  {
   "cell_type": "code",
   "execution_count": 6,
   "outputs": [],
   "source": [
    "y_pred = model(X_test)"
   ],
   "metadata": {
    "collapsed": false,
    "pycharm": {
     "name": "#%%\n"
    }
   }
  },
  {
   "cell_type": "markdown",
   "source": [
    "Predict with the quantized model"
   ],
   "metadata": {
    "collapsed": false,
    "pycharm": {
     "name": "#%% md\n"
    }
   }
  },
  {
   "cell_type": "code",
   "execution_count": 7,
   "outputs": [],
   "source": [
    "# We now have a module in full numpy.\n",
    "# Convert data to a numpy array.\n",
    "X_train_numpy = X_train.numpy()\n",
    "X_test_numpy = X_test.numpy()\n",
    "y_train_numpy = y_train.numpy()\n",
    "y_test_numpy = y_test.numpy()\n",
    "q_X_test_numpy = quantized_compiled_module.quantize_input(X_test_numpy)\n",
    "quant_model_predictions = quantized_compiled_module(q_X_test_numpy)"
   ],
   "metadata": {
    "collapsed": false,
    "pycharm": {
     "name": "#%%\n"
    }
   }
  },
  {
   "cell_type": "markdown",
   "source": [
    "Predict in FHE"
   ],
   "metadata": {
    "collapsed": false,
    "pycharm": {
     "name": "#%% md\n"
    }
   }
  },
  {
   "cell_type": "code",
   "execution_count": 8,
   "outputs": [
    {
     "name": "stderr",
     "output_type": "stream",
     "text": [
      "100%|███████████████████████████████████████████████████████████████████████████████████████████████████████████████████████████████████████████████████████████████████| 38/38 [04:28<00:00,  7.06s/it]\n"
     ]
    }
   ],
   "source": [
    "from tqdm import tqdm\n",
    "\n",
    "fhe_x_test = quantized_compiled_module.quantize_input(X_test_numpy)\n",
    "homomorphic_quant_predictions = []\n",
    "for x_q in tqdm(fhe_x_test):\n",
    "    homomorphic_quant_predictions.append(\n",
    "        quantized_compiled_module.forward_fhe.encrypt_run_decrypt(np.array([x_q]).astype(np.uint8))\n",
    "    )\n",
    "homomorphic_predictions = quantized_compiled_module.dequantize_output(\n",
    "    np.array(homomorphic_quant_predictions, dtype=np.float32).reshape(quant_model_predictions.shape)\n",
    ")"
   ],
   "metadata": {
    "collapsed": false,
    "pycharm": {
     "name": "#%%\n"
    }
   }
  },
  {
   "cell_type": "markdown",
   "source": [
    "Print the accuracy of both models"
   ],
   "metadata": {
    "collapsed": false,
    "pycharm": {
     "name": "#%% md\n"
    }
   }
  },
  {
   "cell_type": "code",
   "execution_count": 9,
   "outputs": [
    {
     "name": "stdout",
     "output_type": "stream",
     "text": [
      "Test Accuracy: 97.37%\n",
      "Test Accuracy Quantized Inference: 78.95%\n",
      "Test Accuracy Homomorphic Inference: 78.95%\n"
     ]
    }
   ],
   "source": [
    "acc_0 = 100 * (y_pred.argmax(1) == y_test).float().mean()\n",
    "acc_1 = 100 * (quant_model_predictions.argmax(1) == y_test_numpy).mean()\n",
    "acc_2 = 100 * (homomorphic_predictions.argmax(1) == y_test_numpy).mean()\n",
    "\n",
    "print(f\"Test Accuracy: {acc_0:.2f}%\")\n",
    "print(f\"Test Accuracy Quantized Inference: {acc_1:.2f}%\")\n",
    "print(f\"Test Accuracy Homomorphic Inference: {acc_2:.2f}%\")"
   ],
   "metadata": {
    "collapsed": false,
    "pycharm": {
     "name": "#%%\n"
    }
   }
  },
  {
   "cell_type": "code",
   "execution_count": 10,
   "outputs": [
    {
     "data": {
      "text/plain": "<Figure size 432x288 with 0 Axes>"
     },
     "metadata": {},
     "output_type": "display_data"
    },
    {
     "data": {
      "text/plain": "<Figure size 864x432 with 2 Axes>",
      "image/png": "[encoded data removed]"
     },
     "metadata": {
      "needs_background": "light"
     },
     "output_type": "display_data"
    }
   ],
   "source": [
    "from sklearn.decomposition import PCA\n",
    "\n",
    "pca = PCA(n_components=2)\n",
    "X_train_2d = pca.fit_transform(X_train_numpy)\n",
    "\n",
    "b_min = np.min(X_train_2d, axis=0)\n",
    "b_max = np.max(X_train_2d, axis=0)\n",
    "\n",
    "grid_dims = tuple(np.linspace(b_min[i], b_max[i], 128) for i in range(X_train_2d.shape[1]))\n",
    "ndgrid_tuple = np.meshgrid(*grid_dims)\n",
    "grid_2d = np.vstack([g.ravel() for g in ndgrid_tuple]).transpose()\n",
    "\n",
    "grid_test = pca.inverse_transform(grid_2d)\n",
    "grid_test_quantized = quantized_compiled_module.quantize_input(grid_test)\n",
    "\n",
    "grid_pred_all = quantized_compiled_module(grid_test_quantized)\n",
    "grid_pred_all_original = model(torch.tensor(grid_test).float()).detach().numpy()\n",
    "\n",
    "pred_classes = np.argmax(grid_pred_all, axis=1).astype(np.int32)\n",
    "pred_classes_original = np.argmax(grid_pred_all_original, axis=1).astype(np.int32)\n",
    "\n",
    "%matplotlib inline\n",
    "\n",
    "from matplotlib import pyplot as plt\n",
    "\n",
    "cmap = \"autumn\"\n",
    "# Create two subplots and set their locations\n",
    "plt.clf()\n",
    "fig, axs = plt.subplots(1, 2, figsize=(12, 6))\n",
    "\n",
    "# Plot original model contour plot\n",
    "axs[0].contourf(\n",
    "    ndgrid_tuple[0],\n",
    "    ndgrid_tuple[1],\n",
    "    pred_classes_original.reshape(ndgrid_tuple[0].shape),\n",
    "    cmap=cmap,\n",
    ")\n",
    "\n",
    "# Plot the scatter with marker borders\n",
    "axs[0].scatter(X_train_2d[:, 0], X_train_2d[:, 1], c=y_train_numpy, s=50, edgecolors=\"k\", cmap=cmap)\n",
    "\n",
    "# Add title and axis labels\n",
    "axs[0].set_title(\"Original Inference\")\n",
    "\n",
    "\n",
    "# Plot quantized model contour plot\n",
    "axs[1].contourf(\n",
    "    ndgrid_tuple[0], ndgrid_tuple[1], pred_classes.reshape(ndgrid_tuple[0].shape), cmap=cmap\n",
    ")\n",
    "\n",
    "# Plot the scatter with marker borders\n",
    "axs[1].scatter(X_train_2d[:, 0], X_train_2d[:, 1], c=y_train_numpy, s=50, edgecolors=\"k\", cmap=cmap)\n",
    "\n",
    "# Add title and axis labels\n",
    "axs[1].set_title(\"Quantized Inference\")\n",
    "\n",
    "\n",
    "plt.show()"
   ],
   "metadata": {
    "collapsed": false,
    "pycharm": {
     "name": "#%%\n"
    }
   }
  },
  {
   "cell_type": "markdown",
   "source": [
    "In the above plot, we show the decision boundaries for both the original and quantized model. The quantized model has it’s decision boundaries (colored regions) slightly shifted compared to the original model. This is due to the low-bit quantization applied to the model in post-training.\n",
    "\n",
    "Here we do not compute the contour plot for the FHE inference as this would be really costly but it should be pretty close to the quantized model.\n",
    "\n",
    "Summary\n",
    "In this notebook, we presented a few steps to have a model (torch neural network) inference in over homomorphically encrypted data: - We first trained a fully connected neural network yielding ~97% accuracy - Then, we quantized it using Concrete-Numpy. We observed a small decrease in accuracy here due to the strong quantization applied(accuracy = ~94%). - We then used the compiled inference into its FHE equivalent to get our FHE predictions over the test set\n",
    "\n",
    "The homomorphic inference achieves a similar accuracy as the quantized model inference.\n",
    "\n",
    "Disclaimer: post-training quantization with such a low bit width (<=3) can yield different results for the quantized model which will mainly depend on the range of the learned weights."
   ],
   "metadata": {
    "collapsed": false,
    "pycharm": {
     "name": "#%% md\n"
    }
   }
  },
  {
   "cell_type": "markdown",
   "source": [],
   "metadata": {
    "collapsed": false,
    "pycharm": {
     "name": "#%% md\n"
    }
   }
  },
  {
   "cell_type": "markdown",
   "source": [
    "########################################"
   ],
   "metadata": {
    "collapsed": false,
    "pycharm": {
     "name": "#%% md\n"
    }
   }
  },
  {
   "cell_type": "markdown",
   "source": [
    "Try and adapt the model to our medical data"
   ],
   "metadata": {
    "collapsed": false,
    "pycharm": {
     "name": "#%% md\n"
    }
   }
  },
  {
   "cell_type": "code",
   "execution_count": 2,
   "outputs": [],
   "source": [
    "import numpy as np\n",
    "import torch\n",
    "from torch import nn\n",
    "\n",
    "%matplotlib inline\n",
    "\n",
    "from matplotlib import pyplot as plt"
   ],
   "metadata": {
    "collapsed": false,
    "pycharm": {
     "name": "#%%\n"
    }
   }
  },
  {
   "cell_type": "markdown",
   "source": [
    "Define our neural network"
   ],
   "metadata": {
    "collapsed": false,
    "pycharm": {
     "name": "#%% md\n"
    }
   }
  },
  {
   "cell_type": "code",
   "execution_count": 12,
   "outputs": [],
   "source": [
    "class FCIris(torch.nn.Module):\n",
    "    \"\"\"Neural network for Iris classification\n",
    "\n",
    "    We define a fully connected network with three (3) fully connected (fc) layers that\n",
    "    perform feature extraction and one (fc) layer to produce the final classification.\n",
    "    We will use 3 neurons on all layers to ensure that the FHE accumulators\n",
    "    do not overflow (we are currently only allowed a maximum of 7 bits-width).\n",
    "    More information on this is available at\n",
    "    https://docs.zama.ai/concrete-numpy/main/user/howto/reduce_needed_precision.html#limitations-for-fhe-friendly-neural-network.\n",
    "\n",
    "    Due to accumulator limits, we have to design a network with only a few neurons on each layer.\n",
    "    This is in contrast to a traditional approach where the number of neurons increases after\n",
    "    each layer or block.\n",
    "    \"\"\"\n",
    "\n",
    "    def __init__(self, input_size):\n",
    "        super().__init__()\n",
    "\n",
    "        n_nodes = 64\n",
    "        # The first layer processes the input data, in our case 6 dimensional vectors\n",
    "        self.linear1 = nn.Linear(input_size, n_nodes)\n",
    "        self.sigmoid1 = nn.Sigmoid()\n",
    "        \"\"\"\n",
    "        # Next, we add a one intermediate layer\n",
    "        self.linear2 = nn.Linear(n_nodes, n_nodes-2)\n",
    "        self.sigmoid2 = nn.Sigmoid()\n",
    "        # Next, we add another intermediate layer\n",
    "        self.linear3 = nn.Linear(n_nodes-2, n_nodes-4)\n",
    "        self.sigmoid3 = nn.Sigmoid()\n",
    "        \"\"\"\n",
    "        # Finally, we add the decision layer for 2 output classes encoded as one-hot vectors\n",
    "        self.decision = nn.Linear(n_nodes, 2)\n",
    "\n",
    "    def forward(self, x):\n",
    "        x = self.linear1(x)\n",
    "        x = self.sigmoid1(x)\n",
    "        \"\"\"\n",
    "        x = self.linear2(x)\n",
    "        x = self.sigmoid2(x)\n",
    "        x = self.linear3(x)\n",
    "        x = self.sigmoid3(x)\n",
    "        \"\"\"\n",
    "        x = self.decision(x)\n",
    "\n",
    "        return x"
   ],
   "metadata": {
    "collapsed": false,
    "pycharm": {
     "name": "#%%\n"
    }
   }
  },
  {
   "cell_type": "markdown",
   "source": [
    "Define all required variables to train the model"
   ],
   "metadata": {
    "collapsed": false,
    "pycharm": {
     "name": "#%% md\n"
    }
   }
  },
  {
   "cell_type": "code",
   "execution_count": 13,
   "outputs": [],
   "source": [
    "# Get medical dataset\n",
    "\n",
    "import pandas as pd\n",
    "df = pd.read_spss(\"./logisitic.sav\")\n",
    "#labels_map = {\"age\":0, \"sysbp\":1, \"diabp\":2, \"choles\":3, \"ht\":4, \"wt\":5, \"coron\":6}\n",
    "#df.rename(columns=labels_map, inplace=True)\n",
    "\n",
    "X = df.drop(\"coron\", axis=1)\n",
    "y = df.coron\n",
    "y = y.astype(int)\n",
    "npX = X.to_numpy()\n",
    "npy = y.to_numpy(dtype=int)\n",
    "\n",
    "# Split into train and test\n",
    "from sklearn.model_selection import train_test_split\n",
    "X_train, X_test, y_train, y_test = train_test_split(\n",
    "    npX, npy, test_size=0.25, shuffle=True, random_state=42\n",
    ")\n",
    "# Convert to tensors\n",
    "X_train = torch.tensor(X_train).float()\n",
    "X_test = torch.tensor(X_test).float()\n",
    "y_train = torch.tensor(y_train)\n",
    "y_test = torch.tensor(y_test)"
   ],
   "metadata": {
    "collapsed": false,
    "pycharm": {
     "name": "#%%\n"
    }
   }
  },
  {
   "cell_type": "code",
   "execution_count": 14,
   "outputs": [],
   "source": [
    "# Initialize our model\n",
    "model = FCIris(npX.shape[1])\n",
    "\n",
    "# Define our loss function\n",
    "criterion = nn.CrossEntropyLoss()\n",
    "\n",
    "# Define our optimizer\n",
    "optimizer = torch.optim.Adam(model.parameters(), lr=0.1)\n",
    "\n",
    "# Define the number of iterations\n",
    "n_iters = 50001\n",
    "\n",
    "# Define the batch size\n",
    "batch_size = 16"
   ],
   "metadata": {
    "collapsed": false,
    "pycharm": {
     "name": "#%%\n"
    }
   }
  },
  {
   "cell_type": "markdown",
   "source": [
    "Train the model"
   ],
   "metadata": {
    "collapsed": false,
    "pycharm": {
     "name": "#%% md\n"
    }
   }
  },
  {
   "cell_type": "code",
   "execution_count": 15,
   "outputs": [],
   "source": [
    "def train():\n",
    "    accuracies = []\n",
    "    for i in range(n_iters):\n",
    "        # Get a random batch of training data\n",
    "        idx = torch.randperm(X_train.size()[0])\n",
    "        X_batch = X_train[idx][:batch_size]\n",
    "        y_batch = y_train[idx][:batch_size]\n",
    "\n",
    "        # Forward pass\n",
    "        y_pred = model(X_batch)\n",
    "\n",
    "        # Compute loss\n",
    "        loss = criterion(y_pred, y_batch)\n",
    "\n",
    "        # Backward pass\n",
    "        optimizer.zero_grad()\n",
    "        loss.backward()\n",
    "\n",
    "        # Update weights\n",
    "        optimizer.step()\n",
    "\n",
    "        accuracies.append(torch.sum(torch.argmax(y_pred, dim=1) == y_batch).item() / y_batch.size()[0])\n",
    "\n",
    "        if i % 5000 == 0:\n",
    "            # Print epoch number, loss and accuracy\n",
    "            accuracy = torch.sum(torch.argmax(y_pred, dim=1) == y_batch).item() / y_batch.size()[0]\n",
    "            print(f\"Iterations: {i:02} | Loss: {loss.item():.4f} | Accuracy: {100 * accuracy:.2f}%\")\n",
    "            if accuracy == 1:\n",
    "                break\n",
    "    fig = plt.figure(figsize=(12, 6))\n",
    "    plt.plot(accuracies)\n",
    "    plt.ylabel(\"Cross Entropy Loss\")\n",
    "    plt.xlabel(\"Epoch\")\n",
    "    plt.grid(True)\n",
    "    plt.title(\"Training set loss during training\")\n",
    "    plt.show()\n",
    "    print(max(accuracies))"
   ],
   "metadata": {
    "collapsed": false,
    "pycharm": {
     "name": "#%%\n"
    }
   }
  },
  {
   "cell_type": "markdown",
   "source": [
    "Compile the model\n",
    "The compile_torch_model first applies a quantization to model with n_bits of precision using X_train as the calibration dataset and compile the model to its FHE counterparts.Here we use 3 bits of precision.In some edge cases, the network accumulators can overflow (i.e.extreme quantized values in both input and weights, which is unlikely).In such a case, we need to retrain the model."
   ],
   "metadata": {
    "collapsed": false,
    "pycharm": {
     "name": "#%% md\n"
    }
   }
  },
  {
   "cell_type": "code",
   "execution_count": 16,
   "outputs": [
    {
     "name": "stdout",
     "output_type": "stream",
     "text": [
      "Training a FHE friendly quantized network.\n",
      "Iterations: 00 | Loss: 0.6813 | Accuracy: 62.50%\n",
      "Iterations: 5000 | Loss: 0.5767 | Accuracy: 75.00%\n",
      "Iterations: 10000 | Loss: 1.0592 | Accuracy: 6.25%\n",
      "Iterations: 15000 | Loss: 0.6861 | Accuracy: 56.25%\n",
      "Iterations: 20000 | Loss: 0.7018 | Accuracy: 31.25%\n",
      "Iterations: 25000 | Loss: 1.9939 | Accuracy: 31.25%\n",
      "Iterations: 30000 | Loss: 0.7451 | Accuracy: 68.75%\n",
      "Iterations: 35000 | Loss: 0.7604 | Accuracy: 31.25%\n",
      "Iterations: 40000 | Loss: 0.9157 | Accuracy: 68.75%\n",
      "Iterations: 45000 | Loss: 0.7847 | Accuracy: 62.50%\n",
      "Iterations: 50000 | Loss: 0.6940 | Accuracy: 62.50%\n"
     ]
    },
    {
     "data": {
      "text/plain": "<Figure size 864x432 with 1 Axes>",
      "image/png": "[encoded data removed]"
     },
     "metadata": {
      "needs_background": "light"
     },
     "output_type": "display_data"
    },
    {
     "name": "stdout",
     "output_type": "stream",
     "text": [
      "1.0\n",
      "Compiling the model to FHE.\n"
     ]
    },
    {
     "name": "stderr",
     "output_type": "stream",
     "text": [
      "/home/wsl/.local/lib/python3.8/site-packages/concrete/common/representation/intermediate.py:485: RuntimeWarning: overflow encountered in exp\n",
      "  return self.arbitrary_func(*ordered_inputs, *self.op_args, **self.op_kwargs)\n"
     ]
    },
    {
     "name": "stdout",
     "output_type": "stream",
     "text": [
      "The network is trained and FHE friendly.\n"
     ]
    }
   ],
   "source": [
    "from concrete.ml.torch.compile import compile_torch_model\n",
    "\n",
    "print(\"Training a FHE friendly quantized network.\")\n",
    "for _ in range(3):\n",
    "    try:\n",
    "        train()\n",
    "        print(\"Compiling the model to FHE.\")\n",
    "        quantized_compiled_module = compile_torch_model(\n",
    "            model,\n",
    "            X_train,\n",
    "            n_bits=3,\n",
    "        )\n",
    "        print(\"The network is trained and FHE friendly.\")\n",
    "        break\n",
    "    except RuntimeError as e:\n",
    "        if str(e).startswith(\"max_bit_width of some nodes is too high\"):\n",
    "            print(\"The network is not fully FHE friendly, retraining.\")\n",
    "            continue\n",
    "        raise e\n",
    "else:\n",
    "    raise RuntimeError(\n",
    "        \"Could not compile the model to FHE.\"\n",
    "        \"You may need to decrease the n_bits parameter to avoid potential overflows.\"\n",
    "    )"
   ],
   "metadata": {
    "collapsed": false,
    "pycharm": {
     "name": "#%%\n"
    }
   }
  },
  {
   "cell_type": "markdown",
   "source": [
    "Predict with the torch model in clear"
   ],
   "metadata": {
    "collapsed": false,
    "pycharm": {
     "name": "#%% md\n"
    }
   }
  },
  {
   "cell_type": "code",
   "execution_count": 17,
   "outputs": [],
   "source": [
    "y_pred = model(X_test)"
   ],
   "metadata": {
    "collapsed": false,
    "pycharm": {
     "name": "#%%\n"
    }
   }
  },
  {
   "cell_type": "markdown",
   "source": [
    "Predict with the quantized model"
   ],
   "metadata": {
    "collapsed": false,
    "pycharm": {
     "name": "#%% md\n"
    }
   }
  },
  {
   "cell_type": "code",
   "execution_count": 18,
   "outputs": [
    {
     "name": "stderr",
     "output_type": "stream",
     "text": [
      "/home/wsl/.local/lib/python3.8/site-packages/concrete/ml/onnx/ops_impl.py:208: RuntimeWarning: overflow encountered in exp\n",
      "  return (1.0 / (1.0 + numpy.exp(-x)),)\n"
     ]
    }
   ],
   "source": [
    "# We now have a module in full numpy.\n",
    "# Convert data to a numpy array.\n",
    "X_train_numpy = X_train.numpy()\n",
    "X_test_numpy = X_test.numpy()\n",
    "y_train_numpy = y_train.numpy()\n",
    "y_test_numpy = y_test.numpy()\n",
    "q_X_test_numpy = quantized_compiled_module.quantize_input(X_test_numpy)\n",
    "quant_model_predictions = quantized_compiled_module(q_X_test_numpy)"
   ],
   "metadata": {
    "collapsed": false,
    "pycharm": {
     "name": "#%%\n"
    }
   }
  },
  {
   "cell_type": "code",
   "execution_count": 19,
   "outputs": [
    {
     "name": "stdout",
     "output_type": "stream",
     "text": [
      "tensor(60.8696)\n",
      "60.86956521739131\n"
     ]
    }
   ],
   "source": [
    "acc_0 = 100 * (y_pred.argmax(1) == y_test).float().mean()\n",
    "acc_1 = 100 * (quant_model_predictions.argmax(1) == y_test_numpy).mean()\n",
    "print(acc_0)\n",
    "print(acc_1)"
   ],
   "metadata": {
    "collapsed": false,
    "pycharm": {
     "name": "#%%\n"
    }
   }
  },
  {
   "cell_type": "markdown",
   "source": [
    "Predict in FHE"
   ],
   "metadata": {
    "collapsed": false,
    "pycharm": {
     "name": "#%% md\n"
    }
   }
  },
  {
   "cell_type": "code",
   "execution_count": 10,
   "outputs": [
    {
     "name": "stderr",
     "output_type": "stream",
     "text": [
      "100%|███████████████████████████████████████████████████████████████████████████████████████████████████████████████████████████████████████████████████████████████████| 69/69 [07:35<00:00,  6.60s/it]\n"
     ]
    }
   ],
   "source": [
    "from tqdm import tqdm\n",
    "\n",
    "fhe_x_test = quantized_compiled_module.quantize_input(X_test_numpy)\n",
    "homomorphic_quant_predictions = []\n",
    "for x_q in tqdm(fhe_x_test):\n",
    "    homomorphic_quant_predictions.append(\n",
    "        quantized_compiled_module.forward_fhe.encrypt_run_decrypt(np.array([x_q]).astype(np.uint8))\n",
    "    )\n",
    "homomorphic_predictions = quantized_compiled_module.dequantize_output(\n",
    "    np.array(homomorphic_quant_predictions, dtype=np.float32).reshape(quant_model_predictions.shape)\n",
    ")"
   ],
   "metadata": {
    "collapsed": false,
    "pycharm": {
     "name": "#%%\n"
    }
   }
  },
  {
   "cell_type": "markdown",
   "source": [
    "Print the accuracy of both models"
   ],
   "metadata": {
    "collapsed": false,
    "pycharm": {
     "name": "#%% md\n"
    }
   }
  },
  {
   "cell_type": "code",
   "execution_count": 11,
   "outputs": [
    {
     "name": "stdout",
     "output_type": "stream",
     "text": [
      "Test Accuracy: 60.87%\n",
      "Test Accuracy Quantized Inference: 60.87%\n",
      "Test Accuracy Homomorphic Inference: 60.87%\n"
     ]
    }
   ],
   "source": [
    "acc_0 = 100 * (y_pred.argmax(1) == y_test).float().mean()\n",
    "acc_1 = 100 * (quant_model_predictions.argmax(1) == y_test_numpy).mean()\n",
    "acc_2 = 100 * (homomorphic_predictions.argmax(1) == y_test_numpy).mean()\n",
    "\n",
    "print(f\"Test Accuracy: {acc_0:.2f}%\")\n",
    "print(f\"Test Accuracy Quantized Inference: {acc_1:.2f}%\")\n",
    "print(f\"Test Accuracy Homomorphic Inference: {acc_2:.2f}%\")"
   ],
   "metadata": {
    "collapsed": false,
    "pycharm": {
     "name": "#%%\n"
    }
   }
  },
  {
   "cell_type": "code",
   "execution_count": 12,
   "outputs": [
    {
     "data": {
      "text/plain": "<Figure size 432x288 with 0 Axes>"
     },
     "metadata": {},
     "output_type": "display_data"
    },
    {
     "data": {
      "text/plain": "<Figure size 864x432 with 2 Axes>",
      "image/png": "[encoded data removed]"
     },
     "metadata": {
      "needs_background": "light"
     },
     "output_type": "display_data"
    }
   ],
   "source": [
    "from sklearn.decomposition import PCA\n",
    "\n",
    "pca = PCA(n_components=2)\n",
    "X_train_2d = pca.fit_transform(X_train_numpy)\n",
    "\n",
    "b_min = np.min(X_train_2d, axis=0)\n",
    "b_max = np.max(X_train_2d, axis=0)\n",
    "\n",
    "grid_dims = tuple(np.linspace(b_min[i], b_max[i], 128) for i in range(X_train_2d.shape[1]))\n",
    "ndgrid_tuple = np.meshgrid(*grid_dims)\n",
    "grid_2d = np.vstack([g.ravel() for g in ndgrid_tuple]).transpose()\n",
    "\n",
    "grid_test = pca.inverse_transform(grid_2d)\n",
    "grid_test_quantized = quantized_compiled_module.quantize_input(grid_test)\n",
    "\n",
    "grid_pred_all = quantized_compiled_module(grid_test_quantized)\n",
    "grid_pred_all_original = model(torch.tensor(grid_test).float()).detach().numpy()\n",
    "\n",
    "pred_classes = np.argmax(grid_pred_all, axis=1).astype(np.int32)\n",
    "pred_classes_original = np.argmax(grid_pred_all_original, axis=1).astype(np.int32)\n",
    "\n",
    "%matplotlib inline\n",
    "\n",
    "from matplotlib import pyplot as plt\n",
    "\n",
    "cmap = \"autumn\"\n",
    "# Create two subplots and set their locations\n",
    "plt.clf()\n",
    "fig, axs = plt.subplots(1, 2, figsize=(12, 6))\n",
    "\n",
    "# Plot original model contour plot\n",
    "axs[0].contourf(\n",
    "    ndgrid_tuple[0],\n",
    "    ndgrid_tuple[1],\n",
    "    pred_classes_original.reshape(ndgrid_tuple[0].shape),\n",
    "    cmap=cmap,\n",
    ")\n",
    "\n",
    "# Plot the scatter with marker borders\n",
    "axs[0].scatter(X_train_2d[:, 0], X_train_2d[:, 1], c=y_train_numpy, s=50, edgecolors=\"k\", cmap=cmap)\n",
    "\n",
    "# Add title and axis labels\n",
    "axs[0].set_title(\"Original Inference\")\n",
    "\n",
    "# Plot quantized model contour plot\n",
    "axs[1].contourf(\n",
    "    ndgrid_tuple[0], ndgrid_tuple[1], pred_classes.reshape(ndgrid_tuple[0].shape), cmap=cmap\n",
    ")\n",
    "\n",
    "# Plot the scatter with marker borders\n",
    "axs[1].scatter(X_train_2d[:, 0], X_train_2d[:, 1], c=y_train_numpy, s=50, edgecolors=\"k\", cmap=cmap)\n",
    "\n",
    "# Add title and axis labels\n",
    "axs[1].set_title(\"Quantized Inference\")\n",
    "\n",
    "plt.show()"
   ],
   "metadata": {
    "collapsed": false,
    "pycharm": {
     "name": "#%%\n"
    }
   }
  },
  {
   "cell_type": "code",
   "execution_count": null,
   "outputs": [],
   "source": [],
   "metadata": {
    "collapsed": false,
    "pycharm": {
     "name": "#%%\n"
    }
   }
  }
 ],
 "metadata": {
  "kernelspec": {
   "display_name": "Python 3",
   "language": "python",
   "name": "python3"
  },
  "language_info": {
   "codemirror_mode": {
    "name": "ipython",
    "version": 2
   },
   "file_extension": ".py",
   "mimetype": "text/x-python",
   "name": "python",
   "nbconvert_exporter": "python",
   "pygments_lexer": "ipython2",
   "version": "2.7.6"
  }
 },
 "nbformat": 4,
 "nbformat_minor": 0
}
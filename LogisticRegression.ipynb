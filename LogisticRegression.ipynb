{
 "cells": [
  {
   "cell_type": "code",
   "execution_count": 1,
   "outputs": [
    {
     "name": "stdout",
     "output_type": "stream",
     "text": [
      "Hello\n"
     ]
    }
   ],
   "source": [
    "print(\"Hello\")"
   ],
   "metadata": {
    "collapsed": false,
    "pycharm": {
     "name": "#%%\n"
    }
   }
  },
  {
   "cell_type": "markdown",
   "source": [
    "Import numpy and its concrete version"
   ],
   "metadata": {
    "collapsed": false,
    "pycharm": {
     "name": "#%% md\n"
    }
   }
  },
  {
   "cell_type": "code",
   "execution_count": 2,
   "outputs": [],
   "source": [
    "import concrete.numpy as cnp\n",
    "import numpy as np"
   ],
   "metadata": {
    "collapsed": false,
    "pycharm": {
     "name": "#%%\n"
    }
   }
  },
  {
   "cell_type": "markdown",
   "source": [
    "Formulate the logistic regression model that is given in the paper"
   ],
   "metadata": {
    "collapsed": false,
    "pycharm": {
     "name": "#%% md\n"
    }
   }
  },
  {
   "cell_type": "code",
   "execution_count": 3,
   "outputs": [],
   "source": [
    "#Weights and bias of the model\n",
    "# age, systolic blood pressure, diastolic blood pressure, cholesterol level, height (inches), weight (pounds)\n",
    "weights = np.array([0.072, 0.013, -0.029, 0.008, -0.053, 0.021])\n",
    "bias = np.array([0])\n",
    "\n",
    "def sigmoid(x):\n",
    "    #e^x / (e^x+1)\n",
    "    return 1 / (1 + np.exp(-x))\n",
    "\n",
    "def L(data):\n",
    "    return sigmoid(np.dot(data, weights) + bias)\n",
    "\n"
   ],
   "metadata": {
    "collapsed": false,
    "pycharm": {
     "name": "#%%\n"
    }
   }
  },
  {
   "cell_type": "markdown",
   "source": [
    "Test the model with an example, we should obtain a probabilty between 0 and 1\n",
    "(Examples taken from [LRM] of the paper: http://www.claudiaflowers.net/rsch8140/logistic_regression_example.htm)"
   ],
   "metadata": {
    "collapsed": false,
    "pycharm": {
     "name": "#%% md\n"
    }
   }
  },
  {
   "cell_type": "code",
   "execution_count": 4,
   "outputs": [
    {
     "name": "stdout",
     "output_type": "stream",
     "text": [
      "[0.99230149]\n",
      "[0.98409361]\n"
     ]
    }
   ],
   "source": [
    "#person1_data = np.array([64.0, 105.0, 68.0, 261.0, 66.0, 108.0])\n",
    "person1_data = np.array([64, 105, 68, 261, 66, 108])\n",
    "print(L(person1_data))\n",
    "\n",
    "#person2_data = np.array([50.0, 160.0, 110.0, 261.0, 66.0, 145.0])\n",
    "person2_data = np.array([50, 160, 110, 261, 66, 145])\n",
    "print(L(person2_data))"
   ],
   "metadata": {
    "collapsed": false,
    "pycharm": {
     "name": "#%%\n"
    }
   }
  },
  {
   "cell_type": "markdown",
   "source": [],
   "metadata": {
    "collapsed": false,
    "pycharm": {
     "name": "#%% md\n"
    }
   }
  },
  {
   "cell_type": "markdown",
   "source": [],
   "metadata": {
    "collapsed": false,
    "pycharm": {
     "name": "#%% md\n"
    }
   }
  },
  {
   "cell_type": "markdown",
   "source": [
    "Now try and do the whole thing encrypted with FHE\n",
    "I follow the concrete-numpy documentation on compiling numpy functions\n",
    "https://docs.zama.ai/concrete-numpy/stable/user/basics/compiling_and_executing.html?highlight=compile_numpy_function"
   ],
   "metadata": {
    "collapsed": false,
    "pycharm": {
     "name": "#%% md\n"
    }
   }
  },
  {
   "cell_type": "code",
   "execution_count": 5,
   "outputs": [
    {
     "ename": "RuntimeError",
     "evalue": "function you are trying to compile isn't supported for MLIR lowering\n\n %0 = 1                                # ClearScalar<uint1>\n %1 = 1                                # ClearScalar<uint1>\n %2 = 0                                # ClearScalar<uint1>\n %3 = [0]                              # ClearTensor<uint1, shape=(1,)>\n %4 = data                             # EncryptedTensor<uint9, shape=(6,)>\n %5 = [ 0.072  0 ... 53  0.021]        # ClearTensor<float64, shape=(6,)>\n^^^^^^^^^^^^^^^^^^^^^^^^^^^^^^^^^^^^^^^^^^^^^^^^^^^^^^^^^^^^^^^^^^^^^^^^^ only integer constants are supported\n %6 = dot(%4, %5)                      # EncryptedScalar<float64>\n^^^^^^^^^^^^^^^^^^^^^^^^^^^^^^^^^^^^^^^^^^^^^^^^^^^^^^^^^^^^^^^^^ only integer dot product is supported\n %7 = add(%6, %3)                      # EncryptedTensor<float64, shape=(1,)>\n^^^^^^^^^^^^^^^^^^^^^^^^^^^^^^^^^^^^^^^^^^^^^^^^^^^^^^^^^^^^^^^^^^^^^^^^^^^^^ only integer addition is supported\n %8 = sub(%2, %7)                      # EncryptedTensor<float64, shape=(1,)>\n^^^^^^^^^^^^^^^^^^^^^^^^^^^^^^^^^^^^^^^^^^^^^^^^^^^^^^^^^^^^^^^^^^^^^^^^^^^^^ only integer subtraction is supported\n %9 = exp(%8)                          # EncryptedTensor<float64, shape=(1,)>\n^^^^^^^^^^^^^^^^^^^^^^^^^^^^^^^^^^^^^^^^^^^^^^^^^^^^^^^^^^^^^^^^^^^^^^^^^^^^^ exp with floating-point inputs is required to be fused to be supported\n%10 = add(%9, %1)                      # EncryptedTensor<float64, shape=(1,)>\n^^^^^^^^^^^^^^^^^^^^^^^^^^^^^^^^^^^^^^^^^^^^^^^^^^^^^^^^^^^^^^^^^^^^^^^^^^^^^ only integer addition is supported\n%11 = truediv(%0, %10)                 # EncryptedTensor<float64, shape=(1,)>\n^^^^^^^^^^^^^^^^^^^^^^^^^^^^^^^^^^^^^^^^^^^^^^^^^^^^^^^^^^^^^^^^^^^^^^^^^^^^^ truediv with floating-point inputs is required to be fused to be supported\nreturn %11",
     "output_type": "error",
     "traceback": [
      "\u001B[0;31m---------------------------------------------------------------------------\u001B[0m",
      "\u001B[0;31mRuntimeError\u001B[0m                              Traceback (most recent call last)",
      "Input \u001B[0;32mIn [5]\u001B[0m, in \u001B[0;36m<cell line: 15>\u001B[0;34m()\u001B[0m\n\u001B[1;32m      9\u001B[0m \u001B[38;5;66;03m#inputset = [50, 261]\u001B[39;00m\n\u001B[1;32m     10\u001B[0m \n\u001B[1;32m     11\u001B[0m \u001B[38;5;66;03m#compile the function to its homomorphic equivalent\u001B[39;00m\n\u001B[1;32m     12\u001B[0m compiler \u001B[38;5;241m=\u001B[39m cnp\u001B[38;5;241m.\u001B[39mNPFHECompiler(\n\u001B[1;32m     13\u001B[0m     L, {\u001B[38;5;124m\"\u001B[39m\u001B[38;5;124mdata\u001B[39m\u001B[38;5;124m\"\u001B[39m: data_type},\n\u001B[1;32m     14\u001B[0m )\n\u001B[0;32m---> 15\u001B[0m circuit \u001B[38;5;241m=\u001B[39m \u001B[43mcompiler\u001B[49m\u001B[38;5;241;43m.\u001B[39;49m\u001B[43mcompile_on_inputset\u001B[49m\u001B[43m(\u001B[49m\u001B[43minputset\u001B[49m\u001B[43m)\u001B[49m\n",
      "File \u001B[0;32m~/.local/lib/python3.8/site-packages/concrete/numpy/np_fhe_compiler.py:280\u001B[0m, in \u001B[0;36mNPFHECompiler.compile_on_inputset\u001B[0;34m(self, inputset, show_mlir)\u001B[0m\n\u001B[1;32m    267\u001B[0m \u001B[38;5;124;03m\"\"\"Compile the function on an inputset and get resulting FHECircuit.\u001B[39;00m\n\u001B[1;32m    268\u001B[0m \n\u001B[1;32m    269\u001B[0m \u001B[38;5;124;03mArgs:\u001B[39;00m\n\u001B[0;32m   (...)\u001B[0m\n\u001B[1;32m    276\u001B[0m \u001B[38;5;124;03m    FHECircuit: the compiled FHECircuit\u001B[39;00m\n\u001B[1;32m    277\u001B[0m \u001B[38;5;124;03m\"\"\"\u001B[39;00m\n\u001B[1;32m    279\u001B[0m \u001B[38;5;28mself\u001B[39m\u001B[38;5;241m.\u001B[39meval_on_inputset(inputset)\n\u001B[0;32m--> 280\u001B[0m \u001B[38;5;28;01mreturn\u001B[39;00m \u001B[38;5;28;43mself\u001B[39;49m\u001B[38;5;241;43m.\u001B[39;49m\u001B[43mget_compiled_fhe_circuit\u001B[49m\u001B[43m(\u001B[49m\u001B[43mshow_mlir\u001B[49m\u001B[43m)\u001B[49m\n",
      "File \u001B[0;32m~/.local/lib/python3.8/site-packages/concrete/numpy/np_fhe_compiler.py:304\u001B[0m, in \u001B[0;36mNPFHECompiler.get_compiled_fhe_circuit\u001B[0;34m(self, show_mlir)\u001B[0m\n\u001B[1;32m    298\u001B[0m \u001B[38;5;28;01mif\u001B[39;00m \u001B[38;5;28mself\u001B[39m\u001B[38;5;241m.\u001B[39m_op_graph \u001B[38;5;129;01mis\u001B[39;00m \u001B[38;5;28;01mNone\u001B[39;00m:\n\u001B[1;32m    299\u001B[0m     \u001B[38;5;28;01mraise\u001B[39;00m \u001B[38;5;167;01mRuntimeError\u001B[39;00m(\n\u001B[1;32m    300\u001B[0m         \u001B[38;5;124m\"\u001B[39m\u001B[38;5;124mRequested FHECircuit but no OPGraph was compiled. \u001B[39m\u001B[38;5;124m\"\u001B[39m\n\u001B[1;32m    301\u001B[0m         \u001B[38;5;124mf\u001B[39m\u001B[38;5;124m\"\u001B[39m\u001B[38;5;124mDid you forget to evaluate \u001B[39m\u001B[38;5;132;01m{\u001B[39;00m\u001B[38;5;28mself\u001B[39m\u001B[38;5;241m.\u001B[39m\u001B[38;5;18m__class__\u001B[39m\u001B[38;5;241m.\u001B[39m\u001B[38;5;18m__name__\u001B[39m\u001B[38;5;132;01m}\u001B[39;00m\u001B[38;5;124m over an inputset?\u001B[39m\u001B[38;5;124m\"\u001B[39m\n\u001B[1;32m    302\u001B[0m     )\n\u001B[0;32m--> 304\u001B[0m \u001B[38;5;28;01mreturn\u001B[39;00m \u001B[43mcompile_op_graph_to_fhe_circuit\u001B[49m\u001B[43m(\u001B[49m\n\u001B[1;32m    305\u001B[0m \u001B[43m    \u001B[49m\u001B[38;5;28;43mself\u001B[39;49m\u001B[38;5;241;43m.\u001B[39;49m\u001B[43m_op_graph\u001B[49m\u001B[43m,\u001B[49m\n\u001B[1;32m    306\u001B[0m \u001B[43m    \u001B[49m\u001B[43mshow_mlir\u001B[49m\u001B[43m,\u001B[49m\n\u001B[1;32m    307\u001B[0m \u001B[43m    \u001B[49m\u001B[38;5;28;43mself\u001B[39;49m\u001B[38;5;241;43m.\u001B[39;49m\u001B[43mcompilation_configuration\u001B[49m\u001B[43m,\u001B[49m\n\u001B[1;32m    308\u001B[0m \u001B[43m    \u001B[49m\u001B[38;5;28;43mself\u001B[39;49m\u001B[38;5;241;43m.\u001B[39;49m\u001B[43mcompilation_artifacts\u001B[49m\u001B[43m,\u001B[49m\n\u001B[1;32m    309\u001B[0m \u001B[43m\u001B[49m\u001B[43m)\u001B[49m\n",
      "File \u001B[0;32m~/.local/lib/python3.8/site-packages/concrete/numpy/compile.py:697\u001B[0m, in \u001B[0;36mcompile_op_graph_to_fhe_circuit\u001B[0;34m(op_graph, show_mlir, compilation_configuration, compilation_artifacts)\u001B[0m\n\u001B[1;32m    692\u001B[0m \u001B[38;5;28;01mdef\u001B[39;00m \u001B[38;5;21mcompilation_function\u001B[39m():\n\u001B[1;32m    693\u001B[0m     \u001B[38;5;28;01mreturn\u001B[39;00m _compile_op_graph_to_fhe_circuit_internal(\n\u001B[1;32m    694\u001B[0m         op_graph, show_mlir, compilation_configuration, compilation_artifacts\n\u001B[1;32m    695\u001B[0m     )\n\u001B[0;32m--> 697\u001B[0m result \u001B[38;5;241m=\u001B[39m \u001B[43mrun_compilation_function_with_error_management\u001B[49m\u001B[43m(\u001B[49m\n\u001B[1;32m    698\u001B[0m \u001B[43m    \u001B[49m\u001B[43mcompilation_function\u001B[49m\u001B[43m,\u001B[49m\u001B[43m \u001B[49m\u001B[43mcompilation_configuration\u001B[49m\u001B[43m,\u001B[49m\u001B[43m \u001B[49m\u001B[43mcompilation_artifacts\u001B[49m\n\u001B[1;32m    699\u001B[0m \u001B[43m\u001B[49m\u001B[43m)\u001B[49m\n\u001B[1;32m    701\u001B[0m \u001B[38;5;66;03m# for mypy\u001B[39;00m\n\u001B[1;32m    702\u001B[0m \u001B[38;5;28;01massert\u001B[39;00m \u001B[38;5;28misinstance\u001B[39m(result, FHECircuit)\n",
      "File \u001B[0;32m~/.local/lib/python3.8/site-packages/concrete/numpy/compile.py:142\u001B[0m, in \u001B[0;36mrun_compilation_function_with_error_management\u001B[0;34m(compilation_function, compilation_configuration, compilation_artifacts)\u001B[0m\n\u001B[1;32m    139\u001B[0m \u001B[38;5;28;01mtry\u001B[39;00m:\n\u001B[1;32m    140\u001B[0m     \u001B[38;5;66;03m# Use context manager to restore numpy error handling\u001B[39;00m\n\u001B[1;32m    141\u001B[0m     \u001B[38;5;28;01mwith\u001B[39;00m numpy\u001B[38;5;241m.\u001B[39merrstate(\u001B[38;5;241m*\u001B[39m\u001B[38;5;241m*\u001B[39mnumpy\u001B[38;5;241m.\u001B[39mgeterr()):\n\u001B[0;32m--> 142\u001B[0m         \u001B[38;5;28;01mreturn\u001B[39;00m \u001B[43mcompilation_function\u001B[49m\u001B[43m(\u001B[49m\u001B[43m)\u001B[49m\n\u001B[1;32m    143\u001B[0m \u001B[38;5;28;01mexcept\u001B[39;00m \u001B[38;5;167;01mException\u001B[39;00m:  \u001B[38;5;66;03m# pragma: no cover\u001B[39;00m\n\u001B[1;32m    144\u001B[0m     \u001B[38;5;66;03m# This branch is reserved for unexpected issues and hence it shouldn't be tested.\u001B[39;00m\n\u001B[1;32m    145\u001B[0m     \u001B[38;5;66;03m# If it could be tested, we would have fixed the underlying issue.\u001B[39;00m\n\u001B[1;32m    146\u001B[0m \n\u001B[1;32m    147\u001B[0m     \u001B[38;5;66;03m# We need to export all the information we have about the compilation\u001B[39;00m\n\u001B[1;32m    148\u001B[0m     \u001B[38;5;66;03m# If the user wants them to be exported\u001B[39;00m\n\u001B[1;32m    150\u001B[0m     \u001B[38;5;28;01mif\u001B[39;00m compilation_configuration\u001B[38;5;241m.\u001B[39mdump_artifacts_on_unexpected_failures:\n",
      "File \u001B[0;32m~/.local/lib/python3.8/site-packages/concrete/numpy/compile.py:693\u001B[0m, in \u001B[0;36mcompile_op_graph_to_fhe_circuit.<locals>.compilation_function\u001B[0;34m()\u001B[0m\n\u001B[1;32m    692\u001B[0m \u001B[38;5;28;01mdef\u001B[39;00m \u001B[38;5;21mcompilation_function\u001B[39m():\n\u001B[0;32m--> 693\u001B[0m     \u001B[38;5;28;01mreturn\u001B[39;00m \u001B[43m_compile_op_graph_to_fhe_circuit_internal\u001B[49m\u001B[43m(\u001B[49m\n\u001B[1;32m    694\u001B[0m \u001B[43m        \u001B[49m\u001B[43mop_graph\u001B[49m\u001B[43m,\u001B[49m\u001B[43m \u001B[49m\u001B[43mshow_mlir\u001B[49m\u001B[43m,\u001B[49m\u001B[43m \u001B[49m\u001B[43mcompilation_configuration\u001B[49m\u001B[43m,\u001B[49m\u001B[43m \u001B[49m\u001B[43mcompilation_artifacts\u001B[49m\n\u001B[1;32m    695\u001B[0m \u001B[43m    \u001B[49m\u001B[43m)\u001B[49m\n",
      "File \u001B[0;32m~/.local/lib/python3.8/site-packages/concrete/numpy/compile.py:632\u001B[0m, in \u001B[0;36m_compile_op_graph_to_fhe_circuit_internal\u001B[0;34m(op_graph, show_mlir, compilation_configuration, compilation_artifacts)\u001B[0m\n\u001B[1;32m    613\u001B[0m \u001B[38;5;28;01mdef\u001B[39;00m \u001B[38;5;21m_compile_op_graph_to_fhe_circuit_internal\u001B[39m(\n\u001B[1;32m    614\u001B[0m     op_graph: OPGraph,\n\u001B[1;32m    615\u001B[0m     show_mlir: \u001B[38;5;28mbool\u001B[39m,\n\u001B[1;32m    616\u001B[0m     compilation_configuration: CompilationConfiguration,\n\u001B[1;32m    617\u001B[0m     compilation_artifacts: CompilationArtifacts,\n\u001B[1;32m    618\u001B[0m ) \u001B[38;5;241m-\u001B[39m\u001B[38;5;241m>\u001B[39m FHECircuit:\n\u001B[1;32m    619\u001B[0m     \u001B[38;5;124;03m\"\"\"Compile the OPGraph to an FHECircuit.\u001B[39;00m\n\u001B[1;32m    620\u001B[0m \n\u001B[1;32m    621\u001B[0m \u001B[38;5;124;03m    Args:\u001B[39;00m\n\u001B[0;32m   (...)\u001B[0m\n\u001B[1;32m    630\u001B[0m \u001B[38;5;124;03m        FHECircuit: the compiled FHECircuit\u001B[39;00m\n\u001B[1;32m    631\u001B[0m \u001B[38;5;124;03m    \"\"\"\u001B[39;00m\n\u001B[0;32m--> 632\u001B[0m     \u001B[43mprepare_op_graph_for_mlir\u001B[49m\u001B[43m(\u001B[49m\u001B[43mop_graph\u001B[49m\u001B[43m)\u001B[49m\n\u001B[1;32m    634\u001B[0m     \u001B[38;5;66;03m# Convert graph to an MLIR representation\u001B[39;00m\n\u001B[1;32m    635\u001B[0m     converter \u001B[38;5;241m=\u001B[39m NPMLIRConverter()\n",
      "File \u001B[0;32m~/.local/lib/python3.8/site-packages/concrete/numpy/compile.py:598\u001B[0m, in \u001B[0;36mprepare_op_graph_for_mlir\u001B[0;34m(op_graph)\u001B[0m\n\u001B[1;32m    596\u001B[0m offending_nodes \u001B[38;5;241m=\u001B[39m check_graph_values_compatibility_with_mlir(op_graph)\n\u001B[1;32m    597\u001B[0m \u001B[38;5;28;01mif\u001B[39;00m offending_nodes \u001B[38;5;129;01mis\u001B[39;00m \u001B[38;5;129;01mnot\u001B[39;00m \u001B[38;5;28;01mNone\u001B[39;00m:\n\u001B[0;32m--> 598\u001B[0m     \u001B[38;5;28;01mraise\u001B[39;00m \u001B[38;5;167;01mRuntimeError\u001B[39;00m(\n\u001B[1;32m    599\u001B[0m         \u001B[38;5;124m\"\u001B[39m\u001B[38;5;124mfunction you are trying to compile isn\u001B[39m\u001B[38;5;124m'\u001B[39m\u001B[38;5;124mt supported for MLIR lowering\u001B[39m\u001B[38;5;130;01m\\n\u001B[39;00m\u001B[38;5;130;01m\\n\u001B[39;00m\u001B[38;5;124m\"\u001B[39m\n\u001B[1;32m    600\u001B[0m         \u001B[38;5;241m+\u001B[39m format_operation_graph(op_graph, highlighted_nodes\u001B[38;5;241m=\u001B[39moffending_nodes)\n\u001B[1;32m    601\u001B[0m     )\n\u001B[1;32m    603\u001B[0m \u001B[38;5;66;03m# Update bit_width for MLIR\u001B[39;00m\n\u001B[1;32m    604\u001B[0m update_bit_width_for_mlir(op_graph)\n",
      "\u001B[0;31mRuntimeError\u001B[0m: function you are trying to compile isn't supported for MLIR lowering\n\n %0 = 1                                # ClearScalar<uint1>\n %1 = 1                                # ClearScalar<uint1>\n %2 = 0                                # ClearScalar<uint1>\n %3 = [0]                              # ClearTensor<uint1, shape=(1,)>\n %4 = data                             # EncryptedTensor<uint9, shape=(6,)>\n %5 = [ 0.072  0 ... 53  0.021]        # ClearTensor<float64, shape=(6,)>\n^^^^^^^^^^^^^^^^^^^^^^^^^^^^^^^^^^^^^^^^^^^^^^^^^^^^^^^^^^^^^^^^^^^^^^^^^ only integer constants are supported\n %6 = dot(%4, %5)                      # EncryptedScalar<float64>\n^^^^^^^^^^^^^^^^^^^^^^^^^^^^^^^^^^^^^^^^^^^^^^^^^^^^^^^^^^^^^^^^^ only integer dot product is supported\n %7 = add(%6, %3)                      # EncryptedTensor<float64, shape=(1,)>\n^^^^^^^^^^^^^^^^^^^^^^^^^^^^^^^^^^^^^^^^^^^^^^^^^^^^^^^^^^^^^^^^^^^^^^^^^^^^^ only integer addition is supported\n %8 = sub(%2, %7)                      # EncryptedTensor<float64, shape=(1,)>\n^^^^^^^^^^^^^^^^^^^^^^^^^^^^^^^^^^^^^^^^^^^^^^^^^^^^^^^^^^^^^^^^^^^^^^^^^^^^^ only integer subtraction is supported\n %9 = exp(%8)                          # EncryptedTensor<float64, shape=(1,)>\n^^^^^^^^^^^^^^^^^^^^^^^^^^^^^^^^^^^^^^^^^^^^^^^^^^^^^^^^^^^^^^^^^^^^^^^^^^^^^ exp with floating-point inputs is required to be fused to be supported\n%10 = add(%9, %1)                      # EncryptedTensor<float64, shape=(1,)>\n^^^^^^^^^^^^^^^^^^^^^^^^^^^^^^^^^^^^^^^^^^^^^^^^^^^^^^^^^^^^^^^^^^^^^^^^^^^^^ only integer addition is supported\n%11 = truediv(%0, %10)                 # EncryptedTensor<float64, shape=(1,)>\n^^^^^^^^^^^^^^^^^^^^^^^^^^^^^^^^^^^^^^^^^^^^^^^^^^^^^^^^^^^^^^^^^^^^^^^^^^^^^ truediv with floating-point inputs is required to be fused to be supported\nreturn %11"
     ]
    }
   ],
   "source": [
    "#declare that the input variable x is encrypted (and of what shape?)\n",
    "data_type = \"encrypted\"\n",
    "\n",
    "#give an inputset of example inputs to determine the input bounds\n",
    "#for us, inputs in the range [-3.755, 2.403] are allowed\n",
    "#TODO (what is better, give min and max as only input examples or give several inputs inbetween?)\n",
    "#TODO I think I need to give some range on the data input, i.e. age and so on, not the linear combination of data and weights\n",
    "inputset = [np.array([64, 105, 68, 261, 66, 108]), np.array([50, 160, 110, 261, 66, 145])]\n",
    "#inputset = [50, 261]\n",
    "\n",
    "#compile the function to its homomorphic equivalent\n",
    "compiler = cnp.NPFHECompiler(\n",
    "    L, {\"data\": data_type},\n",
    ")\n",
    "circuit = compiler.compile_on_inputset(inputset)"
   ],
   "metadata": {
    "collapsed": false,
    "pycharm": {
     "name": "#%%\n"
    }
   }
  },
  {
   "cell_type": "markdown",
   "source": [
    "!!! Big issue: floating point functions can be compiled but only univariate ones since that's what works with the lookup table\n",
    "see Limitations of: https://docs.zama.ai/concrete-numpy/stable/user/tutorial/working_with_floating_points.html"
   ],
   "metadata": {
    "collapsed": false,
    "pycharm": {
     "name": "#%% md\n"
    }
   }
  },
  {
   "cell_type": "code",
   "execution_count": 6,
   "outputs": [
    {
     "name": "stdout",
     "output_type": "stream",
     "text": [
      " %0 = 1                                # ClearScalar<uint1>\n",
      " %1 = 1                                # ClearScalar<uint1>\n",
      " %2 = 0                                # ClearScalar<uint1>\n",
      " %3 = [0]                              # ClearTensor<uint1, shape=(1,)>\n",
      " %4 = data                             # EncryptedTensor<uint9, shape=(6,)>\n",
      " %5 = [ 0.072  0 ... 53  0.021]        # ClearTensor<float64, shape=(6,)>\n",
      " %6 = dot(%4, %5)                      # EncryptedScalar<float64>\n",
      " %7 = add(%6, %3)                      # EncryptedTensor<float64, shape=(1,)>\n",
      " %8 = sub(%2, %7)                      # EncryptedTensor<float64, shape=(1,)>\n",
      " %9 = exp(%8)                          # EncryptedTensor<float64, shape=(1,)>\n",
      "%10 = add(%9, %1)                      # EncryptedTensor<float64, shape=(1,)>\n",
      "%11 = truediv(%0, %10)                 # EncryptedTensor<float64, shape=(1,)>\n",
      "return %11\n"
     ]
    }
   ],
   "source": [
    "print(str(compiler))"
   ],
   "metadata": {
    "collapsed": false,
    "pycharm": {
     "name": "#%%\n"
    }
   }
  },
  {
   "cell_type": "markdown",
   "source": [
    "Now we try to do homomorphic evaluation"
   ],
   "metadata": {
    "collapsed": false,
    "pycharm": {
     "name": "#%% md\n"
    }
   }
  },
  {
   "cell_type": "code",
   "execution_count": 7,
   "outputs": [
    {
     "ename": "NameError",
     "evalue": "name 'circuit' is not defined",
     "output_type": "error",
     "traceback": [
      "\u001B[0;31m---------------------------------------------------------------------------\u001B[0m",
      "\u001B[0;31mNameError\u001B[0m                                 Traceback (most recent call last)",
      "Input \u001B[0;32mIn [7]\u001B[0m, in \u001B[0;36m<cell line: 1>\u001B[0;34m()\u001B[0m\n\u001B[0;32m----> 1\u001B[0m \u001B[43mcircuit\u001B[49m\u001B[38;5;241m.\u001B[39mencrypt_run_decrypt(np\u001B[38;5;241m.\u001B[39marray([\u001B[38;5;241m64\u001B[39m, \u001B[38;5;241m105\u001B[39m, \u001B[38;5;241m68\u001B[39m, \u001B[38;5;241m261\u001B[39m, \u001B[38;5;241m66\u001B[39m, \u001B[38;5;241m108\u001B[39m]))\n",
      "\u001B[0;31mNameError\u001B[0m: name 'circuit' is not defined"
     ]
    }
   ],
   "source": [
    "circuit.encrypt_run_decrypt(np.array([64, 105, 68, 261, 66, 108]))"
   ],
   "metadata": {
    "collapsed": false,
    "pycharm": {
     "name": "#%%\n"
    }
   }
  },
  {
   "cell_type": "markdown",
   "source": [
    "Try and obtain the linear combination x via a separate function\n",
    "This first attempt still doesn't work since we multiply by constants but they're floating points"
   ],
   "metadata": {
    "collapsed": false,
    "pycharm": {
     "name": "#%% md\n"
    }
   }
  },
  {
   "cell_type": "code",
   "execution_count": 8,
   "outputs": [
    {
     "ename": "RuntimeError",
     "evalue": "function you are trying to compile isn't supported for MLIR lowering\n\n%0 = [0]                              # ClearTensor<uint1, shape=(1,)>\n%1 = data                             # EncryptedTensor<uint9, shape=(6,)>\n%2 = [ 0.072  0 ... 53  0.021]        # ClearTensor<float64, shape=(6,)>\n^^^^^^^^^^^^^^^^^^^^^^^^^^^^^^^^^^^^^^^^^^^^^^^^^^^^^^^^^^^^^^^^^^^^^^^^ only integer constants are supported\n%3 = dot(%1, %2)                      # EncryptedScalar<float64>\n^^^^^^^^^^^^^^^^^^^^^^^^^^^^^^^^^^^^^^^^^^^^^^^^^^^^^^^^^^^^^^^^ only integer dot product is supported\n%4 = add(%3, %0)                      # EncryptedTensor<float64, shape=(1,)>\n^^^^^^^^^^^^^^^^^^^^^^^^^^^^^^^^^^^^^^^^^^^^^^^^^^^^^^^^^^^^^^^^^^^^^^^^^^^^ only integer addition is supported\nreturn %4",
     "output_type": "error",
     "traceback": [
      "\u001B[0;31m---------------------------------------------------------------------------\u001B[0m",
      "\u001B[0;31mRuntimeError\u001B[0m                              Traceback (most recent call last)",
      "Input \u001B[0;32mIn [8]\u001B[0m, in \u001B[0;36m<cell line: 7>\u001B[0;34m()\u001B[0m\n\u001B[1;32m      2\u001B[0m     \u001B[38;5;28;01mreturn\u001B[39;00m np\u001B[38;5;241m.\u001B[39mdot(data, weights) \u001B[38;5;241m+\u001B[39m bias\n\u001B[1;32m      4\u001B[0m compiler2 \u001B[38;5;241m=\u001B[39m cnp\u001B[38;5;241m.\u001B[39mNPFHECompiler(\n\u001B[1;32m      5\u001B[0m     val_from_data, {\u001B[38;5;124m\"\u001B[39m\u001B[38;5;124mdata\u001B[39m\u001B[38;5;124m\"\u001B[39m: data_type},\n\u001B[1;32m      6\u001B[0m )\n\u001B[0;32m----> 7\u001B[0m circuit2 \u001B[38;5;241m=\u001B[39m \u001B[43mcompiler2\u001B[49m\u001B[38;5;241;43m.\u001B[39;49m\u001B[43mcompile_on_inputset\u001B[49m\u001B[43m(\u001B[49m\u001B[43minputset\u001B[49m\u001B[43m)\u001B[49m\n",
      "File \u001B[0;32m~/.local/lib/python3.8/site-packages/concrete/numpy/np_fhe_compiler.py:280\u001B[0m, in \u001B[0;36mNPFHECompiler.compile_on_inputset\u001B[0;34m(self, inputset, show_mlir)\u001B[0m\n\u001B[1;32m    267\u001B[0m \u001B[38;5;124;03m\"\"\"Compile the function on an inputset and get resulting FHECircuit.\u001B[39;00m\n\u001B[1;32m    268\u001B[0m \n\u001B[1;32m    269\u001B[0m \u001B[38;5;124;03mArgs:\u001B[39;00m\n\u001B[0;32m   (...)\u001B[0m\n\u001B[1;32m    276\u001B[0m \u001B[38;5;124;03m    FHECircuit: the compiled FHECircuit\u001B[39;00m\n\u001B[1;32m    277\u001B[0m \u001B[38;5;124;03m\"\"\"\u001B[39;00m\n\u001B[1;32m    279\u001B[0m \u001B[38;5;28mself\u001B[39m\u001B[38;5;241m.\u001B[39meval_on_inputset(inputset)\n\u001B[0;32m--> 280\u001B[0m \u001B[38;5;28;01mreturn\u001B[39;00m \u001B[38;5;28;43mself\u001B[39;49m\u001B[38;5;241;43m.\u001B[39;49m\u001B[43mget_compiled_fhe_circuit\u001B[49m\u001B[43m(\u001B[49m\u001B[43mshow_mlir\u001B[49m\u001B[43m)\u001B[49m\n",
      "File \u001B[0;32m~/.local/lib/python3.8/site-packages/concrete/numpy/np_fhe_compiler.py:304\u001B[0m, in \u001B[0;36mNPFHECompiler.get_compiled_fhe_circuit\u001B[0;34m(self, show_mlir)\u001B[0m\n\u001B[1;32m    298\u001B[0m \u001B[38;5;28;01mif\u001B[39;00m \u001B[38;5;28mself\u001B[39m\u001B[38;5;241m.\u001B[39m_op_graph \u001B[38;5;129;01mis\u001B[39;00m \u001B[38;5;28;01mNone\u001B[39;00m:\n\u001B[1;32m    299\u001B[0m     \u001B[38;5;28;01mraise\u001B[39;00m \u001B[38;5;167;01mRuntimeError\u001B[39;00m(\n\u001B[1;32m    300\u001B[0m         \u001B[38;5;124m\"\u001B[39m\u001B[38;5;124mRequested FHECircuit but no OPGraph was compiled. \u001B[39m\u001B[38;5;124m\"\u001B[39m\n\u001B[1;32m    301\u001B[0m         \u001B[38;5;124mf\u001B[39m\u001B[38;5;124m\"\u001B[39m\u001B[38;5;124mDid you forget to evaluate \u001B[39m\u001B[38;5;132;01m{\u001B[39;00m\u001B[38;5;28mself\u001B[39m\u001B[38;5;241m.\u001B[39m\u001B[38;5;18m__class__\u001B[39m\u001B[38;5;241m.\u001B[39m\u001B[38;5;18m__name__\u001B[39m\u001B[38;5;132;01m}\u001B[39;00m\u001B[38;5;124m over an inputset?\u001B[39m\u001B[38;5;124m\"\u001B[39m\n\u001B[1;32m    302\u001B[0m     )\n\u001B[0;32m--> 304\u001B[0m \u001B[38;5;28;01mreturn\u001B[39;00m \u001B[43mcompile_op_graph_to_fhe_circuit\u001B[49m\u001B[43m(\u001B[49m\n\u001B[1;32m    305\u001B[0m \u001B[43m    \u001B[49m\u001B[38;5;28;43mself\u001B[39;49m\u001B[38;5;241;43m.\u001B[39;49m\u001B[43m_op_graph\u001B[49m\u001B[43m,\u001B[49m\n\u001B[1;32m    306\u001B[0m \u001B[43m    \u001B[49m\u001B[43mshow_mlir\u001B[49m\u001B[43m,\u001B[49m\n\u001B[1;32m    307\u001B[0m \u001B[43m    \u001B[49m\u001B[38;5;28;43mself\u001B[39;49m\u001B[38;5;241;43m.\u001B[39;49m\u001B[43mcompilation_configuration\u001B[49m\u001B[43m,\u001B[49m\n\u001B[1;32m    308\u001B[0m \u001B[43m    \u001B[49m\u001B[38;5;28;43mself\u001B[39;49m\u001B[38;5;241;43m.\u001B[39;49m\u001B[43mcompilation_artifacts\u001B[49m\u001B[43m,\u001B[49m\n\u001B[1;32m    309\u001B[0m \u001B[43m\u001B[49m\u001B[43m)\u001B[49m\n",
      "File \u001B[0;32m~/.local/lib/python3.8/site-packages/concrete/numpy/compile.py:697\u001B[0m, in \u001B[0;36mcompile_op_graph_to_fhe_circuit\u001B[0;34m(op_graph, show_mlir, compilation_configuration, compilation_artifacts)\u001B[0m\n\u001B[1;32m    692\u001B[0m \u001B[38;5;28;01mdef\u001B[39;00m \u001B[38;5;21mcompilation_function\u001B[39m():\n\u001B[1;32m    693\u001B[0m     \u001B[38;5;28;01mreturn\u001B[39;00m _compile_op_graph_to_fhe_circuit_internal(\n\u001B[1;32m    694\u001B[0m         op_graph, show_mlir, compilation_configuration, compilation_artifacts\n\u001B[1;32m    695\u001B[0m     )\n\u001B[0;32m--> 697\u001B[0m result \u001B[38;5;241m=\u001B[39m \u001B[43mrun_compilation_function_with_error_management\u001B[49m\u001B[43m(\u001B[49m\n\u001B[1;32m    698\u001B[0m \u001B[43m    \u001B[49m\u001B[43mcompilation_function\u001B[49m\u001B[43m,\u001B[49m\u001B[43m \u001B[49m\u001B[43mcompilation_configuration\u001B[49m\u001B[43m,\u001B[49m\u001B[43m \u001B[49m\u001B[43mcompilation_artifacts\u001B[49m\n\u001B[1;32m    699\u001B[0m \u001B[43m\u001B[49m\u001B[43m)\u001B[49m\n\u001B[1;32m    701\u001B[0m \u001B[38;5;66;03m# for mypy\u001B[39;00m\n\u001B[1;32m    702\u001B[0m \u001B[38;5;28;01massert\u001B[39;00m \u001B[38;5;28misinstance\u001B[39m(result, FHECircuit)\n",
      "File \u001B[0;32m~/.local/lib/python3.8/site-packages/concrete/numpy/compile.py:142\u001B[0m, in \u001B[0;36mrun_compilation_function_with_error_management\u001B[0;34m(compilation_function, compilation_configuration, compilation_artifacts)\u001B[0m\n\u001B[1;32m    139\u001B[0m \u001B[38;5;28;01mtry\u001B[39;00m:\n\u001B[1;32m    140\u001B[0m     \u001B[38;5;66;03m# Use context manager to restore numpy error handling\u001B[39;00m\n\u001B[1;32m    141\u001B[0m     \u001B[38;5;28;01mwith\u001B[39;00m numpy\u001B[38;5;241m.\u001B[39merrstate(\u001B[38;5;241m*\u001B[39m\u001B[38;5;241m*\u001B[39mnumpy\u001B[38;5;241m.\u001B[39mgeterr()):\n\u001B[0;32m--> 142\u001B[0m         \u001B[38;5;28;01mreturn\u001B[39;00m \u001B[43mcompilation_function\u001B[49m\u001B[43m(\u001B[49m\u001B[43m)\u001B[49m\n\u001B[1;32m    143\u001B[0m \u001B[38;5;28;01mexcept\u001B[39;00m \u001B[38;5;167;01mException\u001B[39;00m:  \u001B[38;5;66;03m# pragma: no cover\u001B[39;00m\n\u001B[1;32m    144\u001B[0m     \u001B[38;5;66;03m# This branch is reserved for unexpected issues and hence it shouldn't be tested.\u001B[39;00m\n\u001B[1;32m    145\u001B[0m     \u001B[38;5;66;03m# If it could be tested, we would have fixed the underlying issue.\u001B[39;00m\n\u001B[1;32m    146\u001B[0m \n\u001B[1;32m    147\u001B[0m     \u001B[38;5;66;03m# We need to export all the information we have about the compilation\u001B[39;00m\n\u001B[1;32m    148\u001B[0m     \u001B[38;5;66;03m# If the user wants them to be exported\u001B[39;00m\n\u001B[1;32m    150\u001B[0m     \u001B[38;5;28;01mif\u001B[39;00m compilation_configuration\u001B[38;5;241m.\u001B[39mdump_artifacts_on_unexpected_failures:\n",
      "File \u001B[0;32m~/.local/lib/python3.8/site-packages/concrete/numpy/compile.py:693\u001B[0m, in \u001B[0;36mcompile_op_graph_to_fhe_circuit.<locals>.compilation_function\u001B[0;34m()\u001B[0m\n\u001B[1;32m    692\u001B[0m \u001B[38;5;28;01mdef\u001B[39;00m \u001B[38;5;21mcompilation_function\u001B[39m():\n\u001B[0;32m--> 693\u001B[0m     \u001B[38;5;28;01mreturn\u001B[39;00m \u001B[43m_compile_op_graph_to_fhe_circuit_internal\u001B[49m\u001B[43m(\u001B[49m\n\u001B[1;32m    694\u001B[0m \u001B[43m        \u001B[49m\u001B[43mop_graph\u001B[49m\u001B[43m,\u001B[49m\u001B[43m \u001B[49m\u001B[43mshow_mlir\u001B[49m\u001B[43m,\u001B[49m\u001B[43m \u001B[49m\u001B[43mcompilation_configuration\u001B[49m\u001B[43m,\u001B[49m\u001B[43m \u001B[49m\u001B[43mcompilation_artifacts\u001B[49m\n\u001B[1;32m    695\u001B[0m \u001B[43m    \u001B[49m\u001B[43m)\u001B[49m\n",
      "File \u001B[0;32m~/.local/lib/python3.8/site-packages/concrete/numpy/compile.py:632\u001B[0m, in \u001B[0;36m_compile_op_graph_to_fhe_circuit_internal\u001B[0;34m(op_graph, show_mlir, compilation_configuration, compilation_artifacts)\u001B[0m\n\u001B[1;32m    613\u001B[0m \u001B[38;5;28;01mdef\u001B[39;00m \u001B[38;5;21m_compile_op_graph_to_fhe_circuit_internal\u001B[39m(\n\u001B[1;32m    614\u001B[0m     op_graph: OPGraph,\n\u001B[1;32m    615\u001B[0m     show_mlir: \u001B[38;5;28mbool\u001B[39m,\n\u001B[1;32m    616\u001B[0m     compilation_configuration: CompilationConfiguration,\n\u001B[1;32m    617\u001B[0m     compilation_artifacts: CompilationArtifacts,\n\u001B[1;32m    618\u001B[0m ) \u001B[38;5;241m-\u001B[39m\u001B[38;5;241m>\u001B[39m FHECircuit:\n\u001B[1;32m    619\u001B[0m     \u001B[38;5;124;03m\"\"\"Compile the OPGraph to an FHECircuit.\u001B[39;00m\n\u001B[1;32m    620\u001B[0m \n\u001B[1;32m    621\u001B[0m \u001B[38;5;124;03m    Args:\u001B[39;00m\n\u001B[0;32m   (...)\u001B[0m\n\u001B[1;32m    630\u001B[0m \u001B[38;5;124;03m        FHECircuit: the compiled FHECircuit\u001B[39;00m\n\u001B[1;32m    631\u001B[0m \u001B[38;5;124;03m    \"\"\"\u001B[39;00m\n\u001B[0;32m--> 632\u001B[0m     \u001B[43mprepare_op_graph_for_mlir\u001B[49m\u001B[43m(\u001B[49m\u001B[43mop_graph\u001B[49m\u001B[43m)\u001B[49m\n\u001B[1;32m    634\u001B[0m     \u001B[38;5;66;03m# Convert graph to an MLIR representation\u001B[39;00m\n\u001B[1;32m    635\u001B[0m     converter \u001B[38;5;241m=\u001B[39m NPMLIRConverter()\n",
      "File \u001B[0;32m~/.local/lib/python3.8/site-packages/concrete/numpy/compile.py:598\u001B[0m, in \u001B[0;36mprepare_op_graph_for_mlir\u001B[0;34m(op_graph)\u001B[0m\n\u001B[1;32m    596\u001B[0m offending_nodes \u001B[38;5;241m=\u001B[39m check_graph_values_compatibility_with_mlir(op_graph)\n\u001B[1;32m    597\u001B[0m \u001B[38;5;28;01mif\u001B[39;00m offending_nodes \u001B[38;5;129;01mis\u001B[39;00m \u001B[38;5;129;01mnot\u001B[39;00m \u001B[38;5;28;01mNone\u001B[39;00m:\n\u001B[0;32m--> 598\u001B[0m     \u001B[38;5;28;01mraise\u001B[39;00m \u001B[38;5;167;01mRuntimeError\u001B[39;00m(\n\u001B[1;32m    599\u001B[0m         \u001B[38;5;124m\"\u001B[39m\u001B[38;5;124mfunction you are trying to compile isn\u001B[39m\u001B[38;5;124m'\u001B[39m\u001B[38;5;124mt supported for MLIR lowering\u001B[39m\u001B[38;5;130;01m\\n\u001B[39;00m\u001B[38;5;130;01m\\n\u001B[39;00m\u001B[38;5;124m\"\u001B[39m\n\u001B[1;32m    600\u001B[0m         \u001B[38;5;241m+\u001B[39m format_operation_graph(op_graph, highlighted_nodes\u001B[38;5;241m=\u001B[39moffending_nodes)\n\u001B[1;32m    601\u001B[0m     )\n\u001B[1;32m    603\u001B[0m \u001B[38;5;66;03m# Update bit_width for MLIR\u001B[39;00m\n\u001B[1;32m    604\u001B[0m update_bit_width_for_mlir(op_graph)\n",
      "\u001B[0;31mRuntimeError\u001B[0m: function you are trying to compile isn't supported for MLIR lowering\n\n%0 = [0]                              # ClearTensor<uint1, shape=(1,)>\n%1 = data                             # EncryptedTensor<uint9, shape=(6,)>\n%2 = [ 0.072  0 ... 53  0.021]        # ClearTensor<float64, shape=(6,)>\n^^^^^^^^^^^^^^^^^^^^^^^^^^^^^^^^^^^^^^^^^^^^^^^^^^^^^^^^^^^^^^^^^^^^^^^^ only integer constants are supported\n%3 = dot(%1, %2)                      # EncryptedScalar<float64>\n^^^^^^^^^^^^^^^^^^^^^^^^^^^^^^^^^^^^^^^^^^^^^^^^^^^^^^^^^^^^^^^^ only integer dot product is supported\n%4 = add(%3, %0)                      # EncryptedTensor<float64, shape=(1,)>\n^^^^^^^^^^^^^^^^^^^^^^^^^^^^^^^^^^^^^^^^^^^^^^^^^^^^^^^^^^^^^^^^^^^^^^^^^^^^ only integer addition is supported\nreturn %4"
     ]
    }
   ],
   "source": [
    "def val_from_data(data):\n",
    "    return np.dot(data, weights) + bias\n",
    "\n",
    "compiler2 = cnp.NPFHECompiler(\n",
    "    val_from_data, {\"data\": data_type},\n",
    ")\n",
    "circuit2 = compiler2.compile_on_inputset(inputset)"
   ],
   "metadata": {
    "collapsed": false,
    "pycharm": {
     "name": "#%%\n"
    }
   }
  },
  {
   "cell_type": "markdown",
   "source": [
    "Next ideas:\n",
    "input data should be integers so only problem is the weights, we can scale them and then reduce them again to obtain the single\n",
    "floating point as input, then we should be able to evaluate the model homomorphically."
   ],
   "metadata": {
    "collapsed": false,
    "pycharm": {
     "name": "#%% md\n"
    }
   }
  },
  {
   "cell_type": "code",
   "execution_count": 9,
   "outputs": [
    {
     "name": "stdout",
     "output_type": "stream",
     "text": [
      "[ 72  13 -29   8 -53  21]\n"
     ]
    },
    {
     "ename": "RuntimeError",
     "evalue": "max_bit_width of some nodes is too high for the current version of the compiler (maximum must be 8) which is not compatible with:\n\n%0 = [0]                              # ClearTensor<uint1, shape=(1,)>\n%1 = data                             # EncryptedTensor<uint9, shape=(6,)>\n^^^^^^^^^^^^^^^^^^^^^^^^^^^^^^^^^^^^^^^^^^^^^^^^^^^^^^^^^^^^^^^^^^^^^^^^^^ 9 bits is not supported for the time being\n%2 = [ 72  13 -29   8 -53  21]        # ClearTensor<int8, shape=(6,)>\n%3 = dot(%1, %2)                      # EncryptedScalar<uint13>\n^^^^^^^^^^^^^^^^^^^^^^^^^^^^^^^^^^^^^^^^^^^^^^^^^^^^^^^^^^^^^^^ 13 bits is not supported for the time being\n%4 = add(%3, %0)                      # EncryptedTensor<uint13, shape=(1,)>\n^^^^^^^^^^^^^^^^^^^^^^^^^^^^^^^^^^^^^^^^^^^^^^^^^^^^^^^^^^^^^^^^^^^^^^^^^^^ 13 bits is not supported for the time being\nreturn %4",
     "output_type": "error",
     "traceback": [
      "\u001B[0;31m---------------------------------------------------------------------------\u001B[0m",
      "\u001B[0;31mRuntimeError\u001B[0m                              Traceback (most recent call last)",
      "Input \u001B[0;32mIn [9]\u001B[0m, in \u001B[0;36m<cell line: 10>\u001B[0;34m()\u001B[0m\n\u001B[1;32m      5\u001B[0m     \u001B[38;5;28;01mreturn\u001B[39;00m np\u001B[38;5;241m.\u001B[39mdot(data, adjusted_weights) \u001B[38;5;241m+\u001B[39m bias\n\u001B[1;32m      7\u001B[0m compiler3 \u001B[38;5;241m=\u001B[39m cnp\u001B[38;5;241m.\u001B[39mNPFHECompiler(\n\u001B[1;32m      8\u001B[0m     val_from_data_adjusted, {\u001B[38;5;124m\"\u001B[39m\u001B[38;5;124mdata\u001B[39m\u001B[38;5;124m\"\u001B[39m: data_type},\n\u001B[1;32m      9\u001B[0m )\n\u001B[0;32m---> 10\u001B[0m circuit3 \u001B[38;5;241m=\u001B[39m \u001B[43mcompiler3\u001B[49m\u001B[38;5;241;43m.\u001B[39;49m\u001B[43mcompile_on_inputset\u001B[49m\u001B[43m(\u001B[49m\u001B[43minputset\u001B[49m\u001B[43m)\u001B[49m\n",
      "File \u001B[0;32m~/.local/lib/python3.8/site-packages/concrete/numpy/np_fhe_compiler.py:280\u001B[0m, in \u001B[0;36mNPFHECompiler.compile_on_inputset\u001B[0;34m(self, inputset, show_mlir)\u001B[0m\n\u001B[1;32m    267\u001B[0m \u001B[38;5;124;03m\"\"\"Compile the function on an inputset and get resulting FHECircuit.\u001B[39;00m\n\u001B[1;32m    268\u001B[0m \n\u001B[1;32m    269\u001B[0m \u001B[38;5;124;03mArgs:\u001B[39;00m\n\u001B[0;32m   (...)\u001B[0m\n\u001B[1;32m    276\u001B[0m \u001B[38;5;124;03m    FHECircuit: the compiled FHECircuit\u001B[39;00m\n\u001B[1;32m    277\u001B[0m \u001B[38;5;124;03m\"\"\"\u001B[39;00m\n\u001B[1;32m    279\u001B[0m \u001B[38;5;28mself\u001B[39m\u001B[38;5;241m.\u001B[39meval_on_inputset(inputset)\n\u001B[0;32m--> 280\u001B[0m \u001B[38;5;28;01mreturn\u001B[39;00m \u001B[38;5;28;43mself\u001B[39;49m\u001B[38;5;241;43m.\u001B[39;49m\u001B[43mget_compiled_fhe_circuit\u001B[49m\u001B[43m(\u001B[49m\u001B[43mshow_mlir\u001B[49m\u001B[43m)\u001B[49m\n",
      "File \u001B[0;32m~/.local/lib/python3.8/site-packages/concrete/numpy/np_fhe_compiler.py:304\u001B[0m, in \u001B[0;36mNPFHECompiler.get_compiled_fhe_circuit\u001B[0;34m(self, show_mlir)\u001B[0m\n\u001B[1;32m    298\u001B[0m \u001B[38;5;28;01mif\u001B[39;00m \u001B[38;5;28mself\u001B[39m\u001B[38;5;241m.\u001B[39m_op_graph \u001B[38;5;129;01mis\u001B[39;00m \u001B[38;5;28;01mNone\u001B[39;00m:\n\u001B[1;32m    299\u001B[0m     \u001B[38;5;28;01mraise\u001B[39;00m \u001B[38;5;167;01mRuntimeError\u001B[39;00m(\n\u001B[1;32m    300\u001B[0m         \u001B[38;5;124m\"\u001B[39m\u001B[38;5;124mRequested FHECircuit but no OPGraph was compiled. \u001B[39m\u001B[38;5;124m\"\u001B[39m\n\u001B[1;32m    301\u001B[0m         \u001B[38;5;124mf\u001B[39m\u001B[38;5;124m\"\u001B[39m\u001B[38;5;124mDid you forget to evaluate \u001B[39m\u001B[38;5;132;01m{\u001B[39;00m\u001B[38;5;28mself\u001B[39m\u001B[38;5;241m.\u001B[39m\u001B[38;5;18m__class__\u001B[39m\u001B[38;5;241m.\u001B[39m\u001B[38;5;18m__name__\u001B[39m\u001B[38;5;132;01m}\u001B[39;00m\u001B[38;5;124m over an inputset?\u001B[39m\u001B[38;5;124m\"\u001B[39m\n\u001B[1;32m    302\u001B[0m     )\n\u001B[0;32m--> 304\u001B[0m \u001B[38;5;28;01mreturn\u001B[39;00m \u001B[43mcompile_op_graph_to_fhe_circuit\u001B[49m\u001B[43m(\u001B[49m\n\u001B[1;32m    305\u001B[0m \u001B[43m    \u001B[49m\u001B[38;5;28;43mself\u001B[39;49m\u001B[38;5;241;43m.\u001B[39;49m\u001B[43m_op_graph\u001B[49m\u001B[43m,\u001B[49m\n\u001B[1;32m    306\u001B[0m \u001B[43m    \u001B[49m\u001B[43mshow_mlir\u001B[49m\u001B[43m,\u001B[49m\n\u001B[1;32m    307\u001B[0m \u001B[43m    \u001B[49m\u001B[38;5;28;43mself\u001B[39;49m\u001B[38;5;241;43m.\u001B[39;49m\u001B[43mcompilation_configuration\u001B[49m\u001B[43m,\u001B[49m\n\u001B[1;32m    308\u001B[0m \u001B[43m    \u001B[49m\u001B[38;5;28;43mself\u001B[39;49m\u001B[38;5;241;43m.\u001B[39;49m\u001B[43mcompilation_artifacts\u001B[49m\u001B[43m,\u001B[49m\n\u001B[1;32m    309\u001B[0m \u001B[43m\u001B[49m\u001B[43m)\u001B[49m\n",
      "File \u001B[0;32m~/.local/lib/python3.8/site-packages/concrete/numpy/compile.py:697\u001B[0m, in \u001B[0;36mcompile_op_graph_to_fhe_circuit\u001B[0;34m(op_graph, show_mlir, compilation_configuration, compilation_artifacts)\u001B[0m\n\u001B[1;32m    692\u001B[0m \u001B[38;5;28;01mdef\u001B[39;00m \u001B[38;5;21mcompilation_function\u001B[39m():\n\u001B[1;32m    693\u001B[0m     \u001B[38;5;28;01mreturn\u001B[39;00m _compile_op_graph_to_fhe_circuit_internal(\n\u001B[1;32m    694\u001B[0m         op_graph, show_mlir, compilation_configuration, compilation_artifacts\n\u001B[1;32m    695\u001B[0m     )\n\u001B[0;32m--> 697\u001B[0m result \u001B[38;5;241m=\u001B[39m \u001B[43mrun_compilation_function_with_error_management\u001B[49m\u001B[43m(\u001B[49m\n\u001B[1;32m    698\u001B[0m \u001B[43m    \u001B[49m\u001B[43mcompilation_function\u001B[49m\u001B[43m,\u001B[49m\u001B[43m \u001B[49m\u001B[43mcompilation_configuration\u001B[49m\u001B[43m,\u001B[49m\u001B[43m \u001B[49m\u001B[43mcompilation_artifacts\u001B[49m\n\u001B[1;32m    699\u001B[0m \u001B[43m\u001B[49m\u001B[43m)\u001B[49m\n\u001B[1;32m    701\u001B[0m \u001B[38;5;66;03m# for mypy\u001B[39;00m\n\u001B[1;32m    702\u001B[0m \u001B[38;5;28;01massert\u001B[39;00m \u001B[38;5;28misinstance\u001B[39m(result, FHECircuit)\n",
      "File \u001B[0;32m~/.local/lib/python3.8/site-packages/concrete/numpy/compile.py:142\u001B[0m, in \u001B[0;36mrun_compilation_function_with_error_management\u001B[0;34m(compilation_function, compilation_configuration, compilation_artifacts)\u001B[0m\n\u001B[1;32m    139\u001B[0m \u001B[38;5;28;01mtry\u001B[39;00m:\n\u001B[1;32m    140\u001B[0m     \u001B[38;5;66;03m# Use context manager to restore numpy error handling\u001B[39;00m\n\u001B[1;32m    141\u001B[0m     \u001B[38;5;28;01mwith\u001B[39;00m numpy\u001B[38;5;241m.\u001B[39merrstate(\u001B[38;5;241m*\u001B[39m\u001B[38;5;241m*\u001B[39mnumpy\u001B[38;5;241m.\u001B[39mgeterr()):\n\u001B[0;32m--> 142\u001B[0m         \u001B[38;5;28;01mreturn\u001B[39;00m \u001B[43mcompilation_function\u001B[49m\u001B[43m(\u001B[49m\u001B[43m)\u001B[49m\n\u001B[1;32m    143\u001B[0m \u001B[38;5;28;01mexcept\u001B[39;00m \u001B[38;5;167;01mException\u001B[39;00m:  \u001B[38;5;66;03m# pragma: no cover\u001B[39;00m\n\u001B[1;32m    144\u001B[0m     \u001B[38;5;66;03m# This branch is reserved for unexpected issues and hence it shouldn't be tested.\u001B[39;00m\n\u001B[1;32m    145\u001B[0m     \u001B[38;5;66;03m# If it could be tested, we would have fixed the underlying issue.\u001B[39;00m\n\u001B[1;32m    146\u001B[0m \n\u001B[1;32m    147\u001B[0m     \u001B[38;5;66;03m# We need to export all the information we have about the compilation\u001B[39;00m\n\u001B[1;32m    148\u001B[0m     \u001B[38;5;66;03m# If the user wants them to be exported\u001B[39;00m\n\u001B[1;32m    150\u001B[0m     \u001B[38;5;28;01mif\u001B[39;00m compilation_configuration\u001B[38;5;241m.\u001B[39mdump_artifacts_on_unexpected_failures:\n",
      "File \u001B[0;32m~/.local/lib/python3.8/site-packages/concrete/numpy/compile.py:693\u001B[0m, in \u001B[0;36mcompile_op_graph_to_fhe_circuit.<locals>.compilation_function\u001B[0;34m()\u001B[0m\n\u001B[1;32m    692\u001B[0m \u001B[38;5;28;01mdef\u001B[39;00m \u001B[38;5;21mcompilation_function\u001B[39m():\n\u001B[0;32m--> 693\u001B[0m     \u001B[38;5;28;01mreturn\u001B[39;00m \u001B[43m_compile_op_graph_to_fhe_circuit_internal\u001B[49m\u001B[43m(\u001B[49m\n\u001B[1;32m    694\u001B[0m \u001B[43m        \u001B[49m\u001B[43mop_graph\u001B[49m\u001B[43m,\u001B[49m\u001B[43m \u001B[49m\u001B[43mshow_mlir\u001B[49m\u001B[43m,\u001B[49m\u001B[43m \u001B[49m\u001B[43mcompilation_configuration\u001B[49m\u001B[43m,\u001B[49m\u001B[43m \u001B[49m\u001B[43mcompilation_artifacts\u001B[49m\n\u001B[1;32m    695\u001B[0m \u001B[43m    \u001B[49m\u001B[43m)\u001B[49m\n",
      "File \u001B[0;32m~/.local/lib/python3.8/site-packages/concrete/numpy/compile.py:632\u001B[0m, in \u001B[0;36m_compile_op_graph_to_fhe_circuit_internal\u001B[0;34m(op_graph, show_mlir, compilation_configuration, compilation_artifacts)\u001B[0m\n\u001B[1;32m    613\u001B[0m \u001B[38;5;28;01mdef\u001B[39;00m \u001B[38;5;21m_compile_op_graph_to_fhe_circuit_internal\u001B[39m(\n\u001B[1;32m    614\u001B[0m     op_graph: OPGraph,\n\u001B[1;32m    615\u001B[0m     show_mlir: \u001B[38;5;28mbool\u001B[39m,\n\u001B[1;32m    616\u001B[0m     compilation_configuration: CompilationConfiguration,\n\u001B[1;32m    617\u001B[0m     compilation_artifacts: CompilationArtifacts,\n\u001B[1;32m    618\u001B[0m ) \u001B[38;5;241m-\u001B[39m\u001B[38;5;241m>\u001B[39m FHECircuit:\n\u001B[1;32m    619\u001B[0m     \u001B[38;5;124;03m\"\"\"Compile the OPGraph to an FHECircuit.\u001B[39;00m\n\u001B[1;32m    620\u001B[0m \n\u001B[1;32m    621\u001B[0m \u001B[38;5;124;03m    Args:\u001B[39;00m\n\u001B[0;32m   (...)\u001B[0m\n\u001B[1;32m    630\u001B[0m \u001B[38;5;124;03m        FHECircuit: the compiled FHECircuit\u001B[39;00m\n\u001B[1;32m    631\u001B[0m \u001B[38;5;124;03m    \"\"\"\u001B[39;00m\n\u001B[0;32m--> 632\u001B[0m     \u001B[43mprepare_op_graph_for_mlir\u001B[49m\u001B[43m(\u001B[49m\u001B[43mop_graph\u001B[49m\u001B[43m)\u001B[49m\n\u001B[1;32m    634\u001B[0m     \u001B[38;5;66;03m# Convert graph to an MLIR representation\u001B[39;00m\n\u001B[1;32m    635\u001B[0m     converter \u001B[38;5;241m=\u001B[39m NPMLIRConverter()\n",
      "File \u001B[0;32m~/.local/lib/python3.8/site-packages/concrete/numpy/compile.py:604\u001B[0m, in \u001B[0;36mprepare_op_graph_for_mlir\u001B[0;34m(op_graph)\u001B[0m\n\u001B[1;32m    598\u001B[0m     \u001B[38;5;28;01mraise\u001B[39;00m \u001B[38;5;167;01mRuntimeError\u001B[39;00m(\n\u001B[1;32m    599\u001B[0m         \u001B[38;5;124m\"\u001B[39m\u001B[38;5;124mfunction you are trying to compile isn\u001B[39m\u001B[38;5;124m'\u001B[39m\u001B[38;5;124mt supported for MLIR lowering\u001B[39m\u001B[38;5;130;01m\\n\u001B[39;00m\u001B[38;5;130;01m\\n\u001B[39;00m\u001B[38;5;124m\"\u001B[39m\n\u001B[1;32m    600\u001B[0m         \u001B[38;5;241m+\u001B[39m format_operation_graph(op_graph, highlighted_nodes\u001B[38;5;241m=\u001B[39moffending_nodes)\n\u001B[1;32m    601\u001B[0m     )\n\u001B[1;32m    603\u001B[0m \u001B[38;5;66;03m# Update bit_width for MLIR\u001B[39;00m\n\u001B[0;32m--> 604\u001B[0m \u001B[43mupdate_bit_width_for_mlir\u001B[49m\u001B[43m(\u001B[49m\u001B[43mop_graph\u001B[49m\u001B[43m)\u001B[49m\n\u001B[1;32m    606\u001B[0m \u001B[38;5;66;03m# HACK\u001B[39;00m\n\u001B[1;32m    607\u001B[0m \u001B[38;5;66;03m# TODO: remove this ugly hack when\u001B[39;00m\n\u001B[1;32m    608\u001B[0m \u001B[38;5;66;03m# https://github.com/zama-ai/concrete-numpy-internal/issues/1001 is done\u001B[39;00m\n\u001B[1;32m    609\u001B[0m \u001B[38;5;66;03m# TODO: https://github.com/zama-ai/concrete-numpy-internal/issues/1015\u001B[39;00m\n\u001B[1;32m    610\u001B[0m hack_offset_negative_inputs_to_lookup_tables(op_graph)\n",
      "File \u001B[0;32m~/.local/lib/python3.8/site-packages/concrete/common/mlir/utils.py:228\u001B[0m, in \u001B[0;36mupdate_bit_width_for_mlir\u001B[0;34m(op_graph)\u001B[0m\n\u001B[1;32m    223\u001B[0m max_bit_width, offending_nodes \u001B[38;5;241m=\u001B[39m get_op_graph_max_bit_width_and_nodes_over_bit_width_limit(\n\u001B[1;32m    224\u001B[0m     op_graph\n\u001B[1;32m    225\u001B[0m )\n\u001B[1;32m    227\u001B[0m \u001B[38;5;28;01mif\u001B[39;00m \u001B[38;5;28mlen\u001B[39m(offending_nodes) \u001B[38;5;241m!=\u001B[39m \u001B[38;5;241m0\u001B[39m:\n\u001B[0;32m--> 228\u001B[0m     \u001B[38;5;28;01mraise\u001B[39;00m \u001B[38;5;167;01mRuntimeError\u001B[39;00m(\n\u001B[1;32m    229\u001B[0m         \u001B[38;5;124mf\u001B[39m\u001B[38;5;124m\"\u001B[39m\u001B[38;5;124mmax_bit_width of some nodes is too high for the current version of \u001B[39m\u001B[38;5;124m\"\u001B[39m\n\u001B[1;32m    230\u001B[0m         \u001B[38;5;124mf\u001B[39m\u001B[38;5;124m\"\u001B[39m\u001B[38;5;124mthe compiler (maximum must be \u001B[39m\u001B[38;5;132;01m{\u001B[39;00mACCEPTABLE_MAXIMAL_BITWIDTH_FROM_CONCRETE_LIB\u001B[38;5;132;01m}\u001B[39;00m\u001B[38;5;124m) \u001B[39m\u001B[38;5;124m\"\u001B[39m\n\u001B[1;32m    231\u001B[0m         \u001B[38;5;124mf\u001B[39m\u001B[38;5;124m\"\u001B[39m\u001B[38;5;124mwhich is not compatible with:\u001B[39m\u001B[38;5;130;01m\\n\u001B[39;00m\u001B[38;5;130;01m\\n\u001B[39;00m\u001B[38;5;124m\"\u001B[39m\n\u001B[1;32m    232\u001B[0m         \u001B[38;5;241m+\u001B[39m format_operation_graph(op_graph, highlighted_nodes\u001B[38;5;241m=\u001B[39moffending_nodes)\n\u001B[1;32m    233\u001B[0m     )\n\u001B[1;32m    235\u001B[0m _set_all_bit_width(op_graph, max_bit_width)\n",
      "\u001B[0;31mRuntimeError\u001B[0m: max_bit_width of some nodes is too high for the current version of the compiler (maximum must be 8) which is not compatible with:\n\n%0 = [0]                              # ClearTensor<uint1, shape=(1,)>\n%1 = data                             # EncryptedTensor<uint9, shape=(6,)>\n^^^^^^^^^^^^^^^^^^^^^^^^^^^^^^^^^^^^^^^^^^^^^^^^^^^^^^^^^^^^^^^^^^^^^^^^^^ 9 bits is not supported for the time being\n%2 = [ 72  13 -29   8 -53  21]        # ClearTensor<int8, shape=(6,)>\n%3 = dot(%1, %2)                      # EncryptedScalar<uint13>\n^^^^^^^^^^^^^^^^^^^^^^^^^^^^^^^^^^^^^^^^^^^^^^^^^^^^^^^^^^^^^^^ 13 bits is not supported for the time being\n%4 = add(%3, %0)                      # EncryptedTensor<uint13, shape=(1,)>\n^^^^^^^^^^^^^^^^^^^^^^^^^^^^^^^^^^^^^^^^^^^^^^^^^^^^^^^^^^^^^^^^^^^^^^^^^^^ 13 bits is not supported for the time being\nreturn %4"
     ]
    }
   ],
   "source": [
    "adjusted_weights = np.array([round(w * 1000) for w in weights])\n",
    "print(adjusted_weights)\n",
    "\n",
    "def val_from_data_adjusted(data):\n",
    "    return np.dot(data, adjusted_weights) + bias\n",
    "\n",
    "compiler3 = cnp.NPFHECompiler(\n",
    "    val_from_data_adjusted, {\"data\": data_type},\n",
    ")\n",
    "circuit3 = compiler3.compile_on_inputset(inputset)"
   ],
   "metadata": {
    "collapsed": false,
    "pycharm": {
     "name": "#%%\n"
    }
   }
  },
  {
   "cell_type": "markdown",
   "source": [
    "Latest error: bit_width of the input is not supported, I guess too large integers\n",
    "I don't quite know why, the ints fit in a 128 wide range, i.e. 72+53 = 125 should not pose a problem\n",
    "Maybe it is because it's an array or maybe we could shift the integers to actually be in 0 to 127, though that requires more pre- and post-computation, additionally to the scaling."
   ],
   "metadata": {
    "collapsed": false,
    "pycharm": {
     "name": "#%% md\n"
    }
   }
  },
  {
   "cell_type": "code",
   "execution_count": 12,
   "outputs": [
    {
     "name": "stdout",
     "output_type": "stream",
     "text": [
      "[1 1 1 1 1 1]\n"
     ]
    },
    {
     "ename": "RuntimeError",
     "evalue": "max_bit_width of some nodes is too high for the current version of the compiler (maximum must be 8) which is not compatible with:\n\n%0 = [0]                  # ClearTensor<uint1, shape=(1,)>\n%1 = data                 # EncryptedTensor<uint9, shape=(6,)>\n^^^^^^^^^^^^^^^^^^^^^^^^^^^^^^^^^^^^^^^^^^^^^^^^^^^^^^^^^^^^^^ 9 bits is not supported for the time being\n%2 = [1 1 1 1 1 1]        # ClearTensor<uint1, shape=(6,)>\n%3 = dot(%1, %2)          # EncryptedScalar<uint10>\n^^^^^^^^^^^^^^^^^^^^^^^^^^^^^^^^^^^^^^^^^^^^^^^^^^^ 10 bits is not supported for the time being\n%4 = add(%3, %0)          # EncryptedTensor<uint10, shape=(1,)>\n^^^^^^^^^^^^^^^^^^^^^^^^^^^^^^^^^^^^^^^^^^^^^^^^^^^^^^^^^^^^^^^ 10 bits is not supported for the time being\nreturn %4",
     "output_type": "error",
     "traceback": [
      "\u001B[0;31m---------------------------------------------------------------------------\u001B[0m",
      "\u001B[0;31mRuntimeError\u001B[0m                              Traceback (most recent call last)",
      "Input \u001B[0;32mIn [12]\u001B[0m, in \u001B[0;36m<cell line: 10>\u001B[0;34m()\u001B[0m\n\u001B[1;32m      5\u001B[0m     \u001B[38;5;28;01mreturn\u001B[39;00m np\u001B[38;5;241m.\u001B[39mdot(data, test_weights) \u001B[38;5;241m+\u001B[39m bias\n\u001B[1;32m      7\u001B[0m compiler4 \u001B[38;5;241m=\u001B[39m cnp\u001B[38;5;241m.\u001B[39mNPFHECompiler(\n\u001B[1;32m      8\u001B[0m     val_from_data_test, {\u001B[38;5;124m\"\u001B[39m\u001B[38;5;124mdata\u001B[39m\u001B[38;5;124m\"\u001B[39m: data_type},\n\u001B[1;32m      9\u001B[0m )\n\u001B[0;32m---> 10\u001B[0m circuit4 \u001B[38;5;241m=\u001B[39m \u001B[43mcompiler4\u001B[49m\u001B[38;5;241;43m.\u001B[39;49m\u001B[43mcompile_on_inputset\u001B[49m\u001B[43m(\u001B[49m\u001B[43minputset\u001B[49m\u001B[43m)\u001B[49m\n",
      "File \u001B[0;32m~/.local/lib/python3.8/site-packages/concrete/numpy/np_fhe_compiler.py:280\u001B[0m, in \u001B[0;36mNPFHECompiler.compile_on_inputset\u001B[0;34m(self, inputset, show_mlir)\u001B[0m\n\u001B[1;32m    267\u001B[0m \u001B[38;5;124;03m\"\"\"Compile the function on an inputset and get resulting FHECircuit.\u001B[39;00m\n\u001B[1;32m    268\u001B[0m \n\u001B[1;32m    269\u001B[0m \u001B[38;5;124;03mArgs:\u001B[39;00m\n\u001B[0;32m   (...)\u001B[0m\n\u001B[1;32m    276\u001B[0m \u001B[38;5;124;03m    FHECircuit: the compiled FHECircuit\u001B[39;00m\n\u001B[1;32m    277\u001B[0m \u001B[38;5;124;03m\"\"\"\u001B[39;00m\n\u001B[1;32m    279\u001B[0m \u001B[38;5;28mself\u001B[39m\u001B[38;5;241m.\u001B[39meval_on_inputset(inputset)\n\u001B[0;32m--> 280\u001B[0m \u001B[38;5;28;01mreturn\u001B[39;00m \u001B[38;5;28;43mself\u001B[39;49m\u001B[38;5;241;43m.\u001B[39;49m\u001B[43mget_compiled_fhe_circuit\u001B[49m\u001B[43m(\u001B[49m\u001B[43mshow_mlir\u001B[49m\u001B[43m)\u001B[49m\n",
      "File \u001B[0;32m~/.local/lib/python3.8/site-packages/concrete/numpy/np_fhe_compiler.py:304\u001B[0m, in \u001B[0;36mNPFHECompiler.get_compiled_fhe_circuit\u001B[0;34m(self, show_mlir)\u001B[0m\n\u001B[1;32m    298\u001B[0m \u001B[38;5;28;01mif\u001B[39;00m \u001B[38;5;28mself\u001B[39m\u001B[38;5;241m.\u001B[39m_op_graph \u001B[38;5;129;01mis\u001B[39;00m \u001B[38;5;28;01mNone\u001B[39;00m:\n\u001B[1;32m    299\u001B[0m     \u001B[38;5;28;01mraise\u001B[39;00m \u001B[38;5;167;01mRuntimeError\u001B[39;00m(\n\u001B[1;32m    300\u001B[0m         \u001B[38;5;124m\"\u001B[39m\u001B[38;5;124mRequested FHECircuit but no OPGraph was compiled. \u001B[39m\u001B[38;5;124m\"\u001B[39m\n\u001B[1;32m    301\u001B[0m         \u001B[38;5;124mf\u001B[39m\u001B[38;5;124m\"\u001B[39m\u001B[38;5;124mDid you forget to evaluate \u001B[39m\u001B[38;5;132;01m{\u001B[39;00m\u001B[38;5;28mself\u001B[39m\u001B[38;5;241m.\u001B[39m\u001B[38;5;18m__class__\u001B[39m\u001B[38;5;241m.\u001B[39m\u001B[38;5;18m__name__\u001B[39m\u001B[38;5;132;01m}\u001B[39;00m\u001B[38;5;124m over an inputset?\u001B[39m\u001B[38;5;124m\"\u001B[39m\n\u001B[1;32m    302\u001B[0m     )\n\u001B[0;32m--> 304\u001B[0m \u001B[38;5;28;01mreturn\u001B[39;00m \u001B[43mcompile_op_graph_to_fhe_circuit\u001B[49m\u001B[43m(\u001B[49m\n\u001B[1;32m    305\u001B[0m \u001B[43m    \u001B[49m\u001B[38;5;28;43mself\u001B[39;49m\u001B[38;5;241;43m.\u001B[39;49m\u001B[43m_op_graph\u001B[49m\u001B[43m,\u001B[49m\n\u001B[1;32m    306\u001B[0m \u001B[43m    \u001B[49m\u001B[43mshow_mlir\u001B[49m\u001B[43m,\u001B[49m\n\u001B[1;32m    307\u001B[0m \u001B[43m    \u001B[49m\u001B[38;5;28;43mself\u001B[39;49m\u001B[38;5;241;43m.\u001B[39;49m\u001B[43mcompilation_configuration\u001B[49m\u001B[43m,\u001B[49m\n\u001B[1;32m    308\u001B[0m \u001B[43m    \u001B[49m\u001B[38;5;28;43mself\u001B[39;49m\u001B[38;5;241;43m.\u001B[39;49m\u001B[43mcompilation_artifacts\u001B[49m\u001B[43m,\u001B[49m\n\u001B[1;32m    309\u001B[0m \u001B[43m\u001B[49m\u001B[43m)\u001B[49m\n",
      "File \u001B[0;32m~/.local/lib/python3.8/site-packages/concrete/numpy/compile.py:697\u001B[0m, in \u001B[0;36mcompile_op_graph_to_fhe_circuit\u001B[0;34m(op_graph, show_mlir, compilation_configuration, compilation_artifacts)\u001B[0m\n\u001B[1;32m    692\u001B[0m \u001B[38;5;28;01mdef\u001B[39;00m \u001B[38;5;21mcompilation_function\u001B[39m():\n\u001B[1;32m    693\u001B[0m     \u001B[38;5;28;01mreturn\u001B[39;00m _compile_op_graph_to_fhe_circuit_internal(\n\u001B[1;32m    694\u001B[0m         op_graph, show_mlir, compilation_configuration, compilation_artifacts\n\u001B[1;32m    695\u001B[0m     )\n\u001B[0;32m--> 697\u001B[0m result \u001B[38;5;241m=\u001B[39m \u001B[43mrun_compilation_function_with_error_management\u001B[49m\u001B[43m(\u001B[49m\n\u001B[1;32m    698\u001B[0m \u001B[43m    \u001B[49m\u001B[43mcompilation_function\u001B[49m\u001B[43m,\u001B[49m\u001B[43m \u001B[49m\u001B[43mcompilation_configuration\u001B[49m\u001B[43m,\u001B[49m\u001B[43m \u001B[49m\u001B[43mcompilation_artifacts\u001B[49m\n\u001B[1;32m    699\u001B[0m \u001B[43m\u001B[49m\u001B[43m)\u001B[49m\n\u001B[1;32m    701\u001B[0m \u001B[38;5;66;03m# for mypy\u001B[39;00m\n\u001B[1;32m    702\u001B[0m \u001B[38;5;28;01massert\u001B[39;00m \u001B[38;5;28misinstance\u001B[39m(result, FHECircuit)\n",
      "File \u001B[0;32m~/.local/lib/python3.8/site-packages/concrete/numpy/compile.py:142\u001B[0m, in \u001B[0;36mrun_compilation_function_with_error_management\u001B[0;34m(compilation_function, compilation_configuration, compilation_artifacts)\u001B[0m\n\u001B[1;32m    139\u001B[0m \u001B[38;5;28;01mtry\u001B[39;00m:\n\u001B[1;32m    140\u001B[0m     \u001B[38;5;66;03m# Use context manager to restore numpy error handling\u001B[39;00m\n\u001B[1;32m    141\u001B[0m     \u001B[38;5;28;01mwith\u001B[39;00m numpy\u001B[38;5;241m.\u001B[39merrstate(\u001B[38;5;241m*\u001B[39m\u001B[38;5;241m*\u001B[39mnumpy\u001B[38;5;241m.\u001B[39mgeterr()):\n\u001B[0;32m--> 142\u001B[0m         \u001B[38;5;28;01mreturn\u001B[39;00m \u001B[43mcompilation_function\u001B[49m\u001B[43m(\u001B[49m\u001B[43m)\u001B[49m\n\u001B[1;32m    143\u001B[0m \u001B[38;5;28;01mexcept\u001B[39;00m \u001B[38;5;167;01mException\u001B[39;00m:  \u001B[38;5;66;03m# pragma: no cover\u001B[39;00m\n\u001B[1;32m    144\u001B[0m     \u001B[38;5;66;03m# This branch is reserved for unexpected issues and hence it shouldn't be tested.\u001B[39;00m\n\u001B[1;32m    145\u001B[0m     \u001B[38;5;66;03m# If it could be tested, we would have fixed the underlying issue.\u001B[39;00m\n\u001B[1;32m    146\u001B[0m \n\u001B[1;32m    147\u001B[0m     \u001B[38;5;66;03m# We need to export all the information we have about the compilation\u001B[39;00m\n\u001B[1;32m    148\u001B[0m     \u001B[38;5;66;03m# If the user wants them to be exported\u001B[39;00m\n\u001B[1;32m    150\u001B[0m     \u001B[38;5;28;01mif\u001B[39;00m compilation_configuration\u001B[38;5;241m.\u001B[39mdump_artifacts_on_unexpected_failures:\n",
      "File \u001B[0;32m~/.local/lib/python3.8/site-packages/concrete/numpy/compile.py:693\u001B[0m, in \u001B[0;36mcompile_op_graph_to_fhe_circuit.<locals>.compilation_function\u001B[0;34m()\u001B[0m\n\u001B[1;32m    692\u001B[0m \u001B[38;5;28;01mdef\u001B[39;00m \u001B[38;5;21mcompilation_function\u001B[39m():\n\u001B[0;32m--> 693\u001B[0m     \u001B[38;5;28;01mreturn\u001B[39;00m \u001B[43m_compile_op_graph_to_fhe_circuit_internal\u001B[49m\u001B[43m(\u001B[49m\n\u001B[1;32m    694\u001B[0m \u001B[43m        \u001B[49m\u001B[43mop_graph\u001B[49m\u001B[43m,\u001B[49m\u001B[43m \u001B[49m\u001B[43mshow_mlir\u001B[49m\u001B[43m,\u001B[49m\u001B[43m \u001B[49m\u001B[43mcompilation_configuration\u001B[49m\u001B[43m,\u001B[49m\u001B[43m \u001B[49m\u001B[43mcompilation_artifacts\u001B[49m\n\u001B[1;32m    695\u001B[0m \u001B[43m    \u001B[49m\u001B[43m)\u001B[49m\n",
      "File \u001B[0;32m~/.local/lib/python3.8/site-packages/concrete/numpy/compile.py:632\u001B[0m, in \u001B[0;36m_compile_op_graph_to_fhe_circuit_internal\u001B[0;34m(op_graph, show_mlir, compilation_configuration, compilation_artifacts)\u001B[0m\n\u001B[1;32m    613\u001B[0m \u001B[38;5;28;01mdef\u001B[39;00m \u001B[38;5;21m_compile_op_graph_to_fhe_circuit_internal\u001B[39m(\n\u001B[1;32m    614\u001B[0m     op_graph: OPGraph,\n\u001B[1;32m    615\u001B[0m     show_mlir: \u001B[38;5;28mbool\u001B[39m,\n\u001B[1;32m    616\u001B[0m     compilation_configuration: CompilationConfiguration,\n\u001B[1;32m    617\u001B[0m     compilation_artifacts: CompilationArtifacts,\n\u001B[1;32m    618\u001B[0m ) \u001B[38;5;241m-\u001B[39m\u001B[38;5;241m>\u001B[39m FHECircuit:\n\u001B[1;32m    619\u001B[0m     \u001B[38;5;124;03m\"\"\"Compile the OPGraph to an FHECircuit.\u001B[39;00m\n\u001B[1;32m    620\u001B[0m \n\u001B[1;32m    621\u001B[0m \u001B[38;5;124;03m    Args:\u001B[39;00m\n\u001B[0;32m   (...)\u001B[0m\n\u001B[1;32m    630\u001B[0m \u001B[38;5;124;03m        FHECircuit: the compiled FHECircuit\u001B[39;00m\n\u001B[1;32m    631\u001B[0m \u001B[38;5;124;03m    \"\"\"\u001B[39;00m\n\u001B[0;32m--> 632\u001B[0m     \u001B[43mprepare_op_graph_for_mlir\u001B[49m\u001B[43m(\u001B[49m\u001B[43mop_graph\u001B[49m\u001B[43m)\u001B[49m\n\u001B[1;32m    634\u001B[0m     \u001B[38;5;66;03m# Convert graph to an MLIR representation\u001B[39;00m\n\u001B[1;32m    635\u001B[0m     converter \u001B[38;5;241m=\u001B[39m NPMLIRConverter()\n",
      "File \u001B[0;32m~/.local/lib/python3.8/site-packages/concrete/numpy/compile.py:604\u001B[0m, in \u001B[0;36mprepare_op_graph_for_mlir\u001B[0;34m(op_graph)\u001B[0m\n\u001B[1;32m    598\u001B[0m     \u001B[38;5;28;01mraise\u001B[39;00m \u001B[38;5;167;01mRuntimeError\u001B[39;00m(\n\u001B[1;32m    599\u001B[0m         \u001B[38;5;124m\"\u001B[39m\u001B[38;5;124mfunction you are trying to compile isn\u001B[39m\u001B[38;5;124m'\u001B[39m\u001B[38;5;124mt supported for MLIR lowering\u001B[39m\u001B[38;5;130;01m\\n\u001B[39;00m\u001B[38;5;130;01m\\n\u001B[39;00m\u001B[38;5;124m\"\u001B[39m\n\u001B[1;32m    600\u001B[0m         \u001B[38;5;241m+\u001B[39m format_operation_graph(op_graph, highlighted_nodes\u001B[38;5;241m=\u001B[39moffending_nodes)\n\u001B[1;32m    601\u001B[0m     )\n\u001B[1;32m    603\u001B[0m \u001B[38;5;66;03m# Update bit_width for MLIR\u001B[39;00m\n\u001B[0;32m--> 604\u001B[0m \u001B[43mupdate_bit_width_for_mlir\u001B[49m\u001B[43m(\u001B[49m\u001B[43mop_graph\u001B[49m\u001B[43m)\u001B[49m\n\u001B[1;32m    606\u001B[0m \u001B[38;5;66;03m# HACK\u001B[39;00m\n\u001B[1;32m    607\u001B[0m \u001B[38;5;66;03m# TODO: remove this ugly hack when\u001B[39;00m\n\u001B[1;32m    608\u001B[0m \u001B[38;5;66;03m# https://github.com/zama-ai/concrete-numpy-internal/issues/1001 is done\u001B[39;00m\n\u001B[1;32m    609\u001B[0m \u001B[38;5;66;03m# TODO: https://github.com/zama-ai/concrete-numpy-internal/issues/1015\u001B[39;00m\n\u001B[1;32m    610\u001B[0m hack_offset_negative_inputs_to_lookup_tables(op_graph)\n",
      "File \u001B[0;32m~/.local/lib/python3.8/site-packages/concrete/common/mlir/utils.py:228\u001B[0m, in \u001B[0;36mupdate_bit_width_for_mlir\u001B[0;34m(op_graph)\u001B[0m\n\u001B[1;32m    223\u001B[0m max_bit_width, offending_nodes \u001B[38;5;241m=\u001B[39m get_op_graph_max_bit_width_and_nodes_over_bit_width_limit(\n\u001B[1;32m    224\u001B[0m     op_graph\n\u001B[1;32m    225\u001B[0m )\n\u001B[1;32m    227\u001B[0m \u001B[38;5;28;01mif\u001B[39;00m \u001B[38;5;28mlen\u001B[39m(offending_nodes) \u001B[38;5;241m!=\u001B[39m \u001B[38;5;241m0\u001B[39m:\n\u001B[0;32m--> 228\u001B[0m     \u001B[38;5;28;01mraise\u001B[39;00m \u001B[38;5;167;01mRuntimeError\u001B[39;00m(\n\u001B[1;32m    229\u001B[0m         \u001B[38;5;124mf\u001B[39m\u001B[38;5;124m\"\u001B[39m\u001B[38;5;124mmax_bit_width of some nodes is too high for the current version of \u001B[39m\u001B[38;5;124m\"\u001B[39m\n\u001B[1;32m    230\u001B[0m         \u001B[38;5;124mf\u001B[39m\u001B[38;5;124m\"\u001B[39m\u001B[38;5;124mthe compiler (maximum must be \u001B[39m\u001B[38;5;132;01m{\u001B[39;00mACCEPTABLE_MAXIMAL_BITWIDTH_FROM_CONCRETE_LIB\u001B[38;5;132;01m}\u001B[39;00m\u001B[38;5;124m) \u001B[39m\u001B[38;5;124m\"\u001B[39m\n\u001B[1;32m    231\u001B[0m         \u001B[38;5;124mf\u001B[39m\u001B[38;5;124m\"\u001B[39m\u001B[38;5;124mwhich is not compatible with:\u001B[39m\u001B[38;5;130;01m\\n\u001B[39;00m\u001B[38;5;130;01m\\n\u001B[39;00m\u001B[38;5;124m\"\u001B[39m\n\u001B[1;32m    232\u001B[0m         \u001B[38;5;241m+\u001B[39m format_operation_graph(op_graph, highlighted_nodes\u001B[38;5;241m=\u001B[39moffending_nodes)\n\u001B[1;32m    233\u001B[0m     )\n\u001B[1;32m    235\u001B[0m _set_all_bit_width(op_graph, max_bit_width)\n",
      "\u001B[0;31mRuntimeError\u001B[0m: max_bit_width of some nodes is too high for the current version of the compiler (maximum must be 8) which is not compatible with:\n\n%0 = [0]                  # ClearTensor<uint1, shape=(1,)>\n%1 = data                 # EncryptedTensor<uint9, shape=(6,)>\n^^^^^^^^^^^^^^^^^^^^^^^^^^^^^^^^^^^^^^^^^^^^^^^^^^^^^^^^^^^^^^ 9 bits is not supported for the time being\n%2 = [1 1 1 1 1 1]        # ClearTensor<uint1, shape=(6,)>\n%3 = dot(%1, %2)          # EncryptedScalar<uint10>\n^^^^^^^^^^^^^^^^^^^^^^^^^^^^^^^^^^^^^^^^^^^^^^^^^^^ 10 bits is not supported for the time being\n%4 = add(%3, %0)          # EncryptedTensor<uint10, shape=(1,)>\n^^^^^^^^^^^^^^^^^^^^^^^^^^^^^^^^^^^^^^^^^^^^^^^^^^^^^^^^^^^^^^^ 10 bits is not supported for the time being\nreturn %4"
     ]
    }
   ],
   "source": [
    "test_weights = np.array([1, 1, 1, 1, 1, 1])\n",
    "print(test_weights)\n",
    "\n",
    "def val_from_data_test(data):\n",
    "    return np.dot(data, test_weights) + bias\n",
    "\n",
    "compiler4 = cnp.NPFHECompiler(\n",
    "    val_from_data_test, {\"data\": data_type},\n",
    ")\n",
    "circuit4 = compiler4.compile_on_inputset(inputset)"
   ],
   "metadata": {
    "collapsed": false,
    "pycharm": {
     "name": "#%%\n"
    }
   }
  },
  {
   "cell_type": "markdown",
   "source": [
    "It seems it doesn't like getting an array as input, that counts as too many bits.\n",
    "A possible idea might be to do the linea combination by hand instead of as the dot product"
   ],
   "metadata": {
    "collapsed": false,
    "pycharm": {
     "name": "#%% md\n"
    }
   }
  },
  {
   "cell_type": "markdown",
   "source": [
    "Now I will try actually using the concrete-ml library instead of doing the manual work with numpy.\n",
    "Start with a logistic model and set the coeefficients/weights\n",
    "First do it in the clear with scikit"
   ],
   "metadata": {
    "collapsed": false,
    "pycharm": {
     "name": "#%% md\n"
    }
   }
  },
  {
   "cell_type": "code",
   "execution_count": 40,
   "outputs": [
    {
     "name": "stdout",
     "output_type": "stream",
     "text": [
      "(1, 6) [[ 0.072  0.013 -0.029  0.008 -0.053  0.021]]\n",
      "(1,) [-5.34728047]\n",
      "(2, 6) \n",
      " [[ 64 105  68 261  66 108]\n",
      " [ 50 160 110 261  66 145]]\n",
      "['class 1' 'class 1']\n",
      "[[0.61970127 0.38029873]\n",
      " [0.77246462 0.22753538]]\n"
     ]
    }
   ],
   "source": [
    "from sklearn.linear_model import LogisticRegression as SklearnLogisticRegression\n",
    "\n",
    "logreg = SklearnLogisticRegression()\n",
    "logreg.coef_ = weights.reshape(1,-1)\n",
    "logreg.intercept_ = np.array([-5.34728047])# apparently this is the intercept (taken from training model myself) and not 0\n",
    "logreg.classes_ = np.array([\"class 1\", \"class 2\"])\n",
    "\n",
    "\n",
    "print(logreg.coef_.shape, logreg.coef_)\n",
    "print(logreg.intercept_.shape, logreg.intercept_)\n",
    "\n",
    "person12_data = np.array([person1_data, person2_data])\n",
    "print(person12_data.shape, \"\\n\", person12_data)\n",
    "\n",
    "print(logreg.predict(person12_data))\n",
    "print(logreg.predict_proba(person12_data))\n"
   ],
   "metadata": {
    "collapsed": false,
    "pycharm": {
     "name": "#%%\n"
    }
   }
  },
  {
   "cell_type": "markdown",
   "source": [
    "Then try to do it with concrete-ml\n",
    "(Problem i fear we have: input data has numbers like 160 which is outside 128, but maybe the range still is fine)"
   ],
   "metadata": {
    "collapsed": false,
    "pycharm": {
     "name": "#%% md\n"
    }
   }
  },
  {
   "cell_type": "code",
   "execution_count": 39,
   "outputs": [
    {
     "ename": "SyntaxError",
     "evalue": "invalid syntax (1253346981.py, line 13)",
     "output_type": "error",
     "traceback": [
      "\u001B[0;36m  Input \u001B[0;32mIn [39]\u001B[0;36m\u001B[0m\n\u001B[0;31m    c_logreg.quantized_module = #??\u001B[0m\n\u001B[0m                                ^\u001B[0m\n\u001B[0;31mSyntaxError\u001B[0m\u001B[0;31m:\u001B[0m invalid syntax\n"
     ]
    }
   ],
   "source": [
    "from concrete.ml.sklearn.linear_model import LogisticRegression as ConcretelearnLogisticRegression\n",
    "\n",
    "c_logreg = ConcretelearnLogisticRegression(n_bits={\"inputs\": 8, \"weights\": 7})#??\n",
    "c_logreg.coef_ = weights.reshape(1,-1)\n",
    "c_logreg.intercept_ = np.array([-5.34728047])# apparently this is the intercept (taken from training model myself) and not 0\n",
    "c_logreg.classes_ = np.array([\"class 1\", \"class 2\"])\n",
    "\n",
    "print(c_logreg.coef_.shape, c_logreg.coef_)\n",
    "print(c_logreg.intercept_.shape, c_logreg.intercept_)\n",
    "\n",
    "\n",
    "#needs 'quantized_module'\n",
    "c_logreg.quantized_module = #??\n",
    "print(c_logreg.quantized_module)\n",
    "#c_logreg.compile(inputset)\n",
    "\n",
    "person12_data = np.array([person1_data, person2_data])\n",
    "print(person12_data.shape, \"\\n\", person12_data)\n",
    "\n",
    "c_logreg.predict(person12_data)\n",
    "c_logreg.predict_proba(person12_data)\n"
   ],
   "metadata": {
    "collapsed": false,
    "pycharm": {
     "name": "#%%\n"
    }
   }
  },
  {
   "cell_type": "markdown",
   "source": [
    "It all has problems around the very next corner when trying to initiate the logistic model ourselves.\n",
    "This is not the end goal but maybe we can just take the data and learn on it and then later do only the predictions in fhe"
   ],
   "metadata": {
    "collapsed": false,
    "pycharm": {
     "name": "#%% md\n"
    }
   }
  },
  {
   "cell_type": "code",
   "execution_count": 57,
   "outputs": [
    {
     "name": "stdout",
     "output_type": "stream",
     "text": [
      "    age  sysbp  diabp  choles    ht     wt\n",
      "0  28.0  130.0   80.0   135.0  67.0  168.0\n",
      "1  25.0  120.0   80.0   156.0  67.0  136.0\n",
      "2  27.0  110.0   70.0   156.0  67.0  150.0\n",
      "3  31.0  124.0   90.0   166.0  67.0  160.0\n",
      "4  37.0  120.0   88.0   172.0  71.0  168.0 \n",
      " 0    0\n",
      "1    0\n",
      "2    0\n",
      "3    0\n",
      "4    0\n",
      "Name: coron, dtype: int64\n",
      "[[ 28. 130.  80. 135.  67. 168.]\n",
      " [ 25. 120.  80. 156.  67. 136.]\n",
      " [ 27. 110.  70. 156.  67. 150.]\n",
      " ...\n",
      " [ 40. 130.  90. 520.  68. 169.]\n",
      " [ 40. 130.  90. 520.  68. 169.]\n",
      " [ 40. 130.  90. 520.  68. 169.]]\n",
      "[0 0 0 0 0 0 0 0 0 0 0 0 0 0 0 0 0 0 0 0 0 0 0 0 0 0 0 0 0 0 0 0 0 0 0 0 0\n",
      " 0 0 0 0 0 0 0 0 0 0 0 0 0 0 0 0 0 0 0 0 0 0 0 0 0 0 0 0 0 0 0 0 0 0 0 0 0\n",
      " 0 0 0 0 0 0 0 0 0 0 0 0 0 0 0 0 0 0 0 0 0 0 0 0 0 0 0 0 0 0 0 0 0 0 0 0 0\n",
      " 0 0 0 0 0 0 0 0 0 0 0 0 0 0 0 0 0 0 0 0 0 0 0 0 0 0 0 0 0 0 0 0 0 0 0 0 0\n",
      " 0 0 0 0 0 0 0 0 0 0 0 0 0 0 0 0 0 0 0 0 0 0 0 0 0 0 0 1 1 1 1 1 1 1 1 1 1\n",
      " 1 1 1 1 1 1 1 1 1 1 1 1 1 1 1 1 1 1 1 1 1 1 1 1 1 1 1 1 1 1 1 1 1 1 1 1 1\n",
      " 1 1 1 1 1 1 1 1 1 1 1 1 1 1 1 1 1 1 1 1 1 1 1 1 1 1 1 1 1 1 1 1 1 1 1 1 1\n",
      " 1 1 1 1 1 1 1 1 1 1 1 1 1 1 1 1]\n",
      "[[ 0.07227185  0.01283342 -0.02906354  0.00767704 -0.05288458  0.02082199]]\n",
      "[-5.34728047]\n"
     ]
    }
   ],
   "source": [
    "import pandas as pd\n",
    "\n",
    "df = pd.read_spss(\"./logisitic.sav\")\n",
    "#df.drop(\"coron\", axis=1, inplace=True)\n",
    "#print(df.head())\n",
    "##########################################\n",
    "from sklearn.model_selection import train_test_split\n",
    "from sklearn.linear_model import LogisticRegression as SklearnLogisticRegression\n",
    "from concrete.ml.sklearn import LogisticRegression as ConcreteLogisticRegression\n",
    "\n",
    "\n",
    "#labels_map = {\"age\":0, \"sysbp\":1, \"diabp\":2, \"choles\":3, \"ht\":4, \"wt\":5, \"coron\":6}\n",
    "#df.rename(columns=labels_map, inplace=True)\n",
    "\n",
    "X = df.drop(\"coron\", axis=1)\n",
    "y = df.coron\n",
    "y = y.astype(int)\n",
    "print(X.head(),\"\\n\", y.head())\n",
    "\n",
    "npX = X.to_numpy()\n",
    "npy = y.to_numpy(dtype=int)\n",
    "print(npX)\n",
    "print(npy)\n",
    "\n",
    "\n",
    "q_logreg = ConcreteLogisticRegression(n_bits=5)#n_bits={\"inputs\": 5, \"weights\": 5})\n",
    "q_logreg.fit(npX, npy)\n",
    "\n",
    "\n",
    "print(q_logreg.coef_)\n",
    "print(q_logreg.intercept_)\n"
   ],
   "metadata": {
    "collapsed": false,
    "pycharm": {
     "name": "#%%\n"
    }
   }
  },
  {
   "cell_type": "markdown",
   "source": [
    "With figuring out how to prepare the data to be the right input, it seems to work\n",
    "The coefficients are pretty much the same which makes sense as we haven't quantized the model yet or switched to fhe\n",
    "[But the test prediction is literally the opposite of what it should be, despite the model looking the same]\n",
    "Some looking into hints at having something to do with the set bit_width in the model?"
   ],
   "metadata": {
    "collapsed": false,
    "pycharm": {
     "name": "#%% md\n"
    }
   }
  },
  {
   "cell_type": "code",
   "execution_count": 58,
   "outputs": [],
   "source": [
    "#compile to fhe\n",
    "q_logreg.compile(npX)"
   ],
   "metadata": {
    "collapsed": false,
    "pycharm": {
     "name": "#%%\n"
    }
   }
  },
  {
   "cell_type": "code",
   "execution_count": 59,
   "outputs": [
    {
     "name": "stdout",
     "output_type": "stream",
     "text": [
      "['class 1' 'class 1'] \n",
      " [[0.43730344 0.56269656]\n",
      " [0.71865172 0.28134828]] \n",
      " [1 0]\n"
     ]
    }
   ],
   "source": [
    "\n",
    "#make some predictions, first in the clear\n",
    "# Test the original classifier\n",
    "y_pred_test = np.asarray(logreg.predict(person12_data))\n",
    "\n",
    "# Now that the model is quantized, predict on the test set\n",
    "q_y_score_test = q_logreg.predict_proba(person12_data)#[:, 1]\n",
    "q_y_pred_test = q_logreg.predict(person12_data)\n",
    "print(y_pred_test, \"\\n\", q_y_score_test, \"\\n\", q_y_pred_test)\n"
   ],
   "metadata": {
    "collapsed": false,
    "pycharm": {
     "name": "#%%\n"
    }
   }
  },
  {
   "cell_type": "code",
   "execution_count": 41,
   "outputs": [
    {
     "name": "stdout",
     "output_type": "stream",
     "text": [
      "[1 0]\n"
     ]
    }
   ],
   "source": [
    "#in fhe\n",
    "q_y_pred_fhe = q_logreg.predict(person12_data, execute_in_fhe=True)\n",
    "print(q_y_pred_fhe)"
   ],
   "metadata": {
    "collapsed": false,
    "pycharm": {
     "name": "#%%\n"
    }
   }
  },
  {
   "cell_type": "markdown",
   "source": [
    "Model does not work with the allowed max bit_width, precision is not enough and gives completely wrong results with lower bit_width.\n",
    "An idea is to simulate the behaviour, though that is bad too. Not sure what to do next, changing the model/input and weights might be feasible, i.e. do our own quantization but it's both unlikely and unpractical.\n",
    "[Possible find out how the QuantizedModule works?]"
   ],
   "metadata": {
    "collapsed": false,
    "pycharm": {
     "name": "#%% md\n"
    }
   }
  },
  {
   "cell_type": "code",
   "execution_count": 124,
   "outputs": [],
   "source": [
    "#use virtuallib\n",
    "#https://docs.zama.ai/concrete-ml/stable/user/explanation/virtual_lib.html?highlight=simulation\n",
    "\n",
    "\n",
    "from concrete.common.compilation import CompilationConfiguration\n",
    "cfg = CompilationConfiguration(\n",
    "    dump_artifacts_on_unexpected_failures=False,\n",
    "    enable_unsafe_features=True,  # This is for our tests only, never use that in prod\n",
    "    treat_warnings_as_errors=True,\n",
    "    use_insecure_key_cache=False,\n",
    ")\n",
    "\n",
    "\n",
    "virtual_q_logreg = ConcreteLogisticRegression(n_bits=8)#n_bits={\"inputs\": 5, \"weights\": 5})\n",
    "virtual_q_logreg.fit(npX, npy)\n",
    "virtual_q_logreg.compile(npX, cfg, use_virtual_lib=True)"
   ],
   "metadata": {
    "collapsed": false,
    "pycharm": {
     "name": "#%%\n"
    }
   }
  },
  {
   "cell_type": "markdown",
   "source": [
    "Use virtual lib to compile, i.e. it's only simulating the fhe circuit!\n",
    "(It needs a CompilationConfiguration)\n",
    "Repeat quantization and test of model"
   ],
   "metadata": {
    "collapsed": false,
    "pycharm": {
     "name": "#%% md\n"
    }
   }
  },
  {
   "cell_type": "code",
   "execution_count": 125,
   "outputs": [
    {
     "name": "stdout",
     "output_type": "stream",
     "text": [
      "['class 1' 'class 1'] \n",
      " [[0.64879241 0.35120759]\n",
      " [0.78652088 0.21347912]] \n",
      " [0 0]\n",
      "/!\\ WARNING /!\\: You are using a VirtualFHECircuit meaning the execution is not done in FHE but in clear.\n",
      "[[0.64879241 0.35120759]\n",
      " [0.78652088 0.21347912]]\n",
      "[0 0]\n"
     ]
    }
   ],
   "source": [
    "\n",
    "#make some predictions, first in the clear\n",
    "# Test the original classifier\n",
    "virtual_y_pred_test = np.asarray(logreg.predict(person12_data))\n",
    "\n",
    "# Now that the model is quantized, predict on the test set\n",
    "virtual_q_y_score_test = virtual_q_logreg.predict_proba(person12_data)#[:, 1]\n",
    "virtual_q_y_pred_test = virtual_q_logreg.predict(person12_data)\n",
    "print(virtual_y_pred_test, \"\\n\", virtual_q_y_score_test, \"\\n\", virtual_q_y_pred_test)\n",
    "\n",
    "\n",
    "#in fhe\n",
    "virtual_q_y_score_fhe = virtual_q_logreg.predict_proba(person12_data, execute_in_fhe=True)\n",
    "virtual_q_y_pred_fhe = virtual_q_logreg.predict(person12_data, execute_in_fhe=True)\n",
    "print(virtual_q_y_score_fhe)\n",
    "print(virtual_q_y_pred_fhe)"
   ],
   "metadata": {
    "collapsed": false,
    "pycharm": {
     "name": "#%%\n"
    }
   }
  },
  {
   "cell_type": "code",
   "execution_count": 62,
   "outputs": [
    {
     "name": "stdout",
     "output_type": "stream",
     "text": [
      "[[ 0.07227185  0.01283342 -0.02906354  0.00767704 -0.05288458  0.02082199]]\n",
      "[-5.34728047]\n",
      "[[0.64304235 0.35695765]\n",
      " [0.79328087 0.20671913]]\n",
      "[0 0]\n"
     ]
    }
   ],
   "source": [
    "test = SklearnLogisticRegression()\n",
    "test.fit(X,y)\n",
    "\n",
    "print(test.coef_)\n",
    "print(test.intercept_)\n",
    "\n",
    "print(test.predict_proba(person12_data))\n",
    "print(test.predict(person12_data))"
   ],
   "metadata": {
    "collapsed": false,
    "pycharm": {
     "name": "#%%\n"
    }
   }
  },
  {
   "cell_type": "markdown",
   "source": [
    "Can only use n_bit=5 for the concrete logistic regression model and doing so does apparently not yield enough precision: the predictions are off.\n",
    "This is unfortunate and points at concrete not (yet) being practical for at least this specific model.\n",
    "For other models one has to redesign the problem or check whether the imprecision is manageable.\n",
    "What \"works\" though is to use the virtual lib to simulate the behaviour of the fhe circuit"
   ],
   "metadata": {
    "collapsed": false,
    "pycharm": {
     "name": "#%% md\n"
    }
   }
  },
  {
   "cell_type": "markdown",
   "source": [
    "do a benchmark similar to\n",
    "https://docs.zama.ai/concrete-ml/stable/user/advanced_examples/ConvolutionalNeuralNetwork.html?highlight=compilationconfiguration"
   ],
   "metadata": {
    "collapsed": false,
    "pycharm": {
     "name": "#%% md\n"
    }
   }
  },
  {
   "cell_type": "code",
   "execution_count": 149,
   "outputs": [
    {
     "name": "stdout",
     "output_type": "stream",
     "text": [
      "0.7018181818181818\n"
     ]
    }
   ],
   "source": [
    "#first, accuracy of the normal logistic regression model\n",
    "\n",
    "test_pred = test.predict(npX)\n",
    "test_accuracy = np.sum(test_pred == npy) / len(npX)\n",
    "print(test_accuracy)"
   ],
   "metadata": {
    "collapsed": false,
    "pycharm": {
     "name": "#%%\n"
    }
   }
  },
  {
   "cell_type": "code",
   "execution_count": 151,
   "outputs": [
    {
     "name": "stdout",
     "output_type": "stream",
     "text": [
      "/!\\ WARNING /!\\: You are using a VirtualFHECircuit meaning the execution is not done in FHE but in clear.\n",
      "/!\\ WARNING /!\\: You are using a VirtualFHECircuit meaning the execution is not done in FHE but in clear.\n",
      "/!\\ WARNING /!\\: You are using a VirtualFHECircuit meaning the execution is not done in FHE but in clear.\n",
      "/!\\ WARNING /!\\: You are using a VirtualFHECircuit meaning the execution is not done in FHE but in clear.\n",
      "/!\\ WARNING /!\\: You are using a VirtualFHECircuit meaning the execution is not done in FHE but in clear.\n",
      "/!\\ WARNING /!\\: You are using a VirtualFHECircuit meaning the execution is not done in FHE but in clear.\n",
      "/!\\ WARNING /!\\: You are using a VirtualFHECircuit meaning the execution is not done in FHE but in clear.\n",
      "/!\\ WARNING /!\\: You are using a VirtualFHECircuit meaning the execution is not done in FHE but in clear.\n",
      "/!\\ WARNING /!\\: You are using a VirtualFHECircuit meaning the execution is not done in FHE but in clear.\n"
     ]
    }
   ],
   "source": [
    "use_fhe = True\n",
    "use_vl = True\n",
    "bit_range = range(2, 11)\n",
    "accs = []\n",
    "accum_bits = []\n",
    "for n_bits in bit_range:\n",
    "    # Compile and test the logistic regression model with the Virtual Lib on the whole test set\n",
    "    virtual_q_logreg = ConcreteLogisticRegression(n_bits)\n",
    "    virtual_q_logreg.fit(npX, npy)\n",
    "    virtual_q_logreg.compile(npX, cfg, use_virtual_lib=use_vl)\n",
    "    accum_bits.append(virtual_q_logreg.quantized_module.forward_fhe.get_max_bit_width())\n",
    "\n",
    "\n",
    "    #benchmark code\n",
    "    dtype_inputs = np.uint8 if use_fhe else np.int32\n",
    "    all_y_pred = np.zeros((len(npX)), dtype=np.int32)\n",
    "\n",
    "    # get the predicted classes\n",
    "    y_pred = virtual_q_logreg.predict(npX, execute_in_fhe=use_fhe)\n",
    "\n",
    "    # Compute and report results\n",
    "    n_correct = np.sum(npy == y_pred)\n",
    "    accs.append(n_correct / len(npX))\n",
    "\n"
   ],
   "metadata": {
    "collapsed": false,
    "pycharm": {
     "name": "#%%\n"
    }
   }
  },
  {
   "cell_type": "code",
   "execution_count": 152,
   "outputs": [
    {
     "data": {
      "text/plain": "<Figure size 864x576 with 1 Axes>",
      "image/png": "[encoded data removed]"
     },
     "metadata": {
      "needs_background": "light"
     },
     "output_type": "display_data"
    }
   ],
   "source": [
    "%matplotlib inline\n",
    "\n",
    "import matplotlib.pyplot as plt\n",
    "\n",
    "fig = plt.figure(figsize=(12, 8))\n",
    "plt.rcParams[\"font.size\"] = 14\n",
    "plt.plot(bit_range, accs, \"-x\")\n",
    "for bits, acc, accum in zip(bit_range, accs, accum_bits):\n",
    "    plt.gca().annotate(str(accum), (bits - 0.05, acc + 0.0025))\n",
    "plt.ylabel(\"Accuracy on test set\")\n",
    "plt.xlabel(\"Weight & activation quantization\")\n",
    "plt.grid(True)\n",
    "plt.title(\"Accuracy for varying quantization bit width\")\n",
    "#add baseline, i.e. accuracy of normal model\n",
    "plt.axhline(y=test_accuracy, color='r', linestyle='-')\n",
    "plt.show()"
   ],
   "metadata": {
    "collapsed": false,
    "pycharm": {
     "name": "#%%\n"
    }
   }
  },
  {
   "cell_type": "markdown",
   "source": [
    "It seems that actually, using fhe with n_bits=5 gives quite okay accuracy\n",
    "(by some coincidence even better than the standard model)\n",
    "So, we conclude that with the right parameter, we can use the fhe circuit of the logistic regression!"
   ],
   "metadata": {
    "collapsed": false,
    "pycharm": {
     "name": "#%% md\n"
    }
   }
  },
  {
   "cell_type": "code",
   "execution_count": 153,
   "outputs": [],
   "source": [
    "best_possible_bits = 5\n",
    "fhe_logreg = ConcreteLogisticRegression(n_bits=best_possible_bits)\n",
    "fhe_logreg.fit(npX, npy)\n",
    "fhe_logreg.compile(npX, use_virtual_lib=False)"
   ],
   "metadata": {
    "collapsed": false,
    "pycharm": {
     "name": "#%%\n"
    }
   }
  },
  {
   "cell_type": "code",
   "execution_count": 157,
   "outputs": [],
   "source": [
    "#will most likely take ages!!\n",
    "test_range = 6\n",
    "fhe_pred = fhe_logreg.predict(npX[0:test_range], execute_in_fhe=True)"
   ],
   "metadata": {
    "collapsed": false,
    "pycharm": {
     "name": "#%%\n"
    }
   }
  },
  {
   "cell_type": "code",
   "execution_count": 160,
   "outputs": [
    {
     "name": "stdout",
     "output_type": "stream",
     "text": [
      "[0 0 0 0 0 0] [0 0 0 0 0 0]\n",
      "6 out of 6\n",
      "1.0\n"
     ]
    }
   ],
   "source": [
    "print(fhe_pred, npy[0:len(fhe_pred)])\n",
    "fhe_correct = np.sum(fhe_pred == npy[0:len(fhe_pred)])\n",
    "print(fhe_correct, \"out of\", len(fhe_pred))\n",
    "print(fhe_correct/len(fhe_pred))\n"
   ],
   "metadata": {
    "collapsed": false,
    "pycharm": {
     "name": "#%%\n"
    }
   }
  },
  {
   "cell_type": "markdown",
   "source": [],
   "metadata": {
    "collapsed": false,
    "pycharm": {
     "name": "#%% md\n"
    }
   }
  }
 ],
 "metadata": {
  "kernelspec": {
   "display_name": "Python 3",
   "language": "python",
   "name": "python3"
  },
  "language_info": {
   "codemirror_mode": {
    "name": "ipython",
    "version": 2
   },
   "file_extension": ".py",
   "mimetype": "text/x-python",
   "name": "python",
   "nbconvert_exporter": "python",
   "pygments_lexer": "ipython2",
   "version": "2.7.6"
  }
 },
 "nbformat": 4,
 "nbformat_minor": 0
}
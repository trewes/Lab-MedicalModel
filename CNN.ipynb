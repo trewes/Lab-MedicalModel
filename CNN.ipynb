{
 "cells": [
  {
   "cell_type": "markdown",
   "source": [
    "Convolutional Neural Network\n",
    "This example shows how to design a simple CNN and how to measure the maximum accumulator bit width. We further show the impact of strong post-training quantization on accuracy. The maximum accumulator bit width that is currently allowed in Concrete-ML is 7 bits.\n",
    "\n",
    "We simulate the FHE circuit of a CNN with the Virtual Lib, a tool that provides design-time information and helps to construct FHE compatible models. Please note that we are not compiling the models to FHE in this example, as the accuracy obtained for the FHE-compatible configuration is too low. The accuracy of NN models, that have more than a few parameters, will be improved in future versions of Concrete-ML."
   ],
   "metadata": {
    "collapsed": false,
    "pycharm": {
     "name": "#%% md\n"
    }
   }
  },
  {
   "cell_type": "markdown",
   "source": [
    "Import required modules"
   ],
   "metadata": {
    "collapsed": false,
    "pycharm": {
     "name": "#%% md\n"
    }
   }
  },
  {
   "cell_type": "code",
   "execution_count": 9,
   "outputs": [],
   "source": [
    "import numpy as np\n",
    "import torch\n",
    "import torch.utils\n",
    "from concrete.common.compilation import CompilationConfiguration\n",
    "from sklearn.datasets import load_digits\n",
    "from sklearn.model_selection import train_test_split\n",
    "from torch import nn\n",
    "from torch.nn.utils import prune\n",
    "from torch.utils.data import DataLoader, TensorDataset\n",
    "from tqdm import tqdm\n",
    "\n",
    "from concrete.ml.torch.compile import compile_torch_model\n",
    "\n",
    "# And some helpers for visualization.\n",
    "\n",
    "%matplotlib inline\n",
    "\n",
    "import matplotlib.pyplot as plt"
   ],
   "metadata": {
    "collapsed": false,
    "pycharm": {
     "name": "#%%\n"
    }
   }
  },
  {
   "cell_type": "markdown",
   "source": [
    "Load the dataset and visualize it"
   ],
   "metadata": {
    "collapsed": false,
    "pycharm": {
     "name": "#%% md\n"
    }
   }
  },
  {
   "cell_type": "code",
   "execution_count": 35,
   "outputs": [
    {
     "name": "stdout",
     "output_type": "stream",
     "text": [
      "(1797, 64) (1797,)\n"
     ]
    },
    {
     "data": {
      "text/plain": "<Figure size 432x432 with 16 Axes>",
      "image/png": "[encoded data removed]"
     },
     "metadata": {
      "needs_background": "light"
     },
     "output_type": "display_data"
    },
    {
     "name": "stdout",
     "output_type": "stream",
     "text": [
      "(1797, 1, 8, 8) (1797,)\n",
      "(1347, 1, 8, 8) (1347,)\n"
     ]
    }
   ],
   "source": [
    "X, y = load_digits(return_X_y=True)\n",
    "\n",
    "# The sklearn Digits dataset, though it contains digit images, keeps these images in vectors\n",
    "# so we need to reshape them to 2D first. The images are 8x8 px in size and monochrome\n",
    "X = np.expand_dims(X.reshape((-1, 8, 8)), 1)\n",
    "\n",
    "nplot = 4\n",
    "fig, ax = plt.subplots(nplot, nplot, figsize=(6, 6))\n",
    "for i in range(0, nplot):\n",
    "    for j in range(0, nplot):\n",
    "        ax[i, j].imshow(X[i * nplot + j, ::].squeeze())\n",
    "plt.show()\n",
    "\n",
    "x_train, x_test, y_train, y_test = train_test_split(\n",
    "    X, y, test_size=0.25, shuffle=True, random_state=42\n",
    ")"
   ],
   "metadata": {
    "collapsed": false,
    "pycharm": {
     "name": "#%%\n"
    }
   }
  },
  {
   "cell_type": "markdown",
   "source": [
    "Define the neural network\n",
    "Since the accumulator bit width in FHE is small, we prune the convolutional filters to limit the number of connections per neuron.\n",
    "\n",
    "Neural network pruning is the process by which the synapses of individual neurons in a layer are forced to have a weight equal to zero. This basically eliminates them from the computation and thus they do not increase the accumulator bit width. It has been shown that neural networks can maintain their accuracy with a degree of pruning that can even exceed 70% for some over-parametrized networks such as VGG16 or large ResNets.\n",
    "\n",
    "See: https://arxiv.org/pdf/2003.03033.pdf, Figure 8 in Section 7.2, for an evaluation on the simple pruning method used in this example."
   ],
   "metadata": {
    "collapsed": false,
    "pycharm": {
     "name": "#%% md\n"
    }
   }
  },
  {
   "cell_type": "code",
   "execution_count": 6,
   "outputs": [],
   "source": [
    "class TinyCNN(nn.Module):\n",
    "    \"\"\"A very small CNN to classify the sklearn digits dataset.\n",
    "\n",
    "    This class also allows pruning to a maximum of 10 active neurons, which\n",
    "    should help keep the accumulator bit width low.\n",
    "    \"\"\"\n",
    "\n",
    "    def __init__(self, n_classes) -> None:\n",
    "        \"\"\"Construct the CNN with a configurable number of classes.\"\"\"\n",
    "        super().__init__()\n",
    "\n",
    "        # This network has a total complexity of 1216 MAC\n",
    "        self.conv1 = nn.Conv2d(1, 2, 3, stride=1, padding=0)\n",
    "        self.conv2 = nn.Conv2d(2, 3, 3, stride=2, padding=0)\n",
    "        self.conv3 = nn.Conv2d(3, 16, 2, stride=1, padding=0)\n",
    "        self.fc1 = nn.Linear(16, n_classes)\n",
    "\n",
    "        # Enable pruning, prepared for training\n",
    "        self.toggle_pruning(True)\n",
    "\n",
    "    def toggle_pruning(self, enable):\n",
    "        \"\"\"Enables or removes pruning.\"\"\"\n",
    "\n",
    "        # Maximum number of active neurons (i.e. corresponding weight != 0)\n",
    "        n_active = 10\n",
    "\n",
    "        # Go through all the convolution layers\n",
    "        for layer in (self.conv1, self.conv2, self.conv3):\n",
    "            s = layer.weight.shape\n",
    "\n",
    "            # Compute fan-in (number of inputs to a neuron)\n",
    "            # and fan-out (number of neurons in the layer)\n",
    "            st = [s[0], np.prod(s[1:])]\n",
    "\n",
    "            # The number of input neurons (fan-in) is the product of\n",
    "            # the kernel width x height x inChannels.\n",
    "            if st[1] > n_active:\n",
    "                if enable:\n",
    "                    # This will create a forward hook to create a mask tensor that is multiplied\n",
    "                    # with the weights during forward. The mask will contain 0s or 1s\n",
    "                    prune.l1_unstructured(layer, \"weight\", (st[1] - n_active) * st[0])\n",
    "                else:\n",
    "                    # When disabling pruning, the mask is multiplied with the weights\n",
    "                    # and the result is stored in the weights member\n",
    "                    prune.remove(layer, \"weight\")\n",
    "\n",
    "    def forward(self, x):\n",
    "        \"\"\"Run inference on the tiny CNN, apply the decision layer on the reshaped conv output.\"\"\"\n",
    "\n",
    "        x = self.conv1(x)\n",
    "        x = torch.relu(x)\n",
    "        x = self.conv2(x)\n",
    "        x = torch.relu(x)\n",
    "        x = self.conv3(x)\n",
    "        x = torch.relu(x)\n",
    "        x = x.view(-1, 16)\n",
    "        x = self.fc1(x)\n",
    "        return x"
   ],
   "metadata": {
    "collapsed": false,
    "pycharm": {
     "name": "#%%\n"
    }
   }
  },
  {
   "cell_type": "markdown",
   "source": [
    "Train the CNN"
   ],
   "metadata": {
    "collapsed": false,
    "pycharm": {
     "name": "#%% md\n"
    }
   }
  },
  {
   "cell_type": "code",
   "execution_count": 4,
   "outputs": [
    {
     "data": {
      "text/plain": "<Figure size 576x288 with 1 Axes>",
      "image/png": "[encoded data removed]"
     },
     "metadata": {
      "needs_background": "light"
     },
     "output_type": "display_data"
    }
   ],
   "source": [
    "torch.manual_seed(12538040293833290220)\n",
    "\n",
    "\n",
    "def train_one_epoch(net, optimizer, train_loader):\n",
    "    # Cross Entropy loss for classification when not using a softmax layer in the network\n",
    "    loss = nn.CrossEntropyLoss()\n",
    "\n",
    "    net.train()\n",
    "    avg_loss = 0\n",
    "    for data, target in train_loader:\n",
    "        optimizer.zero_grad()\n",
    "        output = net(data)\n",
    "        loss_net = loss(output, target.long())\n",
    "        loss_net.backward()\n",
    "        optimizer.step()\n",
    "        avg_loss += loss_net.item()\n",
    "\n",
    "    return avg_loss / len(train_loader)\n",
    "\n",
    "\n",
    "# Create the tiny CNN with 10 output classes\n",
    "net = TinyCNN(10)\n",
    "N_EPOCHS = 60\n",
    "\n",
    "# Create a train data loader\n",
    "train_dataset = TensorDataset(torch.Tensor(x_train), torch.Tensor(y_train))\n",
    "train_dataloader = DataLoader(train_dataset, batch_size=64)\n",
    "\n",
    "# Create a test data loader to supply batches for network evaluation (test)\n",
    "test_dataset = TensorDataset(torch.Tensor(x_test), torch.Tensor(y_test))\n",
    "test_dataloader = DataLoader(test_dataset)\n",
    "\n",
    "# Train the network with Adam, output the test set accuracy every epoch\n",
    "optimizer = torch.optim.Adam(net.parameters())\n",
    "losses = []\n",
    "for _ in range(N_EPOCHS):\n",
    "    losses.append(train_one_epoch(net, optimizer, train_dataloader))\n",
    "\n",
    "# Finally, disable pruning (sets the pruned weights to 0)\n",
    "net.toggle_pruning(False)\n",
    "\n",
    "fig = plt.figure(figsize=(8, 4))\n",
    "plt.plot(losses)\n",
    "plt.ylabel(\"Cross Entropy Loss\")\n",
    "plt.xlabel(\"Epoch\")\n",
    "plt.grid(True)\n",
    "plt.title(\"Training set loss during training\")\n",
    "plt.show()"
   ],
   "metadata": {
    "collapsed": false,
    "pycharm": {
     "name": "#%%\n"
    }
   }
  },
  {
   "cell_type": "markdown",
   "source": [
    "Test the torch network in fp32"
   ],
   "metadata": {
    "collapsed": false,
    "pycharm": {
     "name": "#%% md\n"
    }
   }
  },
  {
   "cell_type": "code",
   "execution_count": 5,
   "outputs": [
    {
     "name": "stdout",
     "output_type": "stream",
     "text": [
      "Test accuracy: 90.00%\n"
     ]
    }
   ],
   "source": [
    "def test_torch(net, test_loader):\n",
    "    \"\"\"Test the network: measure accuracy on the test set.\"\"\"\n",
    "\n",
    "    # Freeze normalization layers\n",
    "    net.eval()\n",
    "\n",
    "    all_y_pred = np.zeros((len(test_loader)), dtype=np.int32)\n",
    "    all_targets = np.zeros((len(test_loader)), dtype=np.int32)\n",
    "\n",
    "    # Iterate over the batches\n",
    "    idx = 0\n",
    "    for data, target in test_loader:\n",
    "        # Accumulate the ground truth labels\n",
    "        endidx = idx + target.shape[0]\n",
    "        all_targets[idx:endidx] = target.numpy()\n",
    "\n",
    "        # Run forward and get the predicted class id\n",
    "        output = net(data).argmax(1).detach().numpy()\n",
    "        all_y_pred[idx:endidx] = output\n",
    "\n",
    "        idx += target.shape[0]\n",
    "\n",
    "    # Print out the accuracy as a percentage\n",
    "    n_correct = np.sum(all_targets == all_y_pred)\n",
    "    print(f\"Test accuracy: {n_correct / len(test_loader) * 100:.2f}%\")\n",
    "\n",
    "\n",
    "test_torch(net, test_dataloader)"
   ],
   "metadata": {
    "collapsed": false,
    "pycharm": {
     "name": "#%%\n"
    }
   }
  },
  {
   "cell_type": "markdown",
   "source": [
    "Test the network with quantification using the Virtual Lib\n",
    "Note that this is not a test in FHE. The Virtual Lib only simulates an FHE circuit to give insight on the number of accumulator bits that are needed."
   ],
   "metadata": {
    "collapsed": false,
    "pycharm": {
     "name": "#%% md\n"
    }
   }
  },
  {
   "cell_type": "code",
   "execution_count": 6,
   "outputs": [
    {
     "name": "stderr",
     "output_type": "stream",
     "text": [
      "/home/wsl/.local/lib/python3.8/site-packages/torch/onnx/symbolic_helper.py:719: UserWarning: allowzero=0 by default. In order to honor zero value in shape use allowzero=1\n",
      "  warnings.warn(\"allowzero=0 by default. In order to honor zero value in shape use allowzero=1\")\n",
      "  0%|▋                                                                                                                                                                  | 2/450 [00:00<00:28, 15.80it/s]"
     ]
    },
    {
     "name": "stdout",
     "output_type": "stream",
     "text": [
      "/!\\ WARNING /!\\: You are using a VirtualFHECircuit meaning the execution is not done in FHE but in clear.\n"
     ]
    },
    {
     "name": "stderr",
     "output_type": "stream",
     "text": [
      "100%|█████████████████████████████████████████████████████████████████████████████████████████████████████████████████████████████████████████████████████████████████| 450/450 [00:20<00:00, 21.96it/s]\n",
      "  1%|█                                                                                                                                                                  | 3/450 [00:00<00:20, 22.31it/s]"
     ]
    },
    {
     "name": "stdout",
     "output_type": "stream",
     "text": [
      "/!\\ WARNING /!\\: You are using a VirtualFHECircuit meaning the execution is not done in FHE but in clear.\n"
     ]
    },
    {
     "name": "stderr",
     "output_type": "stream",
     "text": [
      "100%|█████████████████████████████████████████████████████████████████████████████████████████████████████████████████████████████████████████████████████████████████| 450/450 [00:18<00:00, 24.11it/s]\n",
      "  0%|▋                                                                                                                                                                  | 2/450 [00:00<00:31, 14.28it/s]"
     ]
    },
    {
     "name": "stdout",
     "output_type": "stream",
     "text": [
      "/!\\ WARNING /!\\: You are using a VirtualFHECircuit meaning the execution is not done in FHE but in clear.\n"
     ]
    },
    {
     "name": "stderr",
     "output_type": "stream",
     "text": [
      "100%|█████████████████████████████████████████████████████████████████████████████████████████████████████████████████████████████████████████████████████████████████| 450/450 [00:19<00:00, 22.72it/s]\n",
      "  0%|▋                                                                                                                                                                  | 2/450 [00:00<00:28, 15.86it/s]"
     ]
    },
    {
     "name": "stdout",
     "output_type": "stream",
     "text": [
      "/!\\ WARNING /!\\: You are using a VirtualFHECircuit meaning the execution is not done in FHE but in clear.\n"
     ]
    },
    {
     "name": "stderr",
     "output_type": "stream",
     "text": [
      "100%|█████████████████████████████████████████████████████████████████████████████████████████████████████████████████████████████████████████████████████████████████| 450/450 [00:24<00:00, 18.70it/s]\n",
      "  0%|▋                                                                                                                                                                  | 2/450 [00:00<00:31, 14.36it/s]"
     ]
    },
    {
     "name": "stdout",
     "output_type": "stream",
     "text": [
      "/!\\ WARNING /!\\: You are using a VirtualFHECircuit meaning the execution is not done in FHE but in clear.\n"
     ]
    },
    {
     "name": "stderr",
     "output_type": "stream",
     "text": [
      "100%|█████████████████████████████████████████████████████████████████████████████████████████████████████████████████████████████████████████████████████████████████| 450/450 [00:21<00:00, 21.31it/s]\n",
      "  1%|█                                                                                                                                                                  | 3/450 [00:00<00:19, 22.94it/s]"
     ]
    },
    {
     "name": "stdout",
     "output_type": "stream",
     "text": [
      "/!\\ WARNING /!\\: You are using a VirtualFHECircuit meaning the execution is not done in FHE but in clear.\n"
     ]
    },
    {
     "name": "stderr",
     "output_type": "stream",
     "text": [
      "100%|█████████████████████████████████████████████████████████████████████████████████████████████████████████████████████████████████████████████████████████████████| 450/450 [00:18<00:00, 23.72it/s]\n",
      "  0%|▋                                                                                                                                                                  | 2/450 [00:00<00:27, 16.23it/s]"
     ]
    },
    {
     "name": "stdout",
     "output_type": "stream",
     "text": [
      "/!\\ WARNING /!\\: You are using a VirtualFHECircuit meaning the execution is not done in FHE but in clear.\n"
     ]
    },
    {
     "name": "stderr",
     "output_type": "stream",
     "text": [
      "100%|█████████████████████████████████████████████████████████████████████████████████████████████████████████████████████████████████████████████████████████████████| 450/450 [00:13<00:00, 32.45it/s]\n"
     ]
    }
   ],
   "source": [
    "cfg = CompilationConfiguration(\n",
    "    dump_artifacts_on_unexpected_failures=False,\n",
    "    enable_unsafe_features=True,  # This is for our tests only, never use that in prod\n",
    "    treat_warnings_as_errors=True,\n",
    "    use_insecure_key_cache=False,\n",
    ")\n",
    "\n",
    "\n",
    "def test_with_concrete_virtual_lib(quantized_module, test_loader, use_fhe, use_vl):\n",
    "    \"\"\"Test a neural network that is quantized and compiled with Concrete-ML.\"\"\"\n",
    "\n",
    "    # When running in FHE, we cast inputs to uint8, but when running using the Virtual Lib (VL)\n",
    "    # we may want inputs to exceed 8b to test quantization performance. Thus,\n",
    "    # for VL we cast to int32\n",
    "    dtype_inputs = np.uint8 if use_fhe else np.int32\n",
    "    all_y_pred = np.zeros((len(test_loader)), dtype=np.int32)\n",
    "    all_targets = np.zeros((len(test_loader)), dtype=np.int32)\n",
    "\n",
    "    # Iterate over the test batches and accumulate predictions and ground truth labels in a vector\n",
    "    idx = 0\n",
    "    for data, target in tqdm(test_loader):\n",
    "        data = data.numpy()\n",
    "        # Quantize the inputs and cast to appropriate data type\n",
    "        x_test_q = quantized_module.quantize_input(data).astype(dtype_inputs)\n",
    "\n",
    "        # Accumulate the ground truth labels\n",
    "        endidx = idx + target.shape[0]\n",
    "        all_targets[idx:endidx] = target.numpy()\n",
    "\n",
    "        # Iterate over single inputs\n",
    "        for i in range(x_test_q.shape[0]):\n",
    "            # Inputs must have size (N, C, H, W), we add the batch dimension with N=1\n",
    "            x_q = np.expand_dims(x_test_q[i, :], 0)\n",
    "\n",
    "            # Execute either in FHE (compiled or VL) or just in quantized\n",
    "            if use_fhe or use_vl:\n",
    "                out_fhe = quantized_module.forward_fhe.encrypt_run_decrypt(x_q)\n",
    "                output = quantized_module.dequantize_output(out_fhe)\n",
    "            else:\n",
    "                output = quantized_module.forward_and_dequant(x_q)\n",
    "\n",
    "            # Take the predicted class from the outputs and store it\n",
    "            y_pred = np.argmax(output, 1)\n",
    "            all_y_pred[idx] = y_pred\n",
    "            idx += 1\n",
    "\n",
    "    # Compute and report results\n",
    "    n_correct = np.sum(all_targets == all_y_pred)\n",
    "    return n_correct / len(test_loader)\n",
    "\n",
    "\n",
    "accs = []\n",
    "accum_bits = []\n",
    "for n_bits in range(2, 9):\n",
    "    # Compile and test the network with the Virtual Lib on the whole test set\n",
    "    q_module_vl = compile_torch_model(\n",
    "        net,\n",
    "        x_train,\n",
    "        n_bits=n_bits,\n",
    "        use_virtual_lib=True,\n",
    "        compilation_configuration=cfg,\n",
    "    )\n",
    "    # pylint: disable=no-member\n",
    "    accum_bits.append(q_module_vl.forward_fhe.get_max_bit_width())\n",
    "    # pylint: enable=no-member\n",
    "\n",
    "    accs.append(\n",
    "        test_with_concrete_virtual_lib(\n",
    "            q_module_vl,\n",
    "            test_dataloader,\n",
    "            use_fhe=False,\n",
    "            use_vl=True,\n",
    "        )\n",
    "    )"
   ],
   "metadata": {
    "collapsed": false,
    "pycharm": {
     "name": "#%%\n"
    }
   }
  },
  {
   "cell_type": "markdown",
   "source": [
    "Analysis of quantized results\n",
    "We plot the accuracies obtained for various levels of quantization of weights and activations. In addition, we plot the maximum accumulator bit width required to run inference of the network for each weight and activation bit width. This accumulator bit width is measured by the Virtual Lib and can be very useful in designing FHE-compatible neural networks."
   ],
   "metadata": {
    "collapsed": false,
    "pycharm": {
     "name": "#%% md\n"
    }
   }
  },
  {
   "cell_type": "code",
   "execution_count": 7,
   "outputs": [
    {
     "data": {
      "text/plain": "<Figure size 864x576 with 1 Axes>",
      "image/png": "[encoded data removed]"
     },
     "metadata": {
      "needs_background": "light"
     },
     "output_type": "display_data"
    }
   ],
   "source": [
    "fig = plt.figure(figsize=(12, 8))\n",
    "plt.rcParams[\"font.size\"] = 14\n",
    "plt.plot(range(2, 9), accs, \"-x\")\n",
    "for bits, acc, accum in zip(range(2, 9), accs, accum_bits):\n",
    "    plt.gca().annotate(str(accum), (bits - 0.1, acc + 0.025))\n",
    "plt.ylabel(\"Accuracy on test set\")\n",
    "plt.xlabel(\"Weight & activation quantization\")\n",
    "plt.grid(True)\n",
    "plt.title(\"Accuracy for varying quantization bit width\")\n",
    "plt.show()"
   ],
   "metadata": {
    "collapsed": false,
    "pycharm": {
     "name": "#%%\n"
    }
   }
  },
  {
   "cell_type": "markdown",
   "source": [
    "Conclusion\n",
    "We see that quantization with 2 bit weight and activations is the only viable FHE configuration, as the accumulator bit width for this configuration is 5-6 bits (can vary due to the final distribution of the weights).\n",
    "\n",
    "We further see that the number of bits for weigths and activations to achieve an accuracy comparable to the floating point accuracy is at least 5 bits and requires a 12 bit accumulator."
   ],
   "metadata": {
    "collapsed": false,
    "pycharm": {
     "name": "#%% md\n"
    }
   }
  },
  {
   "cell_type": "markdown",
   "source": [],
   "metadata": {
    "collapsed": false,
    "pycharm": {
     "name": "#%% md\n"
    }
   }
  },
  {
   "cell_type": "markdown",
   "source": [],
   "metadata": {
    "collapsed": false,
    "pycharm": {
     "name": "#%% md\n"
    }
   }
  },
  {
   "cell_type": "markdown",
   "source": [
    "Now adapt the code to our medical model"
   ],
   "metadata": {
    "collapsed": false,
    "pycharm": {
     "name": "#%% md\n"
    }
   }
  },
  {
   "cell_type": "code",
   "execution_count": 1,
   "outputs": [],
   "source": [
    "import numpy as np\n",
    "import torch\n",
    "import torch.utils\n",
    "from concrete.common.compilation import CompilationConfiguration\n",
    "from sklearn.datasets import load_digits\n",
    "from sklearn.model_selection import train_test_split\n",
    "from torch import nn\n",
    "from torch.nn.utils import prune\n",
    "from torch.utils.data import DataLoader, TensorDataset\n",
    "from tqdm import tqdm\n",
    "\n",
    "from concrete.ml.torch.compile import compile_torch_model\n",
    "\n",
    "# And some helpers for visualization.\n",
    "\n",
    "%matplotlib inline\n",
    "\n",
    "import matplotlib.pyplot as plt"
   ],
   "metadata": {
    "collapsed": false,
    "pycharm": {
     "name": "#%%\n"
    }
   }
  },
  {
   "cell_type": "code",
   "execution_count": null,
   "outputs": [],
   "source": [
    "from concrete.common.compilation import CompilationConfiguration\n",
    "cfg = CompilationConfiguration(\n",
    "    dump_artifacts_on_unexpected_failures=False,\n",
    "    enable_unsafe_features=True,  # This is for our tests only, never use that in prod\n",
    "    treat_warnings_as_errors=True,\n",
    "    use_insecure_key_cache=False,\n",
    ")"
   ],
   "metadata": {
    "collapsed": false,
    "pycharm": {
     "name": "#%%\n"
    }
   }
  },
  {
   "cell_type": "code",
   "execution_count": null,
   "outputs": [],
   "source": [
    "\n",
    "import pandas as pd\n",
    "df = pd.read_spss(\"./logisitic.sav\")\n",
    "#labels_map = {\"age\":0, \"sysbp\":1, \"diabp\":2, \"choles\":3, \"ht\":4, \"wt\":5, \"coron\":6}\n",
    "#df.rename(columns=labels_map, inplace=True)\n",
    "\n",
    "X = df.drop(\"coron\", axis=1)\n",
    "y = df.coron\n",
    "y = y.astype(int)\n",
    "npX = X.to_numpy()\n",
    "npy = y.to_numpy(dtype=int)\n",
    "\n",
    "print(npX.shape, npy.shape)\n",
    "npX = np.expand_dims(npX.reshape((-1, 6)), 1)\n",
    "print(npX.shape, npy.shape)\n",
    "\n",
    "x_train, x_test, y_train, y_test = train_test_split(\n",
    "    npX, npy, test_size=0.25, shuffle=True, random_state=42\n",
    ")\n",
    "print(x_train.shape, y_train.shape)"
   ],
   "metadata": {
    "collapsed": false,
    "pycharm": {
     "name": "#%%\n"
    }
   }
  },
  {
   "cell_type": "markdown",
   "source": [],
   "metadata": {
    "collapsed": false,
    "pycharm": {
     "name": "#%% md\n"
    }
   }
  },
  {
   "cell_type": "code",
   "execution_count": 41,
   "outputs": [],
   "source": [],
   "metadata": {
    "collapsed": false,
    "pycharm": {
     "name": "#%%\n"
    }
   }
  },
  {
   "cell_type": "markdown",
   "source": [
    "Define the CNN"
   ],
   "metadata": {
    "collapsed": false,
    "pycharm": {
     "name": "#%% md\n"
    }
   }
  },
  {
   "cell_type": "code",
   "execution_count": 43,
   "outputs": [],
   "source": [
    "class TinyCNN(nn.Module):\n",
    "    \"\"\"A very small CNN to classify the sklearn digits dataset.\n",
    "\n",
    "    This class also allows pruning to a maximum of 10 active neurons, which\n",
    "    should help keep the accumulator bit width low.\n",
    "    \"\"\"\n",
    "\n",
    "    def __init__(self, n_classes) -> None:\n",
    "        \"\"\"Construct the CNN with a configurable number of classes.\"\"\"\n",
    "        super().__init__()\n",
    "\n",
    "        # This network has a total complexity of 1216 MAC\n",
    "        self.conv1 = nn.Conv1d(1, 2, 3, stride=1, padding=0)\n",
    "        self.conv2 = nn.Conv1d(2, 4, 2, stride=2, padding=0)\n",
    "        self.conv3 = nn.Conv1d(4, 16, 2, stride=1, padding=0)\n",
    "        self.fc1 = nn.Linear(16, n_classes)\n",
    "\n",
    "        # Enable pruning, prepared for training\n",
    "        self.toggle_pruning(True)\n",
    "\n",
    "    def toggle_pruning(self, enable):\n",
    "        \"\"\"Enables or removes pruning.\"\"\"\n",
    "\n",
    "        # Maximum number of active neurons (i.e. corresponding weight != 0)\n",
    "        n_active = 10\n",
    "\n",
    "        # Go through all the convolution layers\n",
    "        for layer in (self.conv1, self.conv2, self.conv3):\n",
    "            s = layer.weight.shape\n",
    "\n",
    "            # Compute fan-in (number of inputs to a neuron)\n",
    "            # and fan-out (number of neurons in the layer)\n",
    "            st = [s[0], np.prod(s[1:])]\n",
    "\n",
    "            # The number of input neurons (fan-in) is the product of\n",
    "            # the kernel width x height x inChannels.\n",
    "            if st[1] > n_active:\n",
    "                if enable:\n",
    "                    # This will create a forward hook to create a mask tensor that is multiplied\n",
    "                    # with the weights during forward. The mask will contain 0s or 1s\n",
    "                    prune.l1_unstructured(layer, \"weight\", (st[1] - n_active) * st[0])\n",
    "                else:\n",
    "                    # When disabling pruning, the mask is multiplied with the weights\n",
    "                    # and the result is stored in the weights member\n",
    "                    prune.remove(layer, \"weight\")\n",
    "\n",
    "    def forward(self, x):\n",
    "        \"\"\"Run inference on the tiny CNN, apply the decision layer on the reshaped conv output.\"\"\"\n",
    "\n",
    "        x = self.conv1(x)\n",
    "        x = torch.relu(x)\n",
    "        x = self.conv2(x)\n",
    "        x = torch.relu(x)\n",
    "        x = self.conv3(x)\n",
    "        x = torch.relu(x)\n",
    "        x = x.view(-1, 16)\n",
    "        x = self.fc1(x)\n",
    "        return x"
   ],
   "metadata": {
    "collapsed": false,
    "pycharm": {
     "name": "#%%\n"
    }
   }
  },
  {
   "cell_type": "markdown",
   "source": [
    "Train the CNN"
   ],
   "metadata": {
    "collapsed": false,
    "pycharm": {
     "name": "#%% md\n"
    }
   }
  },
  {
   "cell_type": "code",
   "execution_count": 44,
   "outputs": [
    {
     "data": {
      "text/plain": "<Figure size 576x288 with 1 Axes>",
      "image/png": "[encoded data removed]"
     },
     "metadata": {
      "needs_background": "light"
     },
     "output_type": "display_data"
    }
   ],
   "source": [
    "torch.manual_seed(12538040293833290220)\n",
    "\n",
    "\n",
    "def train_one_epoch(net, optimizer, train_loader):\n",
    "    # Cross Entropy loss for classification when not using a softmax layer in the network\n",
    "    loss = nn.CrossEntropyLoss()\n",
    "\n",
    "    net.train()\n",
    "    avg_loss = 0\n",
    "    for data, target in train_loader:\n",
    "        optimizer.zero_grad()\n",
    "        output = net(data)\n",
    "        loss_net = loss(output, target.long())\n",
    "        loss_net.backward()\n",
    "        optimizer.step()\n",
    "        avg_loss += loss_net.item()\n",
    "\n",
    "    return avg_loss / len(train_loader)\n",
    "\n",
    "\n",
    "# Create the tiny CNN with 2 output classes\n",
    "net = TinyCNN(2)\n",
    "N_EPOCHS = 60\n",
    "\n",
    "# Create a train data loader\n",
    "train_dataset = TensorDataset(torch.Tensor(x_train), torch.Tensor(y_train))\n",
    "train_dataloader = DataLoader(train_dataset, batch_size=64)\n",
    "\n",
    "\n",
    "# Create a test data loader to supply batches for network evaluation (test)\n",
    "test_dataset = TensorDataset(torch.Tensor(x_test), torch.Tensor(y_test))\n",
    "test_dataloader = DataLoader(test_dataset)\n",
    "\n",
    "# Train the network with Adam, output the test set accuracy every epoch\n",
    "optimizer = torch.optim.Adam(net.parameters())\n",
    "losses = []\n",
    "for _ in range(N_EPOCHS):\n",
    "    losses.append(train_one_epoch(net, optimizer, test_dataloader))\n",
    "\n",
    "# Finally, disable pruning (sets the pruned weights to 0)\n",
    "net.toggle_pruning(False)\n",
    "\n",
    "fig = plt.figure(figsize=(8, 4))\n",
    "plt.plot(losses)\n",
    "plt.ylabel(\"Cross Entropy Loss\")\n",
    "plt.xlabel(\"Epoch\")\n",
    "plt.grid(True)\n",
    "plt.title(\"Training set loss during training\")\n",
    "plt.show()"
   ],
   "metadata": {
    "collapsed": false,
    "pycharm": {
     "name": "#%%\n"
    }
   }
  },
  {
   "cell_type": "code",
   "execution_count": 45,
   "outputs": [
    {
     "name": "stdout",
     "output_type": "stream",
     "text": [
      "Test accuracy: 65.22%\n"
     ]
    }
   ],
   "source": [
    "def test_torch(net, test_loader):\n",
    "    \"\"\"Test the network: measure accuracy on the test set.\"\"\"\n",
    "\n",
    "    # Freeze normalization layers\n",
    "    net.eval()\n",
    "\n",
    "    all_y_pred = np.zeros((len(test_loader)), dtype=np.int32)\n",
    "    all_targets = np.zeros((len(test_loader)), dtype=np.int32)\n",
    "\n",
    "    # Iterate over the batches\n",
    "    idx = 0\n",
    "    for data, target in test_loader:\n",
    "        # Accumulate the ground truth labels\n",
    "        endidx = idx + target.shape[0]\n",
    "        all_targets[idx:endidx] = target.numpy()\n",
    "\n",
    "        # Run forward and get the predicted class id\n",
    "        output = net(data).argmax(1).detach().numpy()\n",
    "        all_y_pred[idx:endidx] = output\n",
    "\n",
    "        idx += target.shape[0]\n",
    "\n",
    "    # Print out the accuracy as a percentage\n",
    "    n_correct = np.sum(all_targets == all_y_pred)\n",
    "    print(f\"Test accuracy: {n_correct / len(test_loader) * 100:.2f}%\")\n",
    "\n",
    "\n",
    "test_acc = test_torch(net, test_dataloader)"
   ],
   "metadata": {
    "collapsed": false,
    "pycharm": {
     "name": "#%%\n"
    }
   }
  },
  {
   "cell_type": "code",
   "execution_count": 46,
   "outputs": [
    {
     "name": "stderr",
     "output_type": "stream",
     "text": [
      "/home/wsl/.local/lib/python3.8/site-packages/torch/onnx/symbolic_helper.py:719: UserWarning: allowzero=0 by default. In order to honor zero value in shape use allowzero=1\n",
      "  warnings.warn(\"allowzero=0 by default. In order to honor zero value in shape use allowzero=1\")\n"
     ]
    },
    {
     "ename": "AssertionError",
     "evalue": "The convolution operator currently supports only 2d",
     "output_type": "error",
     "traceback": [
      "\u001B[0;31m---------------------------------------------------------------------------\u001B[0m",
      "\u001B[0;31mAssertionError\u001B[0m                            Traceback (most recent call last)",
      "Input \u001B[0;32mIn [46]\u001B[0m, in \u001B[0;36m<cell line: 54>\u001B[0;34m()\u001B[0m\n\u001B[1;32m     53\u001B[0m accum_bits \u001B[38;5;241m=\u001B[39m []\n\u001B[1;32m     54\u001B[0m \u001B[38;5;28;01mfor\u001B[39;00m n_bits \u001B[38;5;129;01min\u001B[39;00m \u001B[38;5;28mrange\u001B[39m(\u001B[38;5;241m2\u001B[39m, \u001B[38;5;241m9\u001B[39m):\n\u001B[1;32m     55\u001B[0m     \u001B[38;5;66;03m# Compile and test the network with the Virtual Lib on the whole test set\u001B[39;00m\n\u001B[0;32m---> 56\u001B[0m     q_module_vl \u001B[38;5;241m=\u001B[39m \u001B[43mcompile_torch_model\u001B[49m\u001B[43m(\u001B[49m\n\u001B[1;32m     57\u001B[0m \u001B[43m        \u001B[49m\u001B[43mnet\u001B[49m\u001B[43m,\u001B[49m\n\u001B[1;32m     58\u001B[0m \u001B[43m        \u001B[49m\u001B[43mx_train\u001B[49m\u001B[43m,\u001B[49m\n\u001B[1;32m     59\u001B[0m \u001B[43m        \u001B[49m\u001B[43mn_bits\u001B[49m\u001B[38;5;241;43m=\u001B[39;49m\u001B[43mn_bits\u001B[49m\u001B[43m,\u001B[49m\n\u001B[1;32m     60\u001B[0m \u001B[43m        \u001B[49m\u001B[43muse_virtual_lib\u001B[49m\u001B[38;5;241;43m=\u001B[39;49m\u001B[38;5;28;43;01mTrue\u001B[39;49;00m\u001B[43m,\u001B[49m\n\u001B[1;32m     61\u001B[0m \u001B[43m        \u001B[49m\u001B[43mcompilation_configuration\u001B[49m\u001B[38;5;241;43m=\u001B[39;49m\u001B[43mcfg\u001B[49m\u001B[43m,\u001B[49m\n\u001B[1;32m     62\u001B[0m \u001B[43m    \u001B[49m\u001B[43m)\u001B[49m\n\u001B[1;32m     63\u001B[0m     \u001B[38;5;66;03m# pylint: disable=no-member\u001B[39;00m\n\u001B[1;32m     64\u001B[0m     accum_bits\u001B[38;5;241m.\u001B[39mappend(q_module_vl\u001B[38;5;241m.\u001B[39mforward_fhe\u001B[38;5;241m.\u001B[39mget_max_bit_width())\n",
      "File \u001B[0;32m~/.local/lib/python3.8/site-packages/concrete/ml/torch/compile.py:82\u001B[0m, in \u001B[0;36mcompile_torch_model\u001B[0;34m(torch_model, torch_inputset, compilation_configuration, compilation_artifacts, show_mlir, n_bits, use_virtual_lib)\u001B[0m\n\u001B[1;32m     80\u001B[0m \u001B[38;5;66;03m# Quantize with post-training static method, to have a model with integer weights\u001B[39;00m\n\u001B[1;32m     81\u001B[0m post_training_quant \u001B[38;5;241m=\u001B[39m PostTrainingAffineQuantization(n_bits, numpy_model, is_signed\u001B[38;5;241m=\u001B[39m\u001B[38;5;28;01mTrue\u001B[39;00m)\n\u001B[0;32m---> 82\u001B[0m quantized_module \u001B[38;5;241m=\u001B[39m \u001B[43mpost_training_quant\u001B[49m\u001B[38;5;241;43m.\u001B[39;49m\u001B[43mquantize_module\u001B[49m\u001B[43m(\u001B[49m\u001B[38;5;241;43m*\u001B[39;49m\u001B[43minputset_as_numpy_tuple\u001B[49m\u001B[43m)\u001B[49m\n\u001B[1;32m     84\u001B[0m \u001B[38;5;66;03m# Quantize input\u001B[39;00m\n\u001B[1;32m     85\u001B[0m quantized_numpy_inputset \u001B[38;5;241m=\u001B[39m \u001B[38;5;28mtuple\u001B[39m(QuantizedArray(n_bits, val) \u001B[38;5;28;01mfor\u001B[39;00m val \u001B[38;5;129;01min\u001B[39;00m inputset_as_numpy_tuple)\n",
      "File \u001B[0;32m~/.local/lib/python3.8/site-packages/concrete/ml/quantization/post_training.py:241\u001B[0m, in \u001B[0;36mPostTrainingAffineQuantization.quantize_module\u001B[0;34m(self, *calibration_data)\u001B[0m\n\u001B[1;32m    238\u001B[0m \u001B[38;5;66;03m# First transform all parameters to their quantized version\u001B[39;00m\n\u001B[1;32m    239\u001B[0m \u001B[38;5;28mself\u001B[39m\u001B[38;5;241m.\u001B[39m_quantize_params()\n\u001B[0;32m--> 241\u001B[0m \u001B[38;5;28;43mself\u001B[39;49m\u001B[38;5;241;43m.\u001B[39;49m\u001B[43m_quantize_layers\u001B[49m\u001B[43m(\u001B[49m\u001B[38;5;241;43m*\u001B[39;49m\u001B[43mcalibration_data\u001B[49m\u001B[43m)\u001B[49m\n\u001B[1;32m    242\u001B[0m \u001B[38;5;66;03m# Create quantized module from self.quant_layers_dict\u001B[39;00m\n\u001B[1;32m    243\u001B[0m quantized_module \u001B[38;5;241m=\u001B[39m QuantizedModule(\n\u001B[1;32m    244\u001B[0m     (graph_input\u001B[38;5;241m.\u001B[39mname \u001B[38;5;28;01mfor\u001B[39;00m graph_input \u001B[38;5;129;01min\u001B[39;00m \u001B[38;5;28mself\u001B[39m\u001B[38;5;241m.\u001B[39mnumpy_model\u001B[38;5;241m.\u001B[39monnx_model\u001B[38;5;241m.\u001B[39mgraph\u001B[38;5;241m.\u001B[39minput),\n\u001B[1;32m    245\u001B[0m     (graph_output\u001B[38;5;241m.\u001B[39mname \u001B[38;5;28;01mfor\u001B[39;00m graph_output \u001B[38;5;129;01min\u001B[39;00m \u001B[38;5;28mself\u001B[39m\u001B[38;5;241m.\u001B[39mnumpy_model\u001B[38;5;241m.\u001B[39monnx_model\u001B[38;5;241m.\u001B[39mgraph\u001B[38;5;241m.\u001B[39moutput),\n\u001B[1;32m    246\u001B[0m     \u001B[38;5;28mself\u001B[39m\u001B[38;5;241m.\u001B[39mquant_ops_dict,\n\u001B[1;32m    247\u001B[0m )\n",
      "File \u001B[0;32m~/.local/lib/python3.8/site-packages/concrete/ml/quantization/post_training.py:167\u001B[0m, in \u001B[0;36mPostTrainingAffineQuantization._quantize_layers\u001B[0;34m(self, *input_calibration_data)\u001B[0m\n\u001B[1;32m    164\u001B[0m assert_true(\u001B[38;5;28mall\u001B[39m(\u001B[38;5;28misinstance\u001B[39m(val, numpy\u001B[38;5;241m.\u001B[39mndarray) \u001B[38;5;28;01mfor\u001B[39;00m val \u001B[38;5;129;01min\u001B[39;00m curr_calibration_data))\n\u001B[1;32m    165\u001B[0m curr_calibration_data \u001B[38;5;241m=\u001B[39m cast(Tuple[numpy\u001B[38;5;241m.\u001B[39mndarray, \u001B[38;5;241m.\u001B[39m\u001B[38;5;241m.\u001B[39m\u001B[38;5;241m.\u001B[39m], curr_calibration_data)\n\u001B[0;32m--> 167\u001B[0m quantized_op_instance \u001B[38;5;241m=\u001B[39m \u001B[43mquantized_op_class\u001B[49m\u001B[43m(\u001B[49m\n\u001B[1;32m    168\u001B[0m \u001B[43m    \u001B[49m\u001B[38;5;28;43mself\u001B[39;49m\u001B[38;5;241;43m.\u001B[39;49m\u001B[43mn_bits_inputs\u001B[49m\u001B[43m,\u001B[49m\u001B[43m \u001B[49m\u001B[43mcurr_cst_inputs\u001B[49m\u001B[43m,\u001B[49m\u001B[43m \u001B[49m\u001B[38;5;241;43m*\u001B[39;49m\u001B[38;5;241;43m*\u001B[39;49m\u001B[43mattributes\u001B[49m\n\u001B[1;32m    169\u001B[0m \u001B[43m\u001B[49m\u001B[43m)\u001B[49m\n\u001B[1;32m    170\u001B[0m output_calibration_data \u001B[38;5;241m=\u001B[39m \u001B[38;5;28mself\u001B[39m\u001B[38;5;241m.\u001B[39m_calibrate_layers_activation(\n\u001B[1;32m    171\u001B[0m     variable_input_names, output_name, quantized_op_instance, \u001B[38;5;241m*\u001B[39mcurr_calibration_data\n\u001B[1;32m    172\u001B[0m )\n\u001B[1;32m    173\u001B[0m node_results[output_name] \u001B[38;5;241m=\u001B[39m output_calibration_data\n",
      "File \u001B[0;32m~/.local/lib/python3.8/site-packages/concrete/ml/quantization/quantized_ops.py:722\u001B[0m, in \u001B[0;36mQuantizedConv.__init__\u001B[0;34m(self, n_bits, constant_inputs, **attrs)\u001B[0m\n\u001B[1;32m    719\u001B[0m \u001B[38;5;28mself\u001B[39m\u001B[38;5;241m.\u001B[39mstrides \u001B[38;5;241m=\u001B[39m attrs\u001B[38;5;241m.\u001B[39mget(\u001B[38;5;124m\"\u001B[39m\u001B[38;5;124mstrides\u001B[39m\u001B[38;5;124m\"\u001B[39m, (\u001B[38;5;241m1\u001B[39m, \u001B[38;5;241m1\u001B[39m))\n\u001B[1;32m    721\u001B[0m \u001B[38;5;66;03m# Validate the parameters\u001B[39;00m\n\u001B[0;32m--> 722\u001B[0m \u001B[43massert_true\u001B[49m\u001B[43m(\u001B[49m\n\u001B[1;32m    723\u001B[0m \u001B[43m    \u001B[49m\u001B[38;5;28;43mlen\u001B[39;49m\u001B[43m(\u001B[49m\u001B[38;5;28;43mself\u001B[39;49m\u001B[38;5;241;43m.\u001B[39;49m\u001B[43mkernel_shape\u001B[49m\u001B[43m)\u001B[49m\u001B[43m \u001B[49m\u001B[38;5;241;43m==\u001B[39;49m\u001B[43m \u001B[49m\u001B[38;5;241;43m2\u001B[39;49m\u001B[43m,\u001B[49m\u001B[43m \u001B[49m\u001B[38;5;124;43m\"\u001B[39;49m\u001B[38;5;124;43mThe convolution operator currently supports only 2d\u001B[39;49m\u001B[38;5;124;43m\"\u001B[39;49m\n\u001B[1;32m    724\u001B[0m \u001B[43m\u001B[49m\u001B[43m)\u001B[49m\n\u001B[1;32m    725\u001B[0m assert_true(\n\u001B[1;32m    726\u001B[0m     \u001B[38;5;28mlen\u001B[39m(\u001B[38;5;28mself\u001B[39m\u001B[38;5;241m.\u001B[39mkernel_shape) \u001B[38;5;241m==\u001B[39m \u001B[38;5;28mlen\u001B[39m(\u001B[38;5;28mself\u001B[39m\u001B[38;5;241m.\u001B[39mstrides),\n\u001B[1;32m    727\u001B[0m     \u001B[38;5;124m\"\u001B[39m\u001B[38;5;124mThe convolution operator requires the number of strides to \u001B[39m\u001B[38;5;124m\"\u001B[39m\n\u001B[1;32m    728\u001B[0m     \u001B[38;5;124m\"\u001B[39m\u001B[38;5;124mbe the same as the number of kernel dimensions\u001B[39m\u001B[38;5;124m\"\u001B[39m,\n\u001B[1;32m    729\u001B[0m )\n\u001B[1;32m    730\u001B[0m assert_true(\n\u001B[1;32m    731\u001B[0m     \u001B[38;5;28mbool\u001B[39m(numpy\u001B[38;5;241m.\u001B[39mall(numpy\u001B[38;5;241m.\u001B[39masarray(\u001B[38;5;28mself\u001B[39m\u001B[38;5;241m.\u001B[39mdilations) \u001B[38;5;241m==\u001B[39m \u001B[38;5;241m1\u001B[39m)),\n\u001B[1;32m    732\u001B[0m     \u001B[38;5;124m\"\u001B[39m\u001B[38;5;124mThe convolution operator in Concrete Numpy does not suppport dilation\u001B[39m\u001B[38;5;124m\"\u001B[39m,\n\u001B[1;32m    733\u001B[0m )\n",
      "File \u001B[0;32m~/.local/lib/python3.8/site-packages/concrete/ml/common/debugging/custom_assert.py:40\u001B[0m, in \u001B[0;36massert_true\u001B[0;34m(condition, on_error_msg, error_type)\u001B[0m\n\u001B[1;32m     28\u001B[0m \u001B[38;5;28;01mdef\u001B[39;00m \u001B[38;5;21massert_true\u001B[39m(\n\u001B[1;32m     29\u001B[0m     condition: \u001B[38;5;28mbool\u001B[39m, on_error_msg: \u001B[38;5;28mstr\u001B[39m \u001B[38;5;241m=\u001B[39m \u001B[38;5;124m\"\u001B[39m\u001B[38;5;124m\"\u001B[39m, error_type: Type[\u001B[38;5;167;01mException\u001B[39;00m] \u001B[38;5;241m=\u001B[39m \u001B[38;5;167;01mAssertionError\u001B[39;00m\n\u001B[1;32m     30\u001B[0m ):\n\u001B[1;32m     31\u001B[0m     \u001B[38;5;124;03m\"\"\"Provide a custom assert to check that the condition is True.\u001B[39;00m\n\u001B[1;32m     32\u001B[0m \n\u001B[1;32m     33\u001B[0m \u001B[38;5;124;03m    Args:\u001B[39;00m\n\u001B[0;32m   (...)\u001B[0m\n\u001B[1;32m     38\u001B[0m \n\u001B[1;32m     39\u001B[0m \u001B[38;5;124;03m    \"\"\"\u001B[39;00m\n\u001B[0;32m---> 40\u001B[0m     \u001B[43m_custom_assert\u001B[49m\u001B[43m(\u001B[49m\u001B[43mcondition\u001B[49m\u001B[43m,\u001B[49m\u001B[43m \u001B[49m\u001B[43mon_error_msg\u001B[49m\u001B[43m,\u001B[49m\u001B[43m \u001B[49m\u001B[43merror_type\u001B[49m\u001B[43m)\u001B[49m\n",
      "File \u001B[0;32m~/.local/lib/python3.8/site-packages/concrete/ml/common/debugging/custom_assert.py:25\u001B[0m, in \u001B[0;36m_custom_assert\u001B[0;34m(condition, on_error_msg, error_type)\u001B[0m\n\u001B[1;32m      8\u001B[0m \u001B[38;5;124;03m\"\"\"Provide a custom assert which is kept even if the optimized python mode is used.\u001B[39;00m\n\u001B[1;32m      9\u001B[0m \n\u001B[1;32m     10\u001B[0m \u001B[38;5;124;03mSee https://docs.python.org/3/reference/simple_stmts.html#assert for the documentation\u001B[39;00m\n\u001B[0;32m   (...)\u001B[0m\n\u001B[1;32m     21\u001B[0m \n\u001B[1;32m     22\u001B[0m \u001B[38;5;124;03m\"\"\"\u001B[39;00m\n\u001B[1;32m     24\u001B[0m \u001B[38;5;28;01mif\u001B[39;00m \u001B[38;5;129;01mnot\u001B[39;00m condition:\n\u001B[0;32m---> 25\u001B[0m     \u001B[38;5;28;01mraise\u001B[39;00m error_type(on_error_msg)\n",
      "\u001B[0;31mAssertionError\u001B[0m: The convolution operator currently supports only 2d"
     ]
    }
   ],
   "source": [
    "cfg = CompilationConfiguration(\n",
    "    dump_artifacts_on_unexpected_failures=False,\n",
    "    enable_unsafe_features=True,  # This is for our tests only, never use that in prod\n",
    "    treat_warnings_as_errors=True,\n",
    "    use_insecure_key_cache=False,\n",
    ")\n",
    "\n",
    "\n",
    "def test_with_concrete_virtual_lib(quantized_module, test_loader, use_fhe, use_vl):\n",
    "    \"\"\"Test a neural network that is quantized and compiled with Concrete-ML.\"\"\"\n",
    "\n",
    "    # When running in FHE, we cast inputs to uint8, but when running using the Virtual Lib (VL)\n",
    "    # we may want inputs to exceed 8b to test quantization performance. Thus,\n",
    "    # for VL we cast to int32\n",
    "    dtype_inputs = np.uint8 if use_fhe else np.int32\n",
    "    all_y_pred = np.zeros((len(test_loader)), dtype=np.int32)\n",
    "    all_targets = np.zeros((len(test_loader)), dtype=np.int32)\n",
    "\n",
    "    # Iterate over the test batches and accumulate predictions and ground truth labels in a vector\n",
    "    idx = 0\n",
    "    for data, target in tqdm(test_loader):\n",
    "        data = data.numpy()\n",
    "        # Quantize the inputs and cast to appropriate data type\n",
    "        x_test_q = quantized_module.quantize_input(data).astype(dtype_inputs)\n",
    "\n",
    "        # Accumulate the ground truth labels\n",
    "        endidx = idx + target.shape[0]\n",
    "        all_targets[idx:endidx] = target.numpy()\n",
    "\n",
    "        # Iterate over single inputs\n",
    "        for i in range(x_test_q.shape[0]):\n",
    "            # Inputs must have size (N, C, H, W), we add the batch dimension with N=1\n",
    "            x_q = np.expand_dims(x_test_q[i, :], 0)\n",
    "\n",
    "            # Execute either in FHE (compiled or VL) or just in quantized\n",
    "            if use_fhe or use_vl:\n",
    "                out_fhe = quantized_module.forward_fhe.encrypt_run_decrypt(x_q)\n",
    "                output = quantized_module.dequantize_output(out_fhe)\n",
    "            else:\n",
    "                output = quantized_module.forward_and_dequant(x_q)\n",
    "\n",
    "            # Take the predicted class from the outputs and store it\n",
    "            y_pred = np.argmax(output, 1)\n",
    "            all_y_pred[idx] = y_pred\n",
    "            idx += 1\n",
    "\n",
    "    # Compute and report results\n",
    "    n_correct = np.sum(all_targets == all_y_pred)\n",
    "    return n_correct / len(test_loader)\n",
    "\n",
    "\n",
    "accs = []\n",
    "accum_bits = []\n",
    "for n_bits in range(2, 9):\n",
    "    # Compile and test the network with the Virtual Lib on the whole test set\n",
    "    q_module_vl = compile_torch_model(\n",
    "        net,\n",
    "        x_train,\n",
    "        n_bits=n_bits,\n",
    "        use_virtual_lib=True,\n",
    "        compilation_configuration=cfg,\n",
    "    )\n",
    "    # pylint: disable=no-member\n",
    "    accum_bits.append(q_module_vl.forward_fhe.get_max_bit_width())\n",
    "    # pylint: enable=no-member\n",
    "\n",
    "    accs.append(\n",
    "        test_with_concrete_virtual_lib(\n",
    "            q_module_vl,\n",
    "            test_dataloader,\n",
    "            use_fhe=False,\n",
    "            use_vl=True,\n",
    "        )\n",
    "    )"
   ],
   "metadata": {
    "collapsed": false,
    "pycharm": {
     "name": "#%%\n"
    }
   }
  },
  {
   "cell_type": "code",
   "execution_count": 75,
   "outputs": [
    {
     "ename": "ValueError",
     "evalue": "x and y must have same first dimension, but have shapes (7,) and (0,)",
     "output_type": "error",
     "traceback": [
      "\u001B[0;31m---------------------------------------------------------------------------\u001B[0m",
      "\u001B[0;31mValueError\u001B[0m                                Traceback (most recent call last)",
      "Input \u001B[0;32mIn [75]\u001B[0m, in \u001B[0;36m<cell line: 3>\u001B[0;34m()\u001B[0m\n\u001B[1;32m      1\u001B[0m fig \u001B[38;5;241m=\u001B[39m plt\u001B[38;5;241m.\u001B[39mfigure(figsize\u001B[38;5;241m=\u001B[39m(\u001B[38;5;241m12\u001B[39m, \u001B[38;5;241m8\u001B[39m))\n\u001B[1;32m      2\u001B[0m plt\u001B[38;5;241m.\u001B[39mrcParams[\u001B[38;5;124m\"\u001B[39m\u001B[38;5;124mfont.size\u001B[39m\u001B[38;5;124m\"\u001B[39m] \u001B[38;5;241m=\u001B[39m \u001B[38;5;241m14\u001B[39m\n\u001B[0;32m----> 3\u001B[0m \u001B[43mplt\u001B[49m\u001B[38;5;241;43m.\u001B[39;49m\u001B[43mplot\u001B[49m\u001B[43m(\u001B[49m\u001B[38;5;28;43mrange\u001B[39;49m\u001B[43m(\u001B[49m\u001B[38;5;241;43m2\u001B[39;49m\u001B[43m,\u001B[49m\u001B[43m \u001B[49m\u001B[38;5;241;43m9\u001B[39;49m\u001B[43m)\u001B[49m\u001B[43m,\u001B[49m\u001B[43m \u001B[49m\u001B[43maccs\u001B[49m\u001B[43m,\u001B[49m\u001B[43m \u001B[49m\u001B[38;5;124;43m\"\u001B[39;49m\u001B[38;5;124;43m-x\u001B[39;49m\u001B[38;5;124;43m\"\u001B[39;49m\u001B[43m)\u001B[49m\n\u001B[1;32m      4\u001B[0m \u001B[38;5;28;01mfor\u001B[39;00m bits, acc, accum \u001B[38;5;129;01min\u001B[39;00m \u001B[38;5;28mzip\u001B[39m(\u001B[38;5;28mrange\u001B[39m(\u001B[38;5;241m2\u001B[39m, \u001B[38;5;241m9\u001B[39m), accs, accum_bits):\n\u001B[1;32m      5\u001B[0m     plt\u001B[38;5;241m.\u001B[39mgca()\u001B[38;5;241m.\u001B[39mannotate(\u001B[38;5;28mstr\u001B[39m(accum), (bits \u001B[38;5;241m-\u001B[39m \u001B[38;5;241m0.1\u001B[39m, acc \u001B[38;5;241m+\u001B[39m \u001B[38;5;241m0.025\u001B[39m))\n",
      "File \u001B[0;32m~/.local/lib/python3.8/site-packages/matplotlib/pyplot.py:2757\u001B[0m, in \u001B[0;36mplot\u001B[0;34m(scalex, scaley, data, *args, **kwargs)\u001B[0m\n\u001B[1;32m   2755\u001B[0m \u001B[38;5;129m@_copy_docstring_and_deprecators\u001B[39m(Axes\u001B[38;5;241m.\u001B[39mplot)\n\u001B[1;32m   2756\u001B[0m \u001B[38;5;28;01mdef\u001B[39;00m \u001B[38;5;21mplot\u001B[39m(\u001B[38;5;241m*\u001B[39margs, scalex\u001B[38;5;241m=\u001B[39m\u001B[38;5;28;01mTrue\u001B[39;00m, scaley\u001B[38;5;241m=\u001B[39m\u001B[38;5;28;01mTrue\u001B[39;00m, data\u001B[38;5;241m=\u001B[39m\u001B[38;5;28;01mNone\u001B[39;00m, \u001B[38;5;241m*\u001B[39m\u001B[38;5;241m*\u001B[39mkwargs):\n\u001B[0;32m-> 2757\u001B[0m     \u001B[38;5;28;01mreturn\u001B[39;00m \u001B[43mgca\u001B[49m\u001B[43m(\u001B[49m\u001B[43m)\u001B[49m\u001B[38;5;241;43m.\u001B[39;49m\u001B[43mplot\u001B[49m\u001B[43m(\u001B[49m\n\u001B[1;32m   2758\u001B[0m \u001B[43m        \u001B[49m\u001B[38;5;241;43m*\u001B[39;49m\u001B[43margs\u001B[49m\u001B[43m,\u001B[49m\u001B[43m \u001B[49m\u001B[43mscalex\u001B[49m\u001B[38;5;241;43m=\u001B[39;49m\u001B[43mscalex\u001B[49m\u001B[43m,\u001B[49m\u001B[43m \u001B[49m\u001B[43mscaley\u001B[49m\u001B[38;5;241;43m=\u001B[39;49m\u001B[43mscaley\u001B[49m\u001B[43m,\u001B[49m\n\u001B[1;32m   2759\u001B[0m \u001B[43m        \u001B[49m\u001B[38;5;241;43m*\u001B[39;49m\u001B[38;5;241;43m*\u001B[39;49m\u001B[43m(\u001B[49m\u001B[43m{\u001B[49m\u001B[38;5;124;43m\"\u001B[39;49m\u001B[38;5;124;43mdata\u001B[39;49m\u001B[38;5;124;43m\"\u001B[39;49m\u001B[43m:\u001B[49m\u001B[43m \u001B[49m\u001B[43mdata\u001B[49m\u001B[43m}\u001B[49m\u001B[43m \u001B[49m\u001B[38;5;28;43;01mif\u001B[39;49;00m\u001B[43m \u001B[49m\u001B[43mdata\u001B[49m\u001B[43m \u001B[49m\u001B[38;5;129;43;01mis\u001B[39;49;00m\u001B[43m \u001B[49m\u001B[38;5;129;43;01mnot\u001B[39;49;00m\u001B[43m \u001B[49m\u001B[38;5;28;43;01mNone\u001B[39;49;00m\u001B[43m \u001B[49m\u001B[38;5;28;43;01melse\u001B[39;49;00m\u001B[43m \u001B[49m\u001B[43m{\u001B[49m\u001B[43m}\u001B[49m\u001B[43m)\u001B[49m\u001B[43m,\u001B[49m\u001B[43m \u001B[49m\u001B[38;5;241;43m*\u001B[39;49m\u001B[38;5;241;43m*\u001B[39;49m\u001B[43mkwargs\u001B[49m\u001B[43m)\u001B[49m\n",
      "File \u001B[0;32m~/.local/lib/python3.8/site-packages/matplotlib/axes/_axes.py:1632\u001B[0m, in \u001B[0;36mAxes.plot\u001B[0;34m(self, scalex, scaley, data, *args, **kwargs)\u001B[0m\n\u001B[1;32m   1390\u001B[0m \u001B[38;5;124;03m\"\"\"\u001B[39;00m\n\u001B[1;32m   1391\u001B[0m \u001B[38;5;124;03mPlot y versus x as lines and/or markers.\u001B[39;00m\n\u001B[1;32m   1392\u001B[0m \n\u001B[0;32m   (...)\u001B[0m\n\u001B[1;32m   1629\u001B[0m \u001B[38;5;124;03m(``'green'``) or hex strings (``'#008000'``).\u001B[39;00m\n\u001B[1;32m   1630\u001B[0m \u001B[38;5;124;03m\"\"\"\u001B[39;00m\n\u001B[1;32m   1631\u001B[0m kwargs \u001B[38;5;241m=\u001B[39m cbook\u001B[38;5;241m.\u001B[39mnormalize_kwargs(kwargs, mlines\u001B[38;5;241m.\u001B[39mLine2D)\n\u001B[0;32m-> 1632\u001B[0m lines \u001B[38;5;241m=\u001B[39m [\u001B[38;5;241m*\u001B[39m\u001B[38;5;28mself\u001B[39m\u001B[38;5;241m.\u001B[39m_get_lines(\u001B[38;5;241m*\u001B[39margs, data\u001B[38;5;241m=\u001B[39mdata, \u001B[38;5;241m*\u001B[39m\u001B[38;5;241m*\u001B[39mkwargs)]\n\u001B[1;32m   1633\u001B[0m \u001B[38;5;28;01mfor\u001B[39;00m line \u001B[38;5;129;01min\u001B[39;00m lines:\n\u001B[1;32m   1634\u001B[0m     \u001B[38;5;28mself\u001B[39m\u001B[38;5;241m.\u001B[39madd_line(line)\n",
      "File \u001B[0;32m~/.local/lib/python3.8/site-packages/matplotlib/axes/_base.py:312\u001B[0m, in \u001B[0;36m_process_plot_var_args.__call__\u001B[0;34m(self, data, *args, **kwargs)\u001B[0m\n\u001B[1;32m    310\u001B[0m     this \u001B[38;5;241m+\u001B[39m\u001B[38;5;241m=\u001B[39m args[\u001B[38;5;241m0\u001B[39m],\n\u001B[1;32m    311\u001B[0m     args \u001B[38;5;241m=\u001B[39m args[\u001B[38;5;241m1\u001B[39m:]\n\u001B[0;32m--> 312\u001B[0m \u001B[38;5;28;01myield from\u001B[39;00m \u001B[38;5;28;43mself\u001B[39;49m\u001B[38;5;241;43m.\u001B[39;49m\u001B[43m_plot_args\u001B[49m\u001B[43m(\u001B[49m\u001B[43mthis\u001B[49m\u001B[43m,\u001B[49m\u001B[43m \u001B[49m\u001B[43mkwargs\u001B[49m\u001B[43m)\u001B[49m\n",
      "File \u001B[0;32m~/.local/lib/python3.8/site-packages/matplotlib/axes/_base.py:498\u001B[0m, in \u001B[0;36m_process_plot_var_args._plot_args\u001B[0;34m(self, tup, kwargs, return_kwargs)\u001B[0m\n\u001B[1;32m    495\u001B[0m     \u001B[38;5;28mself\u001B[39m\u001B[38;5;241m.\u001B[39maxes\u001B[38;5;241m.\u001B[39myaxis\u001B[38;5;241m.\u001B[39mupdate_units(y)\n\u001B[1;32m    497\u001B[0m \u001B[38;5;28;01mif\u001B[39;00m x\u001B[38;5;241m.\u001B[39mshape[\u001B[38;5;241m0\u001B[39m] \u001B[38;5;241m!=\u001B[39m y\u001B[38;5;241m.\u001B[39mshape[\u001B[38;5;241m0\u001B[39m]:\n\u001B[0;32m--> 498\u001B[0m     \u001B[38;5;28;01mraise\u001B[39;00m \u001B[38;5;167;01mValueError\u001B[39;00m(\u001B[38;5;124mf\u001B[39m\u001B[38;5;124m\"\u001B[39m\u001B[38;5;124mx and y must have same first dimension, but \u001B[39m\u001B[38;5;124m\"\u001B[39m\n\u001B[1;32m    499\u001B[0m                      \u001B[38;5;124mf\u001B[39m\u001B[38;5;124m\"\u001B[39m\u001B[38;5;124mhave shapes \u001B[39m\u001B[38;5;132;01m{\u001B[39;00mx\u001B[38;5;241m.\u001B[39mshape\u001B[38;5;132;01m}\u001B[39;00m\u001B[38;5;124m and \u001B[39m\u001B[38;5;132;01m{\u001B[39;00my\u001B[38;5;241m.\u001B[39mshape\u001B[38;5;132;01m}\u001B[39;00m\u001B[38;5;124m\"\u001B[39m)\n\u001B[1;32m    500\u001B[0m \u001B[38;5;28;01mif\u001B[39;00m x\u001B[38;5;241m.\u001B[39mndim \u001B[38;5;241m>\u001B[39m \u001B[38;5;241m2\u001B[39m \u001B[38;5;129;01mor\u001B[39;00m y\u001B[38;5;241m.\u001B[39mndim \u001B[38;5;241m>\u001B[39m \u001B[38;5;241m2\u001B[39m:\n\u001B[1;32m    501\u001B[0m     \u001B[38;5;28;01mraise\u001B[39;00m \u001B[38;5;167;01mValueError\u001B[39;00m(\u001B[38;5;124mf\u001B[39m\u001B[38;5;124m\"\u001B[39m\u001B[38;5;124mx and y can be no greater than 2D, but have \u001B[39m\u001B[38;5;124m\"\u001B[39m\n\u001B[1;32m    502\u001B[0m                      \u001B[38;5;124mf\u001B[39m\u001B[38;5;124m\"\u001B[39m\u001B[38;5;124mshapes \u001B[39m\u001B[38;5;132;01m{\u001B[39;00mx\u001B[38;5;241m.\u001B[39mshape\u001B[38;5;132;01m}\u001B[39;00m\u001B[38;5;124m and \u001B[39m\u001B[38;5;132;01m{\u001B[39;00my\u001B[38;5;241m.\u001B[39mshape\u001B[38;5;132;01m}\u001B[39;00m\u001B[38;5;124m\"\u001B[39m)\n",
      "\u001B[0;31mValueError\u001B[0m: x and y must have same first dimension, but have shapes (7,) and (0,)"
     ]
    },
    {
     "data": {
      "text/plain": "<Figure size 864x576 with 1 Axes>",
      "image/png": "[encoded data removed]"
     },
     "metadata": {
      "needs_background": "light"
     },
     "output_type": "display_data"
    }
   ],
   "source": [
    "fig = plt.figure(figsize=(12, 8))\n",
    "plt.rcParams[\"font.size\"] = 14\n",
    "plt.plot(range(2, 9), accs, \"-x\")\n",
    "for bits, acc, accum in zip(range(2, 9), accs, accum_bits):\n",
    "    plt.gca().annotate(str(accum), (bits - 0.1, acc + 0.025))\n",
    "plt.ylabel(\"Accuracy on test set\")\n",
    "plt.xlabel(\"Weight & activation quantization\")\n",
    "plt.grid(True)\n",
    "plt.title(\"Accuracy for varying quantization bit width\")\n",
    "#add baseline, i.e. accuracy of normal model\n",
    "plt.axhline(y=test_acc, color='r', linestyle='-')\n",
    "plt.show()"
   ],
   "metadata": {
    "collapsed": false,
    "pycharm": {
     "name": "#%%\n"
    }
   }
  },
  {
   "cell_type": "markdown",
   "source": [
    "Big (final) issue: convolution operator only supports 2d at the moment, another limitation of concrete.\n",
    "Next, try a fully connected NN not necessarily with convolution"
   ],
   "metadata": {
    "collapsed": false,
    "pycharm": {
     "name": "#%% md\n"
    }
   }
  }
 ],
 "metadata": {
  "kernelspec": {
   "display_name": "Python 3",
   "language": "python",
   "name": "python3"
  },
  "language_info": {
   "codemirror_mode": {
    "name": "ipython",
    "version": 2
   },
   "file_extension": ".py",
   "mimetype": "text/x-python",
   "name": "python",
   "nbconvert_exporter": "python",
   "pygments_lexer": "ipython2",
   "version": "2.7.6"
  }
 },
 "nbformat": 4,
 "nbformat_minor": 0
}